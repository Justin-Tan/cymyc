{
 "cells": [
  {
   "cell_type": "markdown",
   "metadata": {},
   "source": [
    "# Approximation of the Ricci-flat metric on a manifold\n",
    "In this example notebook we consider a simple complex manifold $X$, and approximate the metric tensor on $X$ by optimisation of a variational objective derived from a PDE the metric tensor should solve.\n",
    "\n",
    "In more detail, the manifold $X$ is a Calabi-Yau threefold defined as a projective variety in $\\mathbb{P}^5$. This is the (mirror of the) intersection of two cubics in the ambient $\\mathbb{P}^5$.\n",
    "\n",
    "We wish to approximate the unique Ricci-flat metric on $X$ - that is, one whose associated Ricci curvature vanishes. We sample points from the manifold and obtain an approximation to the Ricci-flat metric via optimisation of an objective constructed from the Monge-Ampere equation."
   ]
  },
  {
   "cell_type": "code",
   "execution_count": 1,
   "metadata": {},
   "outputs": [],
   "source": [
    "import jax\n",
    "from jax import random\n",
    "import jax.numpy as jnp\n",
    "\n",
    "import os, time\n",
    "import numpy as np\n",
    "\n",
    "from cymyc.utils.pointgen_cicy import PointGenerator "
   ]
  },
  {
   "attachments": {},
   "cell_type": "markdown",
   "metadata": {},
   "source": [
    "## Manifold definition\n",
    "The manifold is explicitly defined as the zero locus of the following polynomials in the complex projective space $\\mathbb{P}^5$, where we let $Z_i$ denote local coordinates in the ambient projective space;\n",
    "\n",
    "\\begin{align*}\n",
    "P_1 &= Z_0^3 + Z_1^3 + Z_2^3 - 3 \\psi Z_3 Z_4 Z_5~, \\\\\n",
    "P_2 &= Z_3^3 + Z_4^3 + Z_5^3 - 3 \\psi Z_0 Z_1 Z_2~.\n",
    "\\end{align*}\n",
    "\n",
    "The single complex structure moduli direction corresponds to the trilinear polynomial deformations above, parameterised by $\\psi \\in \\mathbb{C}$. We'll choose the point $\\psi = 0.5$ in moduli space, which is away from singularities in the moduli space - see [this article for more details](https://arxiv.org/abs/2407.13836)."
   ]
  },
  {
   "cell_type": "code",
   "execution_count": 2,
   "metadata": {},
   "outputs": [],
   "source": [
    "# Choose value of moduli parameter psi\n",
    "psi = 0.5\n",
    "\n",
    "monomials_1 = np.asarray([\n",
    "    [3, 0, 0, 0, 0, 0],\n",
    "    [0, 3, 0, 0, 0, 0],\n",
    "    [0, 0, 3, 0, 0, 0],\n",
    "    [0, 0, 0, 1, 1, 1]], dtype=np.int64)\n",
    "\n",
    "monomials_2 = np.asarray([\n",
    "    [0, 0, 0, 3, 0, 0],\n",
    "    [0, 0, 0, 0, 3, 0],\n",
    "    [0, 0, 0, 0, 0, 3],\n",
    "    [1, 1, 1, 0, 0, 0]], dtype=np.int64)\n",
    "\n",
    "monomials = [monomials_1, monomials_2]\n",
    "\n",
    "cy_dim = 3\n",
    "kmoduli = np.ones(1)\n",
    "ambient = np.array([5])\n",
    "dim = 6\n",
    "\n",
    "coeff_fn = lambda psi: [np.append(np.ones(3), -3.0*psi), np.append(np.ones(3), -3.0*psi)]\n",
    "coefficients = coeff_fn(psi)\n",
    "poly_data = (monomials, cy_dim, kmoduli, ambient)"
   ]
  },
  {
   "cell_type": "markdown",
   "metadata": {},
   "source": [
    "## Point sampling\n",
    "\n",
    "We need to sample points from $X \\hookrightarrow \\mathbb{P}^n$ according to a known distribution in order to evaluate integrals via Monte Carlo integration. One way of doing this is to utilise the identification $\\mathbb{P}^n \\simeq S^{2n+1} / U(1)$.\n",
    "\n",
    "First we sample uniformly from the sphere $S^{2n+1}$, obtaining a uniformly distributed sample over $\\mathbb{P}^n$. Next, one constructs a line connecting pairs of points $p,q \\in \\mathbb{P}^n$, and identifies the points of intersection with the zero locus $\\{P_i=0\\}_i$. These points are distributed according to a quantifiable distribution $dA$ on $X$. We correct for the fact that these points are not uniformly distributed according to the canonical measure on $X$ by computing the associated importance weights [(Douglas et. al (2008))](https://doi.org/10.1063/1.2888403). "
   ]
  },
  {
   "cell_type": "code",
   "execution_count": 3,
   "metadata": {},
   "outputs": [],
   "source": [
    "seed = 42\n",
    "rng = random.PRNGKey(seed)\n",
    "rng, pg_rng, init_rng = random.split(rng, 3)\n",
    "dpath = \"data/X33_demo\"\n",
    "\n",
    "n_p = 400000  # Number of training points\n",
    "v_p = 200000  # Number of validation points\n",
    "\n",
    "import warnings\n",
    "warnings.filterwarnings('ignore')"
   ]
  },
  {
   "cell_type": "code",
   "execution_count": 4,
   "metadata": {},
   "outputs": [
    {
     "name": "stdout",
     "output_type": "stream",
     "text": [
      "Generating 600000 points ...\n"
     ]
    },
    {
     "name": "stderr",
     "output_type": "stream",
     "text": [
      "[Parallel(n_jobs=-1)]: Using backend MultiprocessingBackend with 16 concurrent workers.\n",
      "[Parallel(n_jobs=-1)]: Done   4 tasks      | elapsed:   16.4s\n",
      "[Parallel(n_jobs=-1)]: Done 150752 tasks      | elapsed:  1.1min\n",
      "[Parallel(n_jobs=-1)]: Done 489872 tasks      | elapsed:  2.5min\n",
      "[Parallel(n_jobs=-1)]: Done 603010 out of 603010 | elapsed:  3.0min finished\n"
     ]
    },
    {
     "name": "stdout",
     "output_type": "stream",
     "text": [
      "Max locus violation: 1.67721e-13\n"
     ]
    },
    {
     "name": "stderr",
     "output_type": "stream",
     "text": [
      "100%|█████████████████████████████████████████████████████████████████████████████████████████████████| 12/12 [00:04<00:00,  2.95it/s]\n"
     ]
    },
    {
     "name": "stdout",
     "output_type": "stream",
     "text": [
      "kappa: 0.0393404\n"
     ]
    }
   ],
   "source": [
    "pg_cicy = PointGenerator(rng, cy_dim, monomials, ambient, coefficients, kmoduli)\n",
    "cicy_pts = pg_cicy.sample_intersect_cicy(init_rng, n_p + v_p)\n",
    "pg_cicy.export(dpath, cicy_pts, n_p, v_p, psi, poly_data, coefficients)"
   ]
  },
  {
   "cell_type": "markdown",
   "metadata": {},
   "source": [
    "### Dataset metadata\n",
    "Here we save the metadata associated with the generated points to disk."
   ]
  },
  {
   "cell_type": "code",
   "execution_count": 5,
   "metadata": {},
   "outputs": [
    {
     "name": "stdout",
     "output_type": "stream",
     "text": [
      "Saving config file to experiments/X33_demo/X33_demo_METADATA.pkl\n",
      "Dataset size: (400000, 12), kappa: 0.0393404\n",
      "Vol[g]: 0.0277778, Vol[Ω]: 0.7060880\n"
     ]
    }
   ],
   "source": [
    "from cymyc import dataloading\n",
    "from cymyc.utils import gen_utils as utils\n",
    "from cymyc.approx.default_config import config\n",
    "\n",
    "class args(object):\n",
    "    # specify training config. For more options, see `src/approx/default_config`\n",
    "    name = 'X33_demo'\n",
    "    learning_rate = 1e-4\n",
    "    n_epochs = 128  # change as necessary!\n",
    "    dataset = dpath\n",
    "    batch_size = 1024\n",
    "    n_units = [48,48,48,48]\n",
    "\n",
    "# Override default arguments from config file with provided command line arguments\n",
    "config = utils.override_default_args(args, config)\n",
    "config = utils.read_metadata(config)  # load dataset metadata\n",
    "\n",
    "np_rng = np.random.default_rng()\n",
    "data_train, data_val, train_loader, val_loader, psi = dataloading.initialize_loaders_train(\n",
    "    np_rng      = np_rng,\n",
    "    data_path   = os.path.join(config.dataset, \"dataset.npz\"),\n",
    "    batch_size  = config.batch_size)"
   ]
  },
  {
   "cell_type": "markdown",
   "metadata": {},
   "source": [
    "## Ricci-flat metric optimisation"
   ]
  },
  {
   "cell_type": "code",
   "execution_count": 6,
   "metadata": {},
   "outputs": [],
   "source": [
    "import optax\n",
    "from functools import partial\n",
    "\n",
    "from cymyc.approx import models\n",
    "from cymyc.approx.train import create_train_state, train_step, callback"
   ]
  },
  {
   "attachments": {},
   "cell_type": "markdown",
   "metadata": {},
   "source": [
    "### Model construction\n",
    "Here we construct a spectral neural network to approximate the Ricci-flat metric. This constructed as an $\\partial\\overline{\\partial}$-exact correction to the corresponding Kähler form of some reference metric, one which is easily computable [(Larfors et. al. (2022))](https://iopscience.iop.org/article/10.1088/2632-2153/ac8e4e/meta).\n",
    "$$ \\tilde{\\omega} = \\omega_{\\text{ref}} + \\partial \\overline{\\partial} \\phi~.$$\n",
    "Thus the task reduces to finding a globally defined function $\\phi \\in C^{\\infty}(X)$ s.t. the metric corresponding to the approximating Kähler form $\\tilde{\\omega}$ satisfies the Ricci-flat condition, which says that the volume form induced by the metric coincides with the canonical volume form, up to a constant function,\n",
    "$$ \\omega^n \\propto \\Omega \\wedge \\overline{\\Omega} ~.$$\n",
    "This is a nonlinear PDE on $X$ for the function $\\phi$ - we encode this condition into a variational objective, discretise this via a neural network ansatz, and optimise to obtain a parameterised function describing a approximately Ricci-flat $\\tilde{\\omega}$. Note we are not using the Ricci curvature as the objective itself, as evaluation of third-order derivatives of a neural network is quite expensive - this is possible with our library though. \n",
    "\n",
    "In more detail, our ansatz consists of a projection of the input data $p \\in \\mathbb{P}^n$ into a $\\mathbb{C}^*$-invariant form, via the mapping $\\alpha_{n}\\colon \\mathbb{P}^{n}\t\\longrightarrow \\mathbb{C}^{n+1,n+1}$,\n",
    "whose action on a general point $p\\in [Z_0\\colon Z_1\\colon \\dots\\colon Z_{n}]\\in\\mathbb{P}^{n}$ is defined as:\n",
    "\n",
    "$$\\alpha_{n}(p) = \\left[\\begin{matrix}\n",
    "\t\t\\displaystyle \\frac{Z_0 \\overline{Z_0}}{|Z|^2} && \\displaystyle\\frac{Z_0 \\overline{Z_1}}{|Z|^2} && \\dots && \\displaystyle\\frac{Z_0 \\overline{Z_{n}}}{|Z|^2} \\\\\n",
    "\t\t\\displaystyle\\frac{Z_1 \\overline{Z_0}}{|Z|^2}  && \\displaystyle\\frac{Z_1 \\overline{Z_1}}{|Z|^2} && \\dots && \\displaystyle\\frac{Z_1 \\overline{Z_{n}}}{|Z|^2} \\\\\n",
    "\t\t\\vdots && \\vdots && \\ddots && \\vdots \\\\\n",
    "\t\t\\displaystyle \\frac{Z_{n} \\overline{Z_0}}{|Z|^2} && \\displaystyle\\frac{Z_{n} \\overline{Z_1}}{|Z|^2} && \\dots && \\displaystyle\\frac{Z_{n} \\overline{Z_{n}}}{|Z|^2}\n",
    "\t\\end{matrix}\\right] ~.$$\n",
    "\t\n",
    "This is followed by the conversion to real coordinates and the application of a standard feedforward neural network as below - this ensures the overall function learnt is a well-defined function on the ambient projective space.\n",
    "\n",
    "![spec_arch](assets/spectral_arch.png)\n",
    "\n",
    "Further note that,\n",
    "\n",
    "* The default architecture we use in all our experiments is a four-layer net with 48 units each and results are empirically insensitive to the exact choice of architecture/hyperparameters.\n",
    "* The spectral layer adapts to the size of the input - therefore a projective variety with a higher-dimensional description of local coordinates on the ambient space entails an architecture of higher complexity.\n",
    "\n",
    "Below we define the model and optimiser. "
   ]
  },
  {
   "cell_type": "code",
   "execution_count": 7,
   "metadata": {},
   "outputs": [
    {
     "name": "stdout",
     "output_type": "stream",
     "text": [
      "Compiling LearnedVector_spectral_nn.spectral_layer.\n"
     ]
    },
    {
     "name": "stderr",
     "output_type": "stream",
     "text": [
      "01:07:08 INFO - logger_setup: /home/jt796/github/alpha_prime/docs/examples\n",
      "01:07:08 INFO - <module>: \n",
      "\u001b[3m                     LearnedVector_spectral_nn_CICY Summary                     \u001b[0m\n",
      "┏━━━━━━━━━━┳━━━━━━━━━━━━━━━━━━┳━━━━━━━━━━━━━━━┳━━━━━━━━━━━━━┳━━━━━━━━━━━━━━━━━━┓\n",
      "┃\u001b[1m \u001b[0m\u001b[1mpath    \u001b[0m\u001b[1m \u001b[0m┃\u001b[1m \u001b[0m\u001b[1mmodule          \u001b[0m\u001b[1m \u001b[0m┃\u001b[1m \u001b[0m\u001b[1minputs       \u001b[0m\u001b[1m \u001b[0m┃\u001b[1m \u001b[0m\u001b[1moutputs    \u001b[0m\u001b[1m \u001b[0m┃\u001b[1m \u001b[0m\u001b[1mparams          \u001b[0m\u001b[1m \u001b[0m┃\n",
      "┡━━━━━━━━━━╇━━━━━━━━━━━━━━━━━━╇━━━━━━━━━━━━━━━╇━━━━━━━━━━━━━╇━━━━━━━━━━━━━━━━━━┩\n",
      "│          │ LearnedVector_s… │ \u001b[2mfloat64\u001b[0m[1,12] │ \u001b[2mfloat64\u001b[0m[]   │                  │\n",
      "├──────────┼──────────────────┼───────────────┼─────────────┼──────────────────┤\n",
      "│ layers_0 │ Dense            │ \u001b[2mfloat64\u001b[0m[36]   │ \u001b[2mfloat64\u001b[0m[48] │ bias:            │\n",
      "│          │                  │               │             │ \u001b[2mfloat32\u001b[0m[48]      │\n",
      "│          │                  │               │             │ kernel:          │\n",
      "│          │                  │               │             │ \u001b[2mfloat32\u001b[0m[36,48]   │\n",
      "│          │                  │               │             │                  │\n",
      "│          │                  │               │             │ \u001b[1m1,776 \u001b[0m\u001b[1;2m(7.1 KB)\u001b[0m   │\n",
      "├──────────┼──────────────────┼───────────────┼─────────────┼──────────────────┤\n",
      "│ layers_1 │ Dense            │ \u001b[2mfloat64\u001b[0m[48]   │ \u001b[2mfloat64\u001b[0m[48] │ bias:            │\n",
      "│          │                  │               │             │ \u001b[2mfloat32\u001b[0m[48]      │\n",
      "│          │                  │               │             │ kernel:          │\n",
      "│          │                  │               │             │ \u001b[2mfloat32\u001b[0m[48,48]   │\n",
      "│          │                  │               │             │                  │\n",
      "│          │                  │               │             │ \u001b[1m2,352 \u001b[0m\u001b[1;2m(9.4 KB)\u001b[0m   │\n",
      "├──────────┼──────────────────┼───────────────┼─────────────┼──────────────────┤\n",
      "│ layers_2 │ Dense            │ \u001b[2mfloat64\u001b[0m[48]   │ \u001b[2mfloat64\u001b[0m[48] │ bias:            │\n",
      "│          │                  │               │             │ \u001b[2mfloat32\u001b[0m[48]      │\n",
      "│          │                  │               │             │ kernel:          │\n",
      "│          │                  │               │             │ \u001b[2mfloat32\u001b[0m[48,48]   │\n",
      "│          │                  │               │             │                  │\n",
      "│          │                  │               │             │ \u001b[1m2,352 \u001b[0m\u001b[1;2m(9.4 KB)\u001b[0m   │\n",
      "├──────────┼──────────────────┼───────────────┼─────────────┼──────────────────┤\n",
      "│ layers_3 │ Dense            │ \u001b[2mfloat64\u001b[0m[48]   │ \u001b[2mfloat64\u001b[0m[48] │ bias:            │\n",
      "│          │                  │               │             │ \u001b[2mfloat32\u001b[0m[48]      │\n",
      "│          │                  │               │             │ kernel:          │\n",
      "│          │                  │               │             │ \u001b[2mfloat32\u001b[0m[48,48]   │\n",
      "│          │                  │               │             │                  │\n",
      "│          │                  │               │             │ \u001b[1m2,352 \u001b[0m\u001b[1;2m(9.4 KB)\u001b[0m   │\n",
      "├──────────┼──────────────────┼───────────────┼─────────────┼──────────────────┤\n",
      "│ scalar   │ Dense            │ \u001b[2mfloat64\u001b[0m[48]   │ \u001b[2mfloat64\u001b[0m[1]  │ bias: \u001b[2mfloat32\u001b[0m[1] │\n",
      "│          │                  │               │             │ kernel:          │\n",
      "│          │                  │               │             │ \u001b[2mfloat32\u001b[0m[48,1]    │\n",
      "│          │                  │               │             │                  │\n",
      "│          │                  │               │             │ \u001b[1m49 \u001b[0m\u001b[1;2m(196 B)\u001b[0m       │\n",
      "├──────────┼──────────────────┼───────────────┼─────────────┼──────────────────┤\n",
      "│\u001b[1m \u001b[0m\u001b[1m        \u001b[0m\u001b[1m \u001b[0m│\u001b[1m \u001b[0m\u001b[1m                \u001b[0m\u001b[1m \u001b[0m│\u001b[1m \u001b[0m\u001b[1m             \u001b[0m\u001b[1m \u001b[0m│\u001b[1m \u001b[0m\u001b[1m      Total\u001b[0m\u001b[1m \u001b[0m│\u001b[1m \u001b[0m\u001b[1m8,881 \u001b[0m\u001b[1;2m(35.5 KB)\u001b[0m\u001b[1m \u001b[0m\u001b[1m \u001b[0m│\n",
      "└──────────┴──────────────────┴───────────────┴─────────────┴──────────────────┘\n",
      "\u001b[1m                                                                                \u001b[0m\n",
      "\u001b[1m                       Total Parameters: 8,881 \u001b[0m\u001b[1;2m(35.5 KB)\u001b[0m\u001b[1m                        \u001b[0m\n",
      "\n",
      "\n"
     ]
    },
    {
     "name": "stdout",
     "output_type": "stream",
     "text": [
      "Compiling LearnedVector_spectral_nn.spectral_layer.\n"
     ]
    }
   ],
   "source": [
    "key, _key = jax.random.split(rng)\n",
    "\n",
    "metric_model = models.LearnedVector_spectral_nn_CICY(\n",
    "    dim=dim, ambient=ambient, n_units=config.n_units)\n",
    "\n",
    "g_FS_fn, g_correction_fn, *_ = models.helper_fns(config)\n",
    "\n",
    "optimizer = optax.adamw(config.learning_rate)\n",
    "metric_params, opt_state, init_rng = create_train_state(_key, metric_model, optimizer, data_dim=dim * 2)\n",
    "# partial closure\n",
    "metric_fn = partial(models.ddbar_phi_model, g_ref_fn=g_FS_fn, g_correction_fn=g_correction_fn)\n",
    "\n",
    "t0 = time.time()\n",
    "logger = utils.logger_setup('X33_demo', filepath=os.path.abspath(''))\n",
    "logger.info(metric_model.tabulate(init_rng, jnp.ones([1, config.n_ambient_coords * 2])))"
   ]
  },
  {
   "cell_type": "markdown",
   "metadata": {},
   "source": [
    "### Optimisation loop\n",
    "This is fairly standard - note Jax is more bare-metal than other libraries, so we write the looping logic ourselves. \n",
    "\n",
    "`jit` compilation introduces a delay the first time the `train_step` function is called, but executes quickly when called subsequently. We pay an initial up-front cost for compilation of Python functions into a form efficiently executable by an accelerator, which will be repaid during the execution itself."
   ]
  },
  {
   "cell_type": "code",
   "execution_count": 8,
   "metadata": {
    "scrolled": true
   },
   "outputs": [
    {
     "name": "stderr",
     "output_type": "stream",
     "text": [
      "01:07:08 INFO - <module>: Running on cuda:0\n"
     ]
    },
    {
     "name": "stdout",
     "output_type": "stream",
     "text": [
      "Compiling ddbar_phi_model\n",
      "Compiling phi_head\n",
      "Compiling LearnedVector_spectral_nn.spectral_layer.\n"
     ]
    },
    {
     "name": "stderr",
     "output_type": "stream",
     "text": [
      "01:07:49 INFO - callback: [40.6s]: [VAL] | Epoch: 0 | Iter: 0 | chi_form: -16.4110+0.0021j | det_g: 0.0018 | kahler_loss: 0.0000 | monge_ampere_loss: 0.3159 | objective: 0.2180 | ricci_scalar: -2.4697 | ricci_tensor_norm: 0.1828 | sigma_measure: 0.3108 | total_loss: 0.3159 | vol_CY: 0.0277 | vol_Omega: 0.7017 | vol_loss: 0.0001\n",
      "Epoch: 0:   0%|\u001b[32m                                                                                               \u001b[0m| 0/390 [00:00<?, ?it/s]\u001b[0m"
     ]
    },
    {
     "name": "stdout",
     "output_type": "stream",
     "text": [
      "Compiling ddbar_phi_model\n"
     ]
    },
    {
     "name": "stderr",
     "output_type": "stream",
     "text": [
      "Epoch: 0: 100%|\u001b[32m██████████████████████████████████████████████████████████████████████\u001b[0m| 390/390 [00:05<00:00, 73.91it/s, loss: 0.08698]\u001b[0m\n",
      "Epoch: 1: 100%|\u001b[32m█████████████████████████████████████████████████████████████████████\u001b[0m| 390/390 [00:00<00:00, 552.97it/s, loss: 0.07252]\u001b[0m\n",
      "Epoch: 2: 100%|\u001b[32m█████████████████████████████████████████████████████████████████████\u001b[0m| 390/390 [00:00<00:00, 516.66it/s, loss: 0.04069]\u001b[0m\n",
      "Epoch: 3: 100%|\u001b[32m█████████████████████████████████████████████████████████████████████\u001b[0m| 390/390 [00:00<00:00, 543.37it/s, loss: 0.03043]\u001b[0m\n",
      "Epoch: 4: 100%|\u001b[32m█████████████████████████████████████████████████████████████████████\u001b[0m| 390/390 [00:00<00:00, 559.37it/s, loss: 0.02590]\u001b[0m\n",
      "01:08:00 INFO - callback: [51.2s]: [VAL] | Epoch: 5 | Iter: 0 | chi_form: -15.8148-0.0011j | det_g: 0.0017 | kahler_loss: 0.0000 | monge_ampere_loss: 0.0400 | objective: 0.0281 | ricci_scalar: -0.0667 | ricci_tensor_norm: 0.0617 | sigma_measure: 0.0398 | total_loss: 0.0400 | vol_CY: 0.0278 | vol_Omega: 0.7063 | vol_loss: 0.0000\n",
      "Epoch: 5: 100%|\u001b[32m█████████████████████████████████████████████████████████████████████\u001b[0m| 390/390 [00:00<00:00, 534.26it/s, loss: 0.02712]\u001b[0m\n",
      "Epoch: 6: 100%|\u001b[32m█████████████████████████████████████████████████████████████████████\u001b[0m| 390/390 [00:00<00:00, 545.15it/s, loss: 0.02542]\u001b[0m\n",
      "Epoch: 7: 100%|\u001b[32m█████████████████████████████████████████████████████████████████████\u001b[0m| 390/390 [00:00<00:00, 542.33it/s, loss: 0.02351]\u001b[0m\n",
      "Epoch: 8: 100%|\u001b[32m█████████████████████████████████████████████████████████████████████\u001b[0m| 390/390 [00:00<00:00, 556.17it/s, loss: 0.02271]\u001b[0m\n",
      "Epoch: 9: 100%|\u001b[32m█████████████████████████████████████████████████████████████████████\u001b[0m| 390/390 [00:00<00:00, 551.86it/s, loss: 0.02232]\u001b[0m\n",
      "01:08:05 INFO - callback: [56.7s]: [VAL] | Epoch: 10 | Iter: 0 | chi_form: -14.7937-0.0005j | det_g: 0.0017 | kahler_loss: 0.0000 | monge_ampere_loss: 0.0301 | objective: 0.0213 | ricci_scalar: 0.1210 | ricci_tensor_norm: 0.0565 | sigma_measure: 0.0303 | total_loss: 0.0301 | vol_CY: 0.0276 | vol_Omega: 0.7012 | vol_loss: 0.0002\n",
      "Epoch: 10: 100%|\u001b[32m████████████████████████████████████████████████████████████████████\u001b[0m| 390/390 [00:00<00:00, 541.15it/s, loss: 0.02167]\u001b[0m\n",
      "Epoch: 11: 100%|\u001b[32m████████████████████████████████████████████████████████████████████\u001b[0m| 390/390 [00:00<00:00, 583.36it/s, loss: 0.02112]\u001b[0m\n",
      "Epoch: 12: 100%|\u001b[32m████████████████████████████████████████████████████████████████████\u001b[0m| 390/390 [00:00<00:00, 572.69it/s, loss: 0.02062]\u001b[0m\n",
      "Epoch: 13: 100%|\u001b[32m████████████████████████████████████████████████████████████████████\u001b[0m| 390/390 [00:00<00:00, 572.08it/s, loss: 0.01950]\u001b[0m\n",
      "Epoch: 14: 100%|\u001b[32m████████████████████████████████████████████████████████████████████\u001b[0m| 390/390 [00:00<00:00, 567.65it/s, loss: 0.01918]\u001b[0m\n",
      "01:08:10 INFO - callback: [62.0s]: [VAL] | Epoch: 15 | Iter: 0 | chi_form: -16.7367-0.0004j | det_g: 0.0017 | kahler_loss: 0.0000 | monge_ampere_loss: 0.0270 | objective: 0.0199 | ricci_scalar: 0.1132 | ricci_tensor_norm: 0.0545 | sigma_measure: 0.0279 | total_loss: 0.0270 | vol_CY: 0.0280 | vol_Omega: 0.7116 | vol_loss: 0.0002\n",
      "Epoch: 15: 100%|\u001b[32m████████████████████████████████████████████████████████████████████\u001b[0m| 390/390 [00:00<00:00, 556.96it/s, loss: 0.01770]\u001b[0m\n",
      "Epoch: 16: 100%|\u001b[32m████████████████████████████████████████████████████████████████████\u001b[0m| 390/390 [00:00<00:00, 552.54it/s, loss: 0.01788]\u001b[0m\n",
      "Epoch: 17: 100%|\u001b[32m████████████████████████████████████████████████████████████████████\u001b[0m| 390/390 [00:00<00:00, 557.87it/s, loss: 0.01757]\u001b[0m\n",
      "Epoch: 18: 100%|\u001b[32m████████████████████████████████████████████████████████████████████\u001b[0m| 390/390 [00:00<00:00, 568.36it/s, loss: 0.01780]\u001b[0m\n",
      "Epoch: 19: 100%|\u001b[32m████████████████████████████████████████████████████████████████████\u001b[0m| 390/390 [00:00<00:00, 568.29it/s, loss: 0.01727]\u001b[0m\n",
      "01:08:16 INFO - callback: [67.3s]: [VAL] | Epoch: 20 | Iter: 0 | chi_form: -15.2104-0.0003j | det_g: 0.0017 | kahler_loss: 0.0000 | monge_ampere_loss: 0.0235 | objective: 0.0172 | ricci_scalar: 0.0754 | ricci_tensor_norm: 0.0490 | sigma_measure: 0.0246 | total_loss: 0.0235 | vol_CY: 0.0275 | vol_Omega: 0.6996 | vol_loss: 0.0002\n",
      "Epoch: 20: 100%|\u001b[32m████████████████████████████████████████████████████████████████████\u001b[0m| 390/390 [00:00<00:00, 553.26it/s, loss: 0.01717]\u001b[0m\n",
      "Epoch: 21: 100%|\u001b[32m████████████████████████████████████████████████████████████████████\u001b[0m| 390/390 [00:00<00:00, 562.81it/s, loss: 0.01676]\u001b[0m\n",
      "Epoch: 22: 100%|\u001b[32m████████████████████████████████████████████████████████████████████\u001b[0m| 390/390 [00:00<00:00, 560.74it/s, loss: 0.01726]\u001b[0m\n",
      "Epoch: 23: 100%|\u001b[32m████████████████████████████████████████████████████████████████████\u001b[0m| 390/390 [00:00<00:00, 568.17it/s, loss: 0.01690]\u001b[0m\n",
      "Epoch: 24: 100%|\u001b[32m████████████████████████████████████████████████████████████████████\u001b[0m| 390/390 [00:00<00:00, 579.26it/s, loss: 0.01728]\u001b[0m\n",
      "01:08:21 INFO - callback: [72.8s]: [VAL] | Epoch: 25 | Iter: 0 | chi_form: -16.7436-0.0063j | det_g: 0.0018 | kahler_loss: 0.0000 | monge_ampere_loss: 0.0222 | objective: 0.0165 | ricci_scalar: -0.1657 | ricci_tensor_norm: 0.0507 | sigma_measure: 0.0232 | total_loss: 0.0222 | vol_CY: 0.0279 | vol_Omega: 0.7109 | vol_loss: 0.0002\n",
      "Epoch: 25: 100%|\u001b[32m████████████████████████████████████████████████████████████████████\u001b[0m| 390/390 [00:00<00:00, 571.35it/s, loss: 0.01634]\u001b[0m\n",
      "Epoch: 26: 100%|\u001b[32m████████████████████████████████████████████████████████████████████\u001b[0m| 390/390 [00:00<00:00, 571.25it/s, loss: 0.01704]\u001b[0m\n",
      "Epoch: 27: 100%|\u001b[32m████████████████████████████████████████████████████████████████████\u001b[0m| 390/390 [00:00<00:00, 552.76it/s, loss: 0.01682]\u001b[0m\n",
      "Epoch: 28: 100%|\u001b[32m████████████████████████████████████████████████████████████████████\u001b[0m| 390/390 [00:00<00:00, 542.56it/s, loss: 0.01522]\u001b[0m\n",
      "Epoch: 29: 100%|\u001b[32m████████████████████████████████████████████████████████████████████\u001b[0m| 390/390 [00:00<00:00, 560.42it/s, loss: 0.01640]\u001b[0m\n",
      "01:08:26 INFO - callback: [78.2s]: [VAL] | Epoch: 30 | Iter: 0 | chi_form: -15.9983+0.0004j | det_g: 0.0018 | kahler_loss: 0.0000 | monge_ampere_loss: 0.0207 | objective: 0.0154 | ricci_scalar: -0.0486 | ricci_tensor_norm: 0.0490 | sigma_measure: 0.0219 | total_loss: 0.0207 | vol_CY: 0.0276 | vol_Omega: 0.7030 | vol_loss: 0.0001\n",
      "Epoch: 30: 100%|\u001b[32m████████████████████████████████████████████████████████████████████\u001b[0m| 390/390 [00:00<00:00, 547.09it/s, loss: 0.01569]\u001b[0m\n",
      "Epoch: 31: 100%|\u001b[32m████████████████████████████████████████████████████████████████████\u001b[0m| 390/390 [00:00<00:00, 560.50it/s, loss: 0.01473]\u001b[0m\n",
      "Epoch: 32: 100%|\u001b[32m████████████████████████████████████████████████████████████████████\u001b[0m| 390/390 [00:00<00:00, 553.87it/s, loss: 0.01618]\u001b[0m\n",
      "Epoch: 33: 100%|\u001b[32m████████████████████████████████████████████████████████████████████\u001b[0m| 390/390 [00:00<00:00, 566.97it/s, loss: 0.01673]\u001b[0m\n",
      "Epoch: 34: 100%|\u001b[32m████████████████████████████████████████████████████████████████████\u001b[0m| 390/390 [00:00<00:00, 569.59it/s, loss: 0.01588]\u001b[0m\n",
      "01:08:32 INFO - callback: [83.5s]: [VAL] | Epoch: 35 | Iter: 0 | chi_form: -15.0681+0.0013j | det_g: 0.0017 | kahler_loss: 0.0000 | monge_ampere_loss: 0.0209 | objective: 0.0156 | ricci_scalar: 0.1388 | ricci_tensor_norm: 0.0468 | sigma_measure: 0.0219 | total_loss: 0.0209 | vol_CY: 0.0279 | vol_Omega: 0.7081 | vol_loss: 0.0001\n",
      "Epoch: 35: 100%|\u001b[32m████████████████████████████████████████████████████████████████████\u001b[0m| 390/390 [00:00<00:00, 566.04it/s, loss: 0.01505]\u001b[0m\n",
      "Epoch: 36: 100%|\u001b[32m████████████████████████████████████████████████████████████████████\u001b[0m| 390/390 [00:00<00:00, 565.27it/s, loss: 0.01496]\u001b[0m\n",
      "Epoch: 37: 100%|\u001b[32m████████████████████████████████████████████████████████████████████\u001b[0m| 390/390 [00:00<00:00, 559.03it/s, loss: 0.01482]\u001b[0m\n",
      "Epoch: 38: 100%|\u001b[32m████████████████████████████████████████████████████████████████████\u001b[0m| 390/390 [00:00<00:00, 563.08it/s, loss: 0.01404]\u001b[0m\n",
      "Epoch: 39: 100%|\u001b[32m████████████████████████████████████████████████████████████████████\u001b[0m| 390/390 [00:00<00:00, 555.46it/s, loss: 0.01587]\u001b[0m\n",
      "01:08:37 INFO - callback: [88.8s]: [VAL] | Epoch: 40 | Iter: 0 | chi_form: -17.5291+0.0007j | det_g: 0.0017 | kahler_loss: 0.0000 | monge_ampere_loss: 0.0205 | objective: 0.0157 | ricci_scalar: -0.1117 | ricci_tensor_norm: 0.0452 | sigma_measure: 0.0223 | total_loss: 0.0205 | vol_CY: 0.0279 | vol_Omega: 0.7103 | vol_loss: 0.0001\n",
      "Epoch: 40: 100%|\u001b[32m████████████████████████████████████████████████████████████████████\u001b[0m| 390/390 [00:00<00:00, 564.44it/s, loss: 0.01555]\u001b[0m\n",
      "Epoch: 41: 100%|\u001b[32m████████████████████████████████████████████████████████████████████\u001b[0m| 390/390 [00:00<00:00, 575.80it/s, loss: 0.01478]\u001b[0m\n",
      "Epoch: 42: 100%|\u001b[32m████████████████████████████████████████████████████████████████████\u001b[0m| 390/390 [00:00<00:00, 566.22it/s, loss: 0.01387]\u001b[0m\n",
      "Epoch: 43: 100%|\u001b[32m████████████████████████████████████████████████████████████████████\u001b[0m| 390/390 [00:00<00:00, 564.00it/s, loss: 0.01452]\u001b[0m\n",
      "Epoch: 44: 100%|\u001b[32m████████████████████████████████████████████████████████████████████\u001b[0m| 390/390 [00:00<00:00, 570.48it/s, loss: 0.01425]\u001b[0m\n",
      "01:08:43 INFO - callback: [94.3s]: [VAL] | Epoch: 45 | Iter: 0 | chi_form: -16.3788-0.0001j | det_g: 0.0016 | kahler_loss: 0.0000 | monge_ampere_loss: 0.0199 | objective: 0.0151 | ricci_scalar: -0.0176 | ricci_tensor_norm: 0.0445 | sigma_measure: 0.0213 | total_loss: 0.0199 | vol_CY: 0.0278 | vol_Omega: 0.7070 | vol_loss: 0.0000\n",
      "Epoch: 45: 100%|\u001b[32m████████████████████████████████████████████████████████████████████\u001b[0m| 390/390 [00:00<00:00, 533.12it/s, loss: 0.01410]\u001b[0m\n",
      "Epoch: 46: 100%|\u001b[32m████████████████████████████████████████████████████████████████████\u001b[0m| 390/390 [00:00<00:00, 579.39it/s, loss: 0.01476]\u001b[0m\n",
      "Epoch: 47: 100%|\u001b[32m████████████████████████████████████████████████████████████████████\u001b[0m| 390/390 [00:00<00:00, 591.40it/s, loss: 0.01350]\u001b[0m\n",
      "Epoch: 48: 100%|\u001b[32m████████████████████████████████████████████████████████████████████\u001b[0m| 390/390 [00:00<00:00, 589.18it/s, loss: 0.01411]\u001b[0m\n",
      "Epoch: 49: 100%|\u001b[32m████████████████████████████████████████████████████████████████████\u001b[0m| 390/390 [00:00<00:00, 578.26it/s, loss: 0.01445]\u001b[0m\n",
      "01:08:48 INFO - callback: [99.5s]: [VAL] | Epoch: 50 | Iter: 0 | chi_form: -15.4351-0.0047j | det_g: 0.0017 | kahler_loss: 0.0000 | monge_ampere_loss: 0.0203 | objective: 0.0150 | ricci_scalar: -0.0666 | ricci_tensor_norm: 0.0447 | sigma_measure: 0.0213 | total_loss: 0.0203 | vol_CY: 0.0276 | vol_Omega: 0.7028 | vol_loss: 0.0001\n",
      "Epoch: 50: 100%|\u001b[32m████████████████████████████████████████████████████████████████████\u001b[0m| 390/390 [00:00<00:00, 543.40it/s, loss: 0.01496]\u001b[0m\n",
      "Epoch: 51: 100%|\u001b[32m████████████████████████████████████████████████████████████████████\u001b[0m| 390/390 [00:00<00:00, 550.28it/s, loss: 0.01457]\u001b[0m\n",
      "Epoch: 52: 100%|\u001b[32m████████████████████████████████████████████████████████████████████\u001b[0m| 390/390 [00:00<00:00, 568.12it/s, loss: 0.01476]\u001b[0m\n",
      "Epoch: 53: 100%|\u001b[32m████████████████████████████████████████████████████████████████████\u001b[0m| 390/390 [00:00<00:00, 584.68it/s, loss: 0.01424]\u001b[0m\n",
      "Epoch: 54: 100%|\u001b[32m████████████████████████████████████████████████████████████████████\u001b[0m| 390/390 [00:00<00:00, 584.02it/s, loss: 0.01509]\u001b[0m\n",
      "01:08:53 INFO - callback: [104.8s]: [VAL] | Epoch: 55 | Iter: 0 | chi_form: -16.6794+0.0012j | det_g: 0.0017 | kahler_loss: 0.0000 | monge_ampere_loss: 0.0190 | objective: 0.0146 | ricci_scalar: -0.1573 | ricci_tensor_norm: 0.0422 | sigma_measure: 0.0209 | total_loss: 0.0190 | vol_CY: 0.0278 | vol_Omega: 0.7066 | vol_loss: 0.0000\n",
      "Epoch: 55: 100%|\u001b[32m████████████████████████████████████████████████████████████████████\u001b[0m| 390/390 [00:00<00:00, 574.86it/s, loss: 0.01484]\u001b[0m\n",
      "Epoch: 56: 100%|\u001b[32m████████████████████████████████████████████████████████████████████\u001b[0m| 390/390 [00:00<00:00, 598.10it/s, loss: 0.01469]\u001b[0m\n",
      "Epoch: 57: 100%|\u001b[32m████████████████████████████████████████████████████████████████████\u001b[0m| 390/390 [00:00<00:00, 595.26it/s, loss: 0.01469]\u001b[0m\n",
      "Epoch: 58: 100%|\u001b[32m████████████████████████████████████████████████████████████████████\u001b[0m| 390/390 [00:00<00:00, 597.54it/s, loss: 0.01602]\u001b[0m\n",
      "Epoch: 59: 100%|\u001b[32m████████████████████████████████████████████████████████████████████\u001b[0m| 390/390 [00:00<00:00, 568.80it/s, loss: 0.01345]\u001b[0m\n",
      "01:08:58 INFO - callback: [110.0s]: [VAL] | Epoch: 60 | Iter: 0 | chi_form: -16.3123-0.0006j | det_g: 0.0017 | kahler_loss: 0.0000 | monge_ampere_loss: 0.0188 | objective: 0.0143 | ricci_scalar: 0.0814 | ricci_tensor_norm: 0.0419 | sigma_measure: 0.0202 | total_loss: 0.0188 | vol_CY: 0.0278 | vol_Omega: 0.7075 | vol_loss: 0.0001\n",
      "Epoch: 60: 100%|\u001b[32m████████████████████████████████████████████████████████████████████\u001b[0m| 390/390 [00:00<00:00, 556.17it/s, loss: 0.01440]\u001b[0m\n",
      "Epoch: 61: 100%|\u001b[32m████████████████████████████████████████████████████████████████████\u001b[0m| 390/390 [00:00<00:00, 553.52it/s, loss: 0.01480]\u001b[0m\n",
      "Epoch: 62: 100%|\u001b[32m████████████████████████████████████████████████████████████████████\u001b[0m| 390/390 [00:00<00:00, 576.19it/s, loss: 0.01474]\u001b[0m\n",
      "Epoch: 63: 100%|\u001b[32m████████████████████████████████████████████████████████████████████\u001b[0m| 390/390 [00:00<00:00, 600.66it/s, loss: 0.01456]\u001b[0m\n",
      "Epoch: 64: 100%|\u001b[32m████████████████████████████████████████████████████████████████████\u001b[0m| 390/390 [00:00<00:00, 596.64it/s, loss: 0.01446]\u001b[0m\n",
      "01:09:03 INFO - callback: [115.2s]: [VAL] | Epoch: 65 | Iter: 0 | chi_form: -14.6079-0.0005j | det_g: 0.0018 | kahler_loss: 0.0000 | monge_ampere_loss: 0.0184 | objective: 0.0136 | ricci_scalar: 0.2066 | ricci_tensor_norm: 0.0412 | sigma_measure: 0.0193 | total_loss: 0.0184 | vol_CY: 0.0275 | vol_Omega: 0.6973 | vol_loss: 0.0003\n",
      "Epoch: 65: 100%|\u001b[32m████████████████████████████████████████████████████████████████████\u001b[0m| 390/390 [00:00<00:00, 546.51it/s, loss: 0.01389]\u001b[0m\n",
      "Epoch: 66: 100%|\u001b[32m████████████████████████████████████████████████████████████████████\u001b[0m| 390/390 [00:00<00:00, 564.78it/s, loss: 0.01374]\u001b[0m\n",
      "Epoch: 67: 100%|\u001b[32m████████████████████████████████████████████████████████████████████\u001b[0m| 390/390 [00:00<00:00, 572.42it/s, loss: 0.01350]\u001b[0m\n",
      "Epoch: 68: 100%|\u001b[32m████████████████████████████████████████████████████████████████████\u001b[0m| 390/390 [00:00<00:00, 575.36it/s, loss: 0.01397]\u001b[0m\n",
      "Epoch: 69: 100%|\u001b[32m████████████████████████████████████████████████████████████████████\u001b[0m| 390/390 [00:00<00:00, 545.29it/s, loss: 0.01446]\u001b[0m\n",
      "01:09:09 INFO - callback: [120.6s]: [VAL] | Epoch: 70 | Iter: 0 | chi_form: -14.5464+0.0008j | det_g: 0.0018 | kahler_loss: 0.0000 | monge_ampere_loss: 0.0178 | objective: 0.0132 | ricci_scalar: 0.1925 | ricci_tensor_norm: 0.0406 | sigma_measure: 0.0186 | total_loss: 0.0178 | vol_CY: 0.0276 | vol_Omega: 0.7013 | vol_loss: 0.0001\n",
      "Epoch: 70: 100%|\u001b[32m████████████████████████████████████████████████████████████████████\u001b[0m| 390/390 [00:00<00:00, 562.11it/s, loss: 0.01390]\u001b[0m\n",
      "Epoch: 71: 100%|\u001b[32m████████████████████████████████████████████████████████████████████\u001b[0m| 390/390 [00:00<00:00, 579.96it/s, loss: 0.01380]\u001b[0m\n",
      "Epoch: 72: 100%|\u001b[32m████████████████████████████████████████████████████████████████████\u001b[0m| 390/390 [00:00<00:00, 578.04it/s, loss: 0.01389]\u001b[0m\n",
      "Epoch: 73: 100%|\u001b[32m████████████████████████████████████████████████████████████████████\u001b[0m| 390/390 [00:00<00:00, 567.89it/s, loss: 0.01382]\u001b[0m\n",
      "Epoch: 74: 100%|\u001b[32m████████████████████████████████████████████████████████████████████\u001b[0m| 390/390 [00:00<00:00, 570.96it/s, loss: 0.01515]\u001b[0m\n",
      "01:09:14 INFO - callback: [125.8s]: [VAL] | Epoch: 75 | Iter: 0 | chi_form: -15.5138-0.0014j | det_g: 0.0017 | kahler_loss: 0.0000 | monge_ampere_loss: 0.0190 | objective: 0.0142 | ricci_scalar: 0.0844 | ricci_tensor_norm: 0.0408 | sigma_measure: 0.0202 | total_loss: 0.0190 | vol_CY: 0.0277 | vol_Omega: 0.7043 | vol_loss: 0.0001\n",
      "Epoch: 75: 100%|\u001b[32m████████████████████████████████████████████████████████████████████\u001b[0m| 390/390 [00:00<00:00, 537.14it/s, loss: 0.01485]\u001b[0m\n",
      "Epoch: 76: 100%|\u001b[32m████████████████████████████████████████████████████████████████████\u001b[0m| 390/390 [00:00<00:00, 557.21it/s, loss: 0.01428]\u001b[0m\n",
      "Epoch: 77: 100%|\u001b[32m████████████████████████████████████████████████████████████████████\u001b[0m| 390/390 [00:00<00:00, 569.46it/s, loss: 0.01468]\u001b[0m\n",
      "Epoch: 78: 100%|\u001b[32m████████████████████████████████████████████████████████████████████\u001b[0m| 390/390 [00:00<00:00, 558.60it/s, loss: 0.01451]\u001b[0m\n",
      "Epoch: 79: 100%|\u001b[32m████████████████████████████████████████████████████████████████████\u001b[0m| 390/390 [00:00<00:00, 557.04it/s, loss: 0.01448]\u001b[0m\n",
      "01:09:19 INFO - callback: [131.2s]: [VAL] | Epoch: 80 | Iter: 0 | chi_form: -15.7013-0.0012j | det_g: 0.0017 | kahler_loss: 0.0000 | monge_ampere_loss: 0.0180 | objective: 0.0137 | ricci_scalar: 0.0987 | ricci_tensor_norm: 0.0416 | sigma_measure: 0.0193 | total_loss: 0.0180 | vol_CY: 0.0278 | vol_Omega: 0.7067 | vol_loss: 0.0000\n",
      "Epoch: 80: 100%|\u001b[32m████████████████████████████████████████████████████████████████████\u001b[0m| 390/390 [00:00<00:00, 552.67it/s, loss: 0.01351]\u001b[0m\n",
      "Epoch: 81: 100%|\u001b[32m████████████████████████████████████████████████████████████████████\u001b[0m| 390/390 [00:00<00:00, 573.99it/s, loss: 0.01376]\u001b[0m\n",
      "Epoch: 82: 100%|\u001b[32m████████████████████████████████████████████████████████████████████\u001b[0m| 390/390 [00:00<00:00, 589.41it/s, loss: 0.01421]\u001b[0m\n",
      "Epoch: 83: 100%|\u001b[32m████████████████████████████████████████████████████████████████████\u001b[0m| 390/390 [00:00<00:00, 584.82it/s, loss: 0.01443]\u001b[0m\n",
      "Epoch: 84: 100%|\u001b[32m████████████████████████████████████████████████████████████████████\u001b[0m| 390/390 [00:00<00:00, 594.24it/s, loss: 0.01392]\u001b[0m\n",
      "01:09:25 INFO - callback: [136.5s]: [VAL] | Epoch: 85 | Iter: 0 | chi_form: -15.7914+0.0021j | det_g: 0.0017 | kahler_loss: 0.0000 | monge_ampere_loss: 0.0178 | objective: 0.0136 | ricci_scalar: 0.0645 | ricci_tensor_norm: 0.0415 | sigma_measure: 0.0192 | total_loss: 0.0178 | vol_CY: 0.0278 | vol_Omega: 0.7068 | vol_loss: 0.0000\n",
      "Epoch: 85: 100%|\u001b[32m████████████████████████████████████████████████████████████████████\u001b[0m| 390/390 [00:00<00:00, 567.61it/s, loss: 0.01420]\u001b[0m\n",
      "Epoch: 86: 100%|\u001b[32m████████████████████████████████████████████████████████████████████\u001b[0m| 390/390 [00:00<00:00, 578.86it/s, loss: 0.01279]\u001b[0m\n",
      "Epoch: 87: 100%|\u001b[32m████████████████████████████████████████████████████████████████████\u001b[0m| 390/390 [00:00<00:00, 564.54it/s, loss: 0.01329]\u001b[0m\n",
      "Epoch: 88: 100%|\u001b[32m████████████████████████████████████████████████████████████████████\u001b[0m| 390/390 [00:00<00:00, 565.32it/s, loss: 0.01346]\u001b[0m\n",
      "Epoch: 89: 100%|\u001b[32m████████████████████████████████████████████████████████████████████\u001b[0m| 390/390 [00:00<00:00, 551.71it/s, loss: 0.01366]\u001b[0m\n",
      "01:09:30 INFO - callback: [141.7s]: [VAL] | Epoch: 90 | Iter: 0 | chi_form: -15.8562-0.0004j | det_g: 0.0017 | kahler_loss: 0.0000 | monge_ampere_loss: 0.0181 | objective: 0.0136 | ricci_scalar: -0.1351 | ricci_tensor_norm: 0.0396 | sigma_measure: 0.0196 | total_loss: 0.0181 | vol_CY: 0.0275 | vol_Omega: 0.6996 | vol_loss: 0.0003\n",
      "Epoch: 90: 100%|\u001b[32m████████████████████████████████████████████████████████████████████\u001b[0m| 390/390 [00:00<00:00, 557.61it/s, loss: 0.01308]\u001b[0m\n",
      "Epoch: 91: 100%|\u001b[32m████████████████████████████████████████████████████████████████████\u001b[0m| 390/390 [00:00<00:00, 566.18it/s, loss: 0.01406]\u001b[0m\n",
      "Epoch: 92: 100%|\u001b[32m████████████████████████████████████████████████████████████████████\u001b[0m| 390/390 [00:00<00:00, 587.14it/s, loss: 0.01337]\u001b[0m\n",
      "Epoch: 93: 100%|\u001b[32m████████████████████████████████████████████████████████████████████\u001b[0m| 390/390 [00:00<00:00, 575.59it/s, loss: 0.01360]\u001b[0m\n",
      "Epoch: 94: 100%|\u001b[32m████████████████████████████████████████████████████████████████████\u001b[0m| 390/390 [00:00<00:00, 566.65it/s, loss: 0.01216]\u001b[0m\n",
      "01:09:35 INFO - callback: [147.0s]: [VAL] | Epoch: 95 | Iter: 0 | chi_form: -16.6212+0.0003j | det_g: 0.0017 | kahler_loss: 0.0000 | monge_ampere_loss: 0.0179 | objective: 0.0137 | ricci_scalar: -0.0041 | ricci_tensor_norm: 0.0412 | sigma_measure: 0.0193 | total_loss: 0.0179 | vol_CY: 0.0279 | vol_Omega: 0.7105 | vol_loss: 0.0002\n",
      "Epoch: 95: 100%|\u001b[32m████████████████████████████████████████████████████████████████████\u001b[0m| 390/390 [00:00<00:00, 550.23it/s, loss: 0.01290]\u001b[0m\n",
      "Epoch: 96: 100%|\u001b[32m████████████████████████████████████████████████████████████████████\u001b[0m| 390/390 [00:00<00:00, 553.97it/s, loss: 0.01363]\u001b[0m\n",
      "Epoch: 97: 100%|\u001b[32m████████████████████████████████████████████████████████████████████\u001b[0m| 390/390 [00:00<00:00, 554.39it/s, loss: 0.01354]\u001b[0m\n",
      "Epoch: 98: 100%|\u001b[32m████████████████████████████████████████████████████████████████████\u001b[0m| 390/390 [00:00<00:00, 578.50it/s, loss: 0.01413]\u001b[0m\n",
      "Epoch: 99: 100%|\u001b[32m████████████████████████████████████████████████████████████████████\u001b[0m| 390/390 [00:00<00:00, 562.38it/s, loss: 0.01293]\u001b[0m\n",
      "01:09:41 INFO - callback: [152.3s]: [VAL] | Epoch: 100 | Iter: 0 | chi_form: -15.4066+0.1187j | det_g: 0.0018 | kahler_loss: 0.0001 | monge_ampere_loss: 0.0177 | objective: 0.0132 | ricci_scalar: 0.0402 | ricci_tensor_norm: 0.0427 | sigma_measure: 0.0188 | total_loss: 0.0177 | vol_CY: 0.0276 | vol_Omega: 0.7022 | vol_loss: 0.0001\n",
      "Epoch: 100: 100%|\u001b[32m███████████████████████████████████████████████████████████████████\u001b[0m| 390/390 [00:00<00:00, 542.71it/s, loss: 0.01313]\u001b[0m\n",
      "Epoch: 101: 100%|\u001b[32m███████████████████████████████████████████████████████████████████\u001b[0m| 390/390 [00:00<00:00, 571.56it/s, loss: 0.01301]\u001b[0m\n",
      "Epoch: 102: 100%|\u001b[32m███████████████████████████████████████████████████████████████████\u001b[0m| 390/390 [00:00<00:00, 580.83it/s, loss: 0.01291]\u001b[0m\n",
      "Epoch: 103: 100%|\u001b[32m███████████████████████████████████████████████████████████████████\u001b[0m| 390/390 [00:00<00:00, 593.33it/s, loss: 0.01360]\u001b[0m\n",
      "Epoch: 104: 100%|\u001b[32m███████████████████████████████████████████████████████████████████\u001b[0m| 390/390 [00:00<00:00, 562.22it/s, loss: 0.01393]\u001b[0m\n",
      "01:09:46 INFO - callback: [157.5s]: [VAL] | Epoch: 105 | Iter: 0 | chi_form: -16.6164+0.0206j | det_g: 0.0017 | kahler_loss: 0.0000 | monge_ampere_loss: 0.0173 | objective: 0.0133 | ricci_scalar: -0.1254 | ricci_tensor_norm: 0.0402 | sigma_measure: 0.0190 | total_loss: 0.0173 | vol_CY: 0.0277 | vol_Omega: 0.7050 | vol_loss: 0.0001\n",
      "Epoch: 105: 100%|\u001b[32m███████████████████████████████████████████████████████████████████\u001b[0m| 390/390 [00:00<00:00, 533.99it/s, loss: 0.01300]\u001b[0m\n",
      "Epoch: 106: 100%|\u001b[32m███████████████████████████████████████████████████████████████████\u001b[0m| 390/390 [00:00<00:00, 568.37it/s, loss: 0.01374]\u001b[0m\n",
      "Epoch: 107: 100%|\u001b[32m███████████████████████████████████████████████████████████████████\u001b[0m| 390/390 [00:00<00:00, 593.86it/s, loss: 0.01392]\u001b[0m\n",
      "Epoch: 108: 100%|\u001b[32m███████████████████████████████████████████████████████████████████\u001b[0m| 390/390 [00:00<00:00, 558.92it/s, loss: 0.01303]\u001b[0m\n",
      "Epoch: 109: 100%|\u001b[32m███████████████████████████████████████████████████████████████████\u001b[0m| 390/390 [00:00<00:00, 561.56it/s, loss: 0.01356]\u001b[0m\n",
      "01:09:51 INFO - callback: [162.8s]: [VAL] | Epoch: 110 | Iter: 0 | chi_form: -15.7643+0.0008j | det_g: 0.0018 | kahler_loss: 0.0000 | monge_ampere_loss: 0.0171 | objective: 0.0130 | ricci_scalar: 0.0545 | ricci_tensor_norm: 0.0401 | sigma_measure: 0.0184 | total_loss: 0.0171 | vol_CY: 0.0278 | vol_Omega: 0.7060 | vol_loss: 0.0000\n",
      "Epoch: 110: 100%|\u001b[32m███████████████████████████████████████████████████████████████████\u001b[0m| 390/390 [00:00<00:00, 544.01it/s, loss: 0.01365]\u001b[0m\n",
      "Epoch: 111: 100%|\u001b[32m███████████████████████████████████████████████████████████████████\u001b[0m| 390/390 [00:00<00:00, 561.66it/s, loss: 0.01298]\u001b[0m\n",
      "Epoch: 112: 100%|\u001b[32m███████████████████████████████████████████████████████████████████\u001b[0m| 390/390 [00:00<00:00, 575.70it/s, loss: 0.01340]\u001b[0m\n",
      "Epoch: 113: 100%|\u001b[32m███████████████████████████████████████████████████████████████████\u001b[0m| 390/390 [00:00<00:00, 561.16it/s, loss: 0.01289]\u001b[0m\n",
      "Epoch: 114: 100%|\u001b[32m███████████████████████████████████████████████████████████████████\u001b[0m| 390/390 [00:00<00:00, 558.78it/s, loss: 0.01244]\u001b[0m\n",
      "01:09:56 INFO - callback: [168.2s]: [VAL] | Epoch: 115 | Iter: 0 | chi_form: -15.8133+0.0018j | det_g: 0.0017 | kahler_loss: 0.0000 | monge_ampere_loss: 0.0178 | objective: 0.0134 | ricci_scalar: 0.0583 | ricci_tensor_norm: 0.0395 | sigma_measure: 0.0189 | total_loss: 0.0178 | vol_CY: 0.0277 | vol_Omega: 0.7033 | vol_loss: 0.0001\n",
      "Epoch: 115: 100%|\u001b[32m███████████████████████████████████████████████████████████████████\u001b[0m| 390/390 [00:00<00:00, 561.33it/s, loss: 0.01374]\u001b[0m\n",
      "Epoch: 116: 100%|\u001b[32m███████████████████████████████████████████████████████████████████\u001b[0m| 390/390 [00:00<00:00, 563.72it/s, loss: 0.01440]\u001b[0m\n",
      "Epoch: 117: 100%|\u001b[32m███████████████████████████████████████████████████████████████████\u001b[0m| 390/390 [00:00<00:00, 553.61it/s, loss: 0.01280]\u001b[0m\n",
      "Epoch: 118: 100%|\u001b[32m███████████████████████████████████████████████████████████████████\u001b[0m| 390/390 [00:00<00:00, 569.07it/s, loss: 0.01361]\u001b[0m\n",
      "Epoch: 119: 100%|\u001b[32m███████████████████████████████████████████████████████████████████\u001b[0m| 390/390 [00:00<00:00, 564.03it/s, loss: 0.01274]\u001b[0m\n",
      "01:10:02 INFO - callback: [173.5s]: [VAL] | Epoch: 120 | Iter: 0 | chi_form: -16.5997+0.0012j | det_g: 0.0018 | kahler_loss: 0.0000 | monge_ampere_loss: 0.0181 | objective: 0.0140 | ricci_scalar: -0.0128 | ricci_tensor_norm: 0.0398 | sigma_measure: 0.0198 | total_loss: 0.0181 | vol_CY: 0.0279 | vol_Omega: 0.7103 | vol_loss: 0.0002\n",
      "Epoch: 120: 100%|\u001b[32m███████████████████████████████████████████████████████████████████\u001b[0m| 390/390 [00:00<00:00, 548.28it/s, loss: 0.01288]\u001b[0m\n",
      "Epoch: 121: 100%|\u001b[32m███████████████████████████████████████████████████████████████████\u001b[0m| 390/390 [00:00<00:00, 571.57it/s, loss: 0.01283]\u001b[0m\n",
      "Epoch: 122: 100%|\u001b[32m███████████████████████████████████████████████████████████████████\u001b[0m| 390/390 [00:00<00:00, 555.67it/s, loss: 0.01232]\u001b[0m\n",
      "Epoch: 123: 100%|\u001b[32m███████████████████████████████████████████████████████████████████\u001b[0m| 390/390 [00:00<00:00, 568.70it/s, loss: 0.01315]\u001b[0m\n",
      "Epoch: 124: 100%|\u001b[32m███████████████████████████████████████████████████████████████████\u001b[0m| 390/390 [00:00<00:00, 560.46it/s, loss: 0.01195]\u001b[0m\n",
      "01:10:07 INFO - callback: [178.9s]: [VAL] | Epoch: 125 | Iter: 0 | chi_form: -15.9892+0.0019j | det_g: 0.0017 | kahler_loss: 0.0000 | monge_ampere_loss: 0.0159 | objective: 0.0122 | ricci_scalar: 0.0331 | ricci_tensor_norm: 0.0379 | sigma_measure: 0.0173 | total_loss: 0.0159 | vol_CY: 0.0277 | vol_Omega: 0.7042 | vol_loss: 0.0001\n",
      "Epoch: 125: 100%|\u001b[32m███████████████████████████████████████████████████████████████████\u001b[0m| 390/390 [00:00<00:00, 528.88it/s, loss: 0.01358]\u001b[0m\n",
      "Epoch: 126: 100%|\u001b[32m███████████████████████████████████████████████████████████████████\u001b[0m| 390/390 [00:00<00:00, 576.35it/s, loss: 0.01306]\u001b[0m\n",
      "Epoch: 127: 100%|\u001b[32m███████████████████████████████████████████████████████████████████\u001b[0m| 390/390 [00:00<00:00, 560.75it/s, loss: 0.01242]\u001b[0m\n"
     ]
    }
   ],
   "source": [
    "import time\n",
    "from tqdm import tqdm\n",
    "from collections import defaultdict\n",
    "\n",
    "eval_interval = 5\n",
    "storage = defaultdict(list)\n",
    "\n",
    "try:\n",
    "    device = jax.devices('gpu')[0]\n",
    "except:\n",
    "    device = jax.devices('cpu')[0]\n",
    "\n",
    "with jax.default_device(device):\n",
    "    logger.info(f\"Running on {device}\")\n",
    "    \n",
    "    for epoch in range(config.n_epochs):\n",
    "        if (epoch % eval_interval == 0):\n",
    "            val_data = dataloading.get_validation_data(val_loader, config.batch_size, data_val, np_rng)\n",
    "            storage = callback(epoch, t0, 0, val_data, metric_params, metric_fn, g_FS_fn, config, storage, logger, mode='VAL')\n",
    "        \n",
    "        if epoch > 0:\n",
    "            train_loader = dataloading.data_loader(data_train, config.batch_size, np_rng)\n",
    "    \n",
    "        train_loader_it = tqdm(train_loader, desc=f\"Epoch: {epoch}\", total=data_train[0].shape[0]//config.batch_size,\n",
    "                               colour='green', mininterval=0.1)\n",
    "        for t, data in enumerate(train_loader_it):\n",
    "            metric_params, opt_state, loss = train_step(data, metric_params, opt_state, metric_fn, optimizer, config.kappa)\n",
    "            train_loader_it.set_postfix_str(f\"loss: {loss:.5f}\", refresh=False)\n",
    "\n",
    "# save parameters to disk\n",
    "utils.basic_ckpt(metric_params, opt_state, config.name, 'FIN')\n",
    "utils.save_logs(storage, config.name, 'FIN')"
   ]
  },
  {
   "cell_type": "markdown",
   "metadata": {},
   "source": [
    "## Sanity check\n",
    "\n",
    "As a sanity check, we may verify that the resulting metric is approximately Ricci-flat by investigating the behaviour of the Ricci tensor $\\textsf{Ric}$ and Ricci scalar $R$, defined in terms of the Riemann curvature tensor $\\textsf{Riem} \\in \\Omega^2(X; \\textsf{End}(T_X))$, respectively, over training:\n",
    "\\begin{align*}\n",
    "\\textsf{Ric}(X,Y) &= \\textsf{Tr}\\left(Z \\mapsto \\textsf{Riem}(Z,X)Y\\right), \\quad X, Y \\in \\Gamma(T_X)~,\\\\\n",
    "R &= \\textsf{Tr}(\\textsf{Ric})~.\n",
    "\\end{align*}"
   ]
  },
  {
   "cell_type": "code",
   "execution_count": 9,
   "metadata": {},
   "outputs": [],
   "source": [
    "import matplotlib.pyplot as plt\n",
    "from matplotlib.gridspec import GridSpec\n",
    "plt.rcParams.update({'font.size': 14})\n",
    "# remove if no local tex installation\n",
    "plt.rcParams['text.usetex'] = True \n",
    "plt.rcParams['text.latex.preamble'] = r'\\usepackage[cm]{sfmath} \\usepackage{amssymb} \\usepackage{mathrsfs} \\usepackage{amsmath}'\n",
    "plt.rcParams['font.sans-serif'] = 'cm'"
   ]
  },
  {
   "cell_type": "code",
   "execution_count": 10,
   "metadata": {},
   "outputs": [
    {
     "data": {
      "image/png": "[encoded data removed]",
      "text/plain": [
       "<Figure size 1700x700 with 2 Axes>"
      ]
     },
     "metadata": {},
     "output_type": "display_data"
    }
   ],
   "source": [
    "fig = plt.figure(figsize=(17,7))\n",
    "gs=GridSpec(1,2)\n",
    "ax1=fig.add_subplot(gs[0,0])\n",
    "ax2=fig.add_subplot(gs[0,1])\n",
    "\n",
    "S = np.abs(storage['ricci_scalar'])\n",
    "n = 32\n",
    "ax1.plot(np.arange(len(S))[:n], np.abs(S)[:n], c='royalblue')\n",
    "ax1.set_xlabel(f'Epochs/{eval_interval}')\n",
    "ax1.set_ylabel(r'$R$')\n",
    "ax1.grid(True, 'both')\n",
    "\n",
    "R = storage['ricci_tensor_norm']\n",
    "ax2.plot(np.arange(len(R))[:n], np.abs(R)[:n], c='royalblue')\n",
    "ax2.set_xlabel(f'Epochs/{eval_interval}')\n",
    "ax2.set_ylabel(r'$\\Vert \\textsf{Ric} \\Vert_2$')\n",
    "ax2.grid(True, 'both')"
   ]
  },
  {
   "cell_type": "markdown",
   "metadata": {},
   "source": [
    "Now that we have an approximation to the Ricci-flat metric on $X$, we can use this to do geometry - e.g. measure lengths, areas, volumes, and study the spectrum of various differential operators. See the `harmonic_forms` example notebook, where we use the learnt metric to find the zero modes of the Laplacian on $X$. "
   ]
  }
 ],
 "metadata": {
  "kernelspec": {
   "display_name": "Python 3 (ipykernel)",
   "language": "python",
   "name": "python3"
  },
  "language_info": {
   "codemirror_mode": {
    "name": "ipython",
    "version": 3
   },
   "file_extension": ".py",
   "mimetype": "text/x-python",
   "name": "python",
   "nbconvert_exporter": "python",
   "pygments_lexer": "ipython3",
   "version": "3.10.12"
  }
 },
 "nbformat": 4,
 "nbformat_minor": 4
}
