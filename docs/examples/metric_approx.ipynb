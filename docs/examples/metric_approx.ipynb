{
 "cells": [
  {
   "cell_type": "markdown",
   "metadata": {},
   "source": [
    "# Approximation of the Ricci-flat metric on a manifold\n",
    "In this example notebook we consider a simple complex manifold $X$, and approximate the metric tensor on $X$ by optimisation of a variational objective derived from a PDE the metric tensor should solve.\n",
    "\n",
    "In more detail, the manifold $X$ is a Calabi-Yau threefold defined as a projective variety in $\\mathbb{P}^5$. This is the (mirror of the) intersection of two cubics in the ambient $\\mathbb{P}^5$.\n",
    "\n",
    "We wish to approximate the unique Ricci-flat metric on $X$ - that is, one whose associated Ricci curvature vanishes. We sample points from the manifold and obtain an approximation to the Ricci-flat metric via optimisation of an objective constructed from the Monge-Ampere equation."
   ]
  },
  {
   "cell_type": "code",
   "execution_count": 1,
   "metadata": {},
   "outputs": [],
   "source": [
    "import jax\n",
    "from jax import random\n",
    "import jax.numpy as jnp\n",
    "\n",
    "import os, time\n",
    "import numpy as np\n",
    "\n",
    "from cymyc.utils.pointgen_cicy import PointGenerator "
   ]
  },
  {
   "attachments": {},
   "cell_type": "markdown",
   "metadata": {},
   "source": [
    "## Manifold definition\n",
    "The manifold is explicitly defined as the zero locus of the following polynomials in the complex projective space $\\mathbb{P}^5$, where we let $Z_i$ denote local coordinates in the ambient projective space;\n",
    "\n",
    "\\begin{align*}\n",
    "P_1 &= Z_0^3 + Z_1^3 + Z_2^3 - 3 \\psi Z_3 Z_4 Z_5~, \\\\\n",
    "P_2 &= Z_3^3 + Z_4^3 + Z_5^3 - 3 \\psi Z_0 Z_1 Z_2~.\n",
    "\\end{align*}\n",
    "\n",
    "The single complex structure moduli direction corresponds to the trilinear polynomial deformations above, parameterised by $\\psi \\in \\mathbb{C}$. We'll choose the point $\\psi = 0.5$ in moduli space, which is away from singularities in the moduli space - see [this article for more details](https://arxiv.org/abs/2407.13836)."
   ]
  },
  {
   "cell_type": "code",
   "execution_count": 2,
   "metadata": {},
   "outputs": [],
   "source": [
    "# Choose value of moduli parameter psi\n",
    "psi = 0.5\n",
    "\n",
    "monomials_1 = np.asarray([\n",
    "    [3, 0, 0, 0, 0, 0],\n",
    "    [0, 3, 0, 0, 0, 0],\n",
    "    [0, 0, 3, 0, 0, 0],\n",
    "    [0, 0, 0, 1, 1, 1]], dtype=np.int64)\n",
    "\n",
    "monomials_2 = np.asarray([\n",
    "    [0, 0, 0, 3, 0, 0],\n",
    "    [0, 0, 0, 0, 3, 0],\n",
    "    [0, 0, 0, 0, 0, 3],\n",
    "    [1, 1, 1, 0, 0, 0]], dtype=np.int64)\n",
    "\n",
    "monomials = [monomials_1, monomials_2]\n",
    "\n",
    "cy_dim = 3\n",
    "kmoduli = np.ones(1)\n",
    "ambient = np.array([5])\n",
    "dim = 6\n",
    "\n",
    "coeff_fn = lambda psi: [np.append(np.ones(3), -3.0*psi), np.append(np.ones(3), -3.0*psi)]\n",
    "coefficients = coeff_fn(psi)\n",
    "poly_data = (monomials, cy_dim, kmoduli, ambient)"
   ]
  },
  {
   "cell_type": "markdown",
   "metadata": {},
   "source": [
    "## Point sampling\n",
    "\n",
    "We need to sample points from $X \\hookrightarrow \\mathbb{P}^n$ according to a known distribution in order to evaluate integrals via Monte Carlo integration. One way of doing this is to utilise the identification $\\mathbb{P}^n \\simeq S^{2n+1} / U(1)$.\n",
    "\n",
    "First we sample uniformly from the sphere $S^{2n+1}$, obtaining a uniformly distributed sample over $\\mathbb{P}^n$. Next, one constructs a line connecting pairs of points $p,q \\in \\mathbb{P}^n$, and identifies the points of intersection with the zero locus $\\{P_i=0\\}_i$. These points are distributed according to a quantifiable distribution $dA$ on $X$. We correct for the fact that these points are not uniformly distributed according to the canonical measure on $X$ by computing the associated importance weights [(Douglas et. al (2008))](https://doi.org/10.1063/1.2888403). "
   ]
  },
  {
   "cell_type": "code",
   "execution_count": 3,
   "metadata": {},
   "outputs": [],
   "source": [
    "seed = 42\n",
    "rng = random.PRNGKey(seed)\n",
    "rng, pg_rng, init_rng = random.split(rng, 3)\n",
    "dpath = \"data/X33_demo\"\n",
    "\n",
    "n_p = 400000  # Number of training points\n",
    "v_p = 200000  # Number of validation points\n",
    "\n",
    "import warnings\n",
    "warnings.filterwarnings('ignore')"
   ]
  },
  {
   "cell_type": "code",
   "execution_count": 4,
   "metadata": {},
   "outputs": [
    {
     "name": "stdout",
     "output_type": "stream",
     "text": [
      "Generating 600000 points ...\n"
     ]
    },
    {
     "name": "stderr",
     "output_type": "stream",
     "text": [
      "[Parallel(n_jobs=-1)]: Using backend MultiprocessingBackend with 16 concurrent workers.\n",
      "[Parallel(n_jobs=-1)]: Done   4 tasks      | elapsed:   16.2s\n",
      "[Parallel(n_jobs=-1)]: Done 150752 tasks      | elapsed:  1.1min\n",
      "[Parallel(n_jobs=-1)]: Done 489872 tasks      | elapsed:  2.5min\n",
      "[Parallel(n_jobs=-1)]: Done 603010 out of 603010 | elapsed:  2.9min finished\n"
     ]
    },
    {
     "name": "stdout",
     "output_type": "stream",
     "text": [
      "Max locus violation: 1.67721e-13\n",
      "Using kmoduli, [1.]\n"
     ]
    },
    {
     "name": "stderr",
     "output_type": "stream",
     "text": [
      "100%|█████████████████████████████████████████████████████████████████████████████████████████████████████████████████████████████████████████████████████████████████████████████████████████████████████████████████████████████████████████| 12/12 [00:04<00:00,  2.97it/s]\n"
     ]
    },
    {
     "name": "stdout",
     "output_type": "stream",
     "text": [
      "Volume 9*t_0**3\n",
      "Volume at chosen Kahler moduli 9.0\n",
      "kappa: 0.0393404\n"
     ]
    }
   ],
   "source": [
    "pg_cicy = PointGenerator(rng, cy_dim, monomials, ambient, coefficients, kmoduli)\n",
    "cicy_pts = pg_cicy.sample_intersect_cicy(init_rng, n_p + v_p)\n",
    "pg_cicy.export(dpath, cicy_pts, n_p, v_p, psi, poly_data, coefficients)"
   ]
  },
  {
   "cell_type": "markdown",
   "metadata": {},
   "source": [
    "### Dataset metadata\n",
    "Here we save the metadata associated with the generated points to disk."
   ]
  },
  {
   "cell_type": "code",
   "execution_count": 5,
   "metadata": {},
   "outputs": [
    {
     "name": "stdout",
     "output_type": "stream",
     "text": [
      "Saving config file to experiments/X33_demo/X33_demo_METADATA.pkl\n",
      "Dataset size: (400000, 12), kappa: 0.0393404\n",
      "Vol[g]: 0.0277778, Vol[Ω]: 0.7060880\n"
     ]
    }
   ],
   "source": [
    "from cymyc import dataloading\n",
    "from cymyc.utils import gen_utils as utils\n",
    "from cymyc.approx.default_config import config\n",
    "\n",
    "class args(object):\n",
    "    # specify training config. For more options, see `src/approx/default_config`\n",
    "    name = 'X33_demo'\n",
    "    learning_rate = 1e-4\n",
    "    n_epochs = 128  # change as necessary!\n",
    "    dataset = dpath\n",
    "    batch_size = 1024\n",
    "    n_units = [48,48,48,48]\n",
    "\n",
    "# Override default arguments from config file with provided command line arguments\n",
    "config = utils.override_default_args(args, config)\n",
    "config = utils.read_metadata(config)  # load dataset metadata\n",
    "\n",
    "np_rng = np.random.default_rng()\n",
    "data_train, data_val, train_loader, val_loader, psi = dataloading.initialize_loaders_train(\n",
    "    np_rng      = np_rng,\n",
    "    data_path   = os.path.join(config.dataset, \"dataset.npz\"),\n",
    "    batch_size  = config.batch_size)"
   ]
  },
  {
   "cell_type": "markdown",
   "metadata": {},
   "source": [
    "## Ricci-flat metric optimisation"
   ]
  },
  {
   "cell_type": "code",
   "execution_count": 6,
   "metadata": {},
   "outputs": [],
   "source": [
    "import optax\n",
    "from functools import partial\n",
    "\n",
    "from cymyc.approx import models\n",
    "from cymyc.approx.train import create_train_state, train_step, callback"
   ]
  },
  {
   "attachments": {},
   "cell_type": "markdown",
   "metadata": {},
   "source": [
    "### Model construction\n",
    "Here we construct a spectral neural network to approximate the Ricci-flat metric. This constructed as an $\\partial\\overline{\\partial}$-exact correction to the corresponding Kähler form of some reference metric, one which is easily computable [(Larfors et. al. (2022))](https://iopscience.iop.org/article/10.1088/2632-2153/ac8e4e/meta).\n",
    "$$ \\tilde{\\omega} = \\omega_{\\text{ref}} + \\partial \\overline{\\partial} \\phi~.$$\n",
    "Thus the task reduces to finding a globally defined function $\\phi \\in C^{\\infty}(X)$ s.t. the metric corresponding to the approximating Kähler form $\\tilde{\\omega}$ satisfies the Ricci-flat condition, which says that the volume form induced by the metric coincides with the canonical volume form, up to a constant function,\n",
    "$$ \\omega^n \\propto \\Omega \\wedge \\overline{\\Omega} ~.$$\n",
    "This is a nonlinear PDE on $X$ for the function $\\phi$ - we encode this condition into a variational objective, discretise this via a neural network ansatz, and optimise to obtain a parameterised function describing a approximately Ricci-flat $\\tilde{\\omega}$. Note we are not using the Ricci curvature as the objective itself, as evaluation of third-order derivatives of a neural network is quite expensive - this is possible with our library though. \n",
    "\n",
    "In more detail, our ansatz consists of a projection of the input data $p \\in \\mathbb{P}^n$ into a $\\mathbb{C}^*$-invariant form, via the mapping $\\alpha_{n}\\colon \\mathbb{P}^{n}\t\\longrightarrow \\mathbb{C}^{n+1,n+1}$,\n",
    "whose action on a general point $p\\in [Z_0\\colon Z_1\\colon \\dots\\colon Z_{n}]\\in\\mathbb{P}^{n}$ is defined as:\n",
    "\n",
    "$$\\alpha_{n}(p) = \\left[\\begin{matrix}\n",
    "\t\t\\displaystyle \\frac{Z_0 \\overline{Z_0}}{|Z|^2} && \\displaystyle\\frac{Z_0 \\overline{Z_1}}{|Z|^2} && \\dots && \\displaystyle\\frac{Z_0 \\overline{Z_{n}}}{|Z|^2} \\\\\n",
    "\t\t\\displaystyle\\frac{Z_1 \\overline{Z_0}}{|Z|^2}  && \\displaystyle\\frac{Z_1 \\overline{Z_1}}{|Z|^2} && \\dots && \\displaystyle\\frac{Z_1 \\overline{Z_{n}}}{|Z|^2} \\\\\n",
    "\t\t\\vdots && \\vdots && \\ddots && \\vdots \\\\\n",
    "\t\t\\displaystyle \\frac{Z_{n} \\overline{Z_0}}{|Z|^2} && \\displaystyle\\frac{Z_{n} \\overline{Z_1}}{|Z|^2} && \\dots && \\displaystyle\\frac{Z_{n} \\overline{Z_{n}}}{|Z|^2}\n",
    "\t\\end{matrix}\\right] ~.$$\n",
    "\t\n",
    "This is followed by the conversion to real coordinates and the application of a standard feedforward neural network as below - this ensures the overall function learnt is a well-defined function on the ambient projective space.\n",
    "\n",
    "![spec_arch](assets/spectral_arch.png)\n",
    "\n",
    "Further note that,\n",
    "\n",
    "* The default architecture we use in all our experiments is a four-layer net with 48 units each and results are empirically insensitive to the exact choice of architecture/hyperparameters.\n",
    "* The spectral layer adapts to the size of the input - therefore a projective variety with a higher-dimensional description of local coordinates on the ambient space entails an architecture of higher complexity.\n",
    "\n",
    "Below we define the model and optimiser. "
   ]
  },
  {
   "cell_type": "code",
   "execution_count": 7,
   "metadata": {},
   "outputs": [
    {
     "name": "stdout",
     "output_type": "stream",
     "text": [
      "Compiling LearnedVector_spectral_nn.spectral_layer.\n"
     ]
    },
    {
     "name": "stderr",
     "output_type": "stream",
     "text": [
      "14:25:26 INFO - logger_setup: /home/jt796/github/cymyc/docs/examples\n",
      "14:25:26 INFO - <module>: \n",
      "\u001b[3m                     LearnedVector_spectral_nn_CICY Summary                     \u001b[0m\n",
      "┏━━━━━━━━━━┳━━━━━━━━━━━━━━━━━━┳━━━━━━━━━━━━━━━┳━━━━━━━━━━━━━┳━━━━━━━━━━━━━━━━━━┓\n",
      "┃\u001b[1m \u001b[0m\u001b[1mpath    \u001b[0m\u001b[1m \u001b[0m┃\u001b[1m \u001b[0m\u001b[1mmodule          \u001b[0m\u001b[1m \u001b[0m┃\u001b[1m \u001b[0m\u001b[1minputs       \u001b[0m\u001b[1m \u001b[0m┃\u001b[1m \u001b[0m\u001b[1moutputs    \u001b[0m\u001b[1m \u001b[0m┃\u001b[1m \u001b[0m\u001b[1mparams          \u001b[0m\u001b[1m \u001b[0m┃\n",
      "┡━━━━━━━━━━╇━━━━━━━━━━━━━━━━━━╇━━━━━━━━━━━━━━━╇━━━━━━━━━━━━━╇━━━━━━━━━━━━━━━━━━┩\n",
      "│          │ LearnedVector_s… │ \u001b[2mfloat64\u001b[0m[1,12] │ \u001b[2mfloat64\u001b[0m[]   │                  │\n",
      "├──────────┼──────────────────┼───────────────┼─────────────┼──────────────────┤\n",
      "│ layers_0 │ Dense            │ \u001b[2mfloat64\u001b[0m[36]   │ \u001b[2mfloat64\u001b[0m[48] │ bias:            │\n",
      "│          │                  │               │             │ \u001b[2mfloat32\u001b[0m[48]      │\n",
      "│          │                  │               │             │ kernel:          │\n",
      "│          │                  │               │             │ \u001b[2mfloat32\u001b[0m[36,48]   │\n",
      "│          │                  │               │             │                  │\n",
      "│          │                  │               │             │ \u001b[1m1,776 \u001b[0m\u001b[1;2m(7.1 KB)\u001b[0m   │\n",
      "├──────────┼──────────────────┼───────────────┼─────────────┼──────────────────┤\n",
      "│ layers_1 │ Dense            │ \u001b[2mfloat64\u001b[0m[48]   │ \u001b[2mfloat64\u001b[0m[48] │ bias:            │\n",
      "│          │                  │               │             │ \u001b[2mfloat32\u001b[0m[48]      │\n",
      "│          │                  │               │             │ kernel:          │\n",
      "│          │                  │               │             │ \u001b[2mfloat32\u001b[0m[48,48]   │\n",
      "│          │                  │               │             │                  │\n",
      "│          │                  │               │             │ \u001b[1m2,352 \u001b[0m\u001b[1;2m(9.4 KB)\u001b[0m   │\n",
      "├──────────┼──────────────────┼───────────────┼─────────────┼──────────────────┤\n",
      "│ layers_2 │ Dense            │ \u001b[2mfloat64\u001b[0m[48]   │ \u001b[2mfloat64\u001b[0m[48] │ bias:            │\n",
      "│          │                  │               │             │ \u001b[2mfloat32\u001b[0m[48]      │\n",
      "│          │                  │               │             │ kernel:          │\n",
      "│          │                  │               │             │ \u001b[2mfloat32\u001b[0m[48,48]   │\n",
      "│          │                  │               │             │                  │\n",
      "│          │                  │               │             │ \u001b[1m2,352 \u001b[0m\u001b[1;2m(9.4 KB)\u001b[0m   │\n",
      "├──────────┼──────────────────┼───────────────┼─────────────┼──────────────────┤\n",
      "│ layers_3 │ Dense            │ \u001b[2mfloat64\u001b[0m[48]   │ \u001b[2mfloat64\u001b[0m[48] │ bias:            │\n",
      "│          │                  │               │             │ \u001b[2mfloat32\u001b[0m[48]      │\n",
      "│          │                  │               │             │ kernel:          │\n",
      "│          │                  │               │             │ \u001b[2mfloat32\u001b[0m[48,48]   │\n",
      "│          │                  │               │             │                  │\n",
      "│          │                  │               │             │ \u001b[1m2,352 \u001b[0m\u001b[1;2m(9.4 KB)\u001b[0m   │\n",
      "├──────────┼──────────────────┼───────────────┼─────────────┼──────────────────┤\n",
      "│ scalar   │ Dense            │ \u001b[2mfloat64\u001b[0m[48]   │ \u001b[2mfloat64\u001b[0m[1]  │ bias: \u001b[2mfloat32\u001b[0m[1] │\n",
      "│          │                  │               │             │ kernel:          │\n",
      "│          │                  │               │             │ \u001b[2mfloat32\u001b[0m[48,1]    │\n",
      "│          │                  │               │             │                  │\n",
      "│          │                  │               │             │ \u001b[1m49 \u001b[0m\u001b[1;2m(196 B)\u001b[0m       │\n",
      "├──────────┼──────────────────┼───────────────┼─────────────┼──────────────────┤\n",
      "│\u001b[1m \u001b[0m\u001b[1m        \u001b[0m\u001b[1m \u001b[0m│\u001b[1m \u001b[0m\u001b[1m                \u001b[0m\u001b[1m \u001b[0m│\u001b[1m \u001b[0m\u001b[1m             \u001b[0m\u001b[1m \u001b[0m│\u001b[1m \u001b[0m\u001b[1m      Total\u001b[0m\u001b[1m \u001b[0m│\u001b[1m \u001b[0m\u001b[1m8,881 \u001b[0m\u001b[1;2m(35.5 KB)\u001b[0m\u001b[1m \u001b[0m\u001b[1m \u001b[0m│\n",
      "└──────────┴──────────────────┴───────────────┴─────────────┴──────────────────┘\n",
      "\u001b[1m                                                                                \u001b[0m\n",
      "\u001b[1m                       Total Parameters: 8,881 \u001b[0m\u001b[1;2m(35.5 KB)\u001b[0m\u001b[1m                        \u001b[0m\n",
      "\n",
      "\n"
     ]
    },
    {
     "name": "stdout",
     "output_type": "stream",
     "text": [
      "Compiling LearnedVector_spectral_nn.spectral_layer.\n"
     ]
    }
   ],
   "source": [
    "key, _key = jax.random.split(rng)\n",
    "\n",
    "metric_model = models.LearnedVector_spectral_nn_CICY(\n",
    "    dim=dim, ambient=ambient, n_units=config.n_units)\n",
    "\n",
    "g_FS_fn, g_correction_fn, *_ = models.helper_fns(config)\n",
    "\n",
    "optimizer = optax.adamw(config.learning_rate)\n",
    "metric_params, opt_state, init_rng = create_train_state(_key, metric_model, optimizer, data_dim=dim * 2)\n",
    "# partial closure\n",
    "metric_fn = partial(models.ddbar_phi_model, g_ref_fn=g_FS_fn, g_correction_fn=g_correction_fn)\n",
    "\n",
    "t0 = time.time()\n",
    "logger = utils.logger_setup('X33_demo', filepath=os.path.abspath(''))\n",
    "logger.info(metric_model.tabulate(init_rng, jnp.ones([1, config.n_ambient_coords * 2])))"
   ]
  },
  {
   "cell_type": "markdown",
   "metadata": {},
   "source": [
    "### Optimisation loop\n",
    "This is fairly standard - note Jax is more bare-metal than other libraries, so we write the looping logic ourselves. \n",
    "\n",
    "`jit` compilation introduces a delay the first time the `train_step` function is called, but executes quickly when called subsequently. We pay an initial up-front cost for compilation of Python functions into a form efficiently executable by an accelerator, which will be repaid during the execution itself."
   ]
  },
  {
   "cell_type": "code",
   "execution_count": 8,
   "metadata": {
    "scrolled": true
   },
   "outputs": [
    {
     "name": "stderr",
     "output_type": "stream",
     "text": [
      "14:25:26 INFO - <module>: Running on cuda:0\n"
     ]
    },
    {
     "name": "stdout",
     "output_type": "stream",
     "text": [
      "Compiling ddbar_phi_model\n",
      "Compiling phi_head\n",
      "Compiling LearnedVector_spectral_nn.spectral_layer.\n",
      "Compiling ricci_measure\n"
     ]
    },
    {
     "name": "stderr",
     "output_type": "stream",
     "text": [
      "14:26:18 INFO - callback: [51.7s]: [VAL] | Epoch: 0 | Iter: 0 | chi_form: -147.8624+0.0102j | det_g: 0.0018 | einstein_norm: 4.0715 | kahler_loss: 0.0000 | monge_ampere_loss: 0.2222 | ricci_measure: 0.1323 | ricci_scalar: -2.6378 | ricci_tensor_norm: 0.1802 | sigma_measure: 0.3148 | vol_CY: 0.0279 | vol_Omega: 0.7042 | vol_loss: 0.0001\n",
      "Epoch: 0:   0%|\u001b[32m                                                                                                                                                                                                                                       \u001b[0m| 0/390 [00:00<?, ?it/s]\u001b[0m"
     ]
    },
    {
     "name": "stdout",
     "output_type": "stream",
     "text": [
      "Compiling ddbar_phi_model\n"
     ]
    },
    {
     "name": "stderr",
     "output_type": "stream",
     "text": [
      "Epoch: 0: 100%|\u001b[32m██████████████████████████████████████████████████████████████████████████████████████████████████████████████████████████████████████████████████████████████████████████████████████████████████████████████\u001b[0m| 390/390 [00:05<00:00, 76.54it/s, loss: 0.09083]\u001b[0m\n",
      "Epoch: 1: 100%|\u001b[32m█████████████████████████████████████████████████████████████████████████████████████████████████████████████████████████████████████████████████████████████████████████████████████████████████████████████\u001b[0m| 390/390 [00:00<00:00, 572.91it/s, loss: 0.06886]\u001b[0m\n",
      "Epoch: 2: 100%|\u001b[32m█████████████████████████████████████████████████████████████████████████████████████████████████████████████████████████████████████████████████████████████████████████████████████████████████████████████\u001b[0m| 390/390 [00:00<00:00, 580.58it/s, loss: 0.04289]\u001b[0m\n",
      "Epoch: 3: 100%|\u001b[32m█████████████████████████████████████████████████████████████████████████████████████████████████████████████████████████████████████████████████████████████████████████████████████████████████████████████\u001b[0m| 390/390 [00:00<00:00, 583.24it/s, loss: 0.02926]\u001b[0m\n",
      "Epoch: 4: 100%|\u001b[32m█████████████████████████████████████████████████████████████████████████████████████████████████████████████████████████████████████████████████████████████████████████████████████████████████████████████\u001b[0m| 390/390 [00:00<00:00, 589.58it/s, loss: 0.02722]\u001b[0m\n",
      "14:26:28 INFO - callback: [61.9s]: [VAL] | Epoch: 5 | Iter: 0 | chi_form: -149.3161-0.0202j | det_g: 0.0017 | einstein_norm: 1.2555 | kahler_loss: 0.0000 | monge_ampere_loss: 0.0270 | ricci_measure: 0.0435 | ricci_scalar: -0.2172 | ricci_tensor_norm: 0.0606 | sigma_measure: 0.0381 | vol_CY: 0.0278 | vol_Omega: 0.7086 | vol_loss: 0.0000\n",
      "Epoch: 5: 100%|\u001b[32m█████████████████████████████████████████████████████████████████████████████████████████████████████████████████████████████████████████████████████████████████████████████████████████████████████████████\u001b[0m| 390/390 [00:00<00:00, 534.56it/s, loss: 0.02547]\u001b[0m\n",
      "Epoch: 6: 100%|\u001b[32m█████████████████████████████████████████████████████████████████████████████████████████████████████████████████████████████████████████████████████████████████████████████████████████████████████████████\u001b[0m| 390/390 [00:00<00:00, 561.00it/s, loss: 0.02498]\u001b[0m\n",
      "Epoch: 7: 100%|\u001b[32m█████████████████████████████████████████████████████████████████████████████████████████████████████████████████████████████████████████████████████████████████████████████████████████████████████████████\u001b[0m| 390/390 [00:00<00:00, 589.92it/s, loss: 0.02409]\u001b[0m\n",
      "Epoch: 8: 100%|\u001b[32m█████████████████████████████████████████████████████████████████████████████████████████████████████████████████████████████████████████████████████████████████████████████████████████████████████████████\u001b[0m| 390/390 [00:00<00:00, 562.07it/s, loss: 0.02171]\u001b[0m\n",
      "Epoch: 9: 100%|\u001b[32m█████████████████████████████████████████████████████████████████████████████████████████████████████████████████████████████████████████████████████████████████████████████████████████████████████████████\u001b[0m| 390/390 [00:00<00:00, 557.11it/s, loss: 0.02210]\u001b[0m\n",
      "14:26:34 INFO - callback: [67.2s]: [VAL] | Epoch: 10 | Iter: 0 | chi_form: -146.9219+0.0199j | det_g: 0.0018 | einstein_norm: 1.1907 | kahler_loss: 0.0000 | monge_ampere_loss: 0.0226 | ricci_measure: 0.0381 | ricci_scalar: 0.0463 | ricci_tensor_norm: 0.0576 | sigma_measure: 0.0321 | vol_CY: 0.0277 | vol_Omega: 0.7050 | vol_loss: 0.0000\n",
      "Epoch: 10: 100%|\u001b[32m████████████████████████████████████████████████████████████████████████████████████████████████████████████████████████████████████████████████████████████████████████████████████████████████████████████\u001b[0m| 390/390 [00:00<00:00, 542.18it/s, loss: 0.02192]\u001b[0m\n",
      "Epoch: 11: 100%|\u001b[32m████████████████████████████████████████████████████████████████████████████████████████████████████████████████████████████████████████████████████████████████████████████████████████████████████████████\u001b[0m| 390/390 [00:00<00:00, 551.39it/s, loss: 0.02137]\u001b[0m\n",
      "Epoch: 12: 100%|\u001b[32m████████████████████████████████████████████████████████████████████████████████████████████████████████████████████████████████████████████████████████████████████████████████████████████████████████████\u001b[0m| 390/390 [00:00<00:00, 560.51it/s, loss: 0.01998]\u001b[0m\n",
      "Epoch: 13: 100%|\u001b[32m████████████████████████████████████████████████████████████████████████████████████████████████████████████████████████████████████████████████████████████████████████████████████████████████████████████\u001b[0m| 390/390 [00:00<00:00, 561.09it/s, loss: 0.02048]\u001b[0m\n",
      "Epoch: 14: 100%|\u001b[32m████████████████████████████████████████████████████████████████████████████████████████████████████████████████████████████████████████████████████████████████████████████████████████████████████████████\u001b[0m| 390/390 [00:00<00:00, 567.97it/s, loss: 0.01986]\u001b[0m\n",
      "14:26:39 INFO - callback: [72.7s]: [VAL] | Epoch: 15 | Iter: 0 | chi_form: -143.9541+0.0050j | det_g: 0.0017 | einstein_norm: 1.1205 | kahler_loss: 0.0000 | monge_ampere_loss: 0.0191 | ricci_measure: 0.0373 | ricci_scalar: 0.1093 | ricci_tensor_norm: 0.0530 | sigma_measure: 0.0270 | vol_CY: 0.0279 | vol_Omega: 0.7076 | vol_loss: 0.0001\n",
      "Epoch: 15: 100%|\u001b[32m████████████████████████████████████████████████████████████████████████████████████████████████████████████████████████████████████████████████████████████████████████████████████████████████████████████\u001b[0m| 390/390 [00:00<00:00, 548.10it/s, loss: 0.01922]\u001b[0m\n",
      "Epoch: 16: 100%|\u001b[32m████████████████████████████████████████████████████████████████████████████████████████████████████████████████████████████████████████████████████████████████████████████████████████████████████████████\u001b[0m| 390/390 [00:00<00:00, 577.24it/s, loss: 0.01867]\u001b[0m\n",
      "Epoch: 17: 100%|\u001b[32m████████████████████████████████████████████████████████████████████████████████████████████████████████████████████████████████████████████████████████████████████████████████████████████████████████████\u001b[0m| 390/390 [00:00<00:00, 575.49it/s, loss: 0.01838]\u001b[0m\n",
      "Epoch: 18: 100%|\u001b[32m████████████████████████████████████████████████████████████████████████████████████████████████████████████████████████████████████████████████████████████████████████████████████████████████████████████\u001b[0m| 390/390 [00:00<00:00, 568.85it/s, loss: 0.01876]\u001b[0m\n",
      "Epoch: 19: 100%|\u001b[32m████████████████████████████████████████████████████████████████████████████████████████████████████████████████████████████████████████████████████████████████████████████████████████████████████████████\u001b[0m| 390/390 [00:00<00:00, 568.61it/s, loss: 0.01843]\u001b[0m\n",
      "14:26:44 INFO - callback: [78.0s]: [VAL] | Epoch: 20 | Iter: 0 | chi_form: -145.8684+0.0103j | det_g: 0.0017 | einstein_norm: 1.0711 | kahler_loss: 0.0000 | monge_ampere_loss: 0.0172 | ricci_measure: 0.0343 | ricci_scalar: -0.0931 | ricci_tensor_norm: 0.0502 | sigma_measure: 0.0245 | vol_CY: 0.0276 | vol_Omega: 0.7030 | vol_loss: 0.0001\n",
      "Epoch: 20: 100%|\u001b[32m████████████████████████████████████████████████████████████████████████████████████████████████████████████████████████████████████████████████████████████████████████████████████████████████████████████\u001b[0m| 390/390 [00:00<00:00, 521.85it/s, loss: 0.01772]\u001b[0m\n",
      "Epoch: 21: 100%|\u001b[32m████████████████████████████████████████████████████████████████████████████████████████████████████████████████████████████████████████████████████████████████████████████████████████████████████████████\u001b[0m| 390/390 [00:00<00:00, 531.52it/s, loss: 0.01840]\u001b[0m\n",
      "Epoch: 22: 100%|\u001b[32m████████████████████████████████████████████████████████████████████████████████████████████████████████████████████████████████████████████████████████████████████████████████████████████████████████████\u001b[0m| 390/390 [00:00<00:00, 529.54it/s, loss: 0.01716]\u001b[0m\n",
      "Epoch: 23: 100%|\u001b[32m████████████████████████████████████████████████████████████████████████████████████████████████████████████████████████████████████████████████████████████████████████████████████████████████████████████\u001b[0m| 390/390 [00:00<00:00, 554.46it/s, loss: 0.01619]\u001b[0m\n",
      "Epoch: 24: 100%|\u001b[32m████████████████████████████████████████████████████████████████████████████████████████████████████████████████████████████████████████████████████████████████████████████████████████████████████████████\u001b[0m| 390/390 [00:00<00:00, 573.31it/s, loss: 0.01558]\u001b[0m\n",
      "14:26:50 INFO - callback: [83.5s]: [VAL] | Epoch: 25 | Iter: 0 | chi_form: -141.6123-0.0002j | det_g: 0.0017 | einstein_norm: 1.1405 | kahler_loss: 0.0000 | monge_ampere_loss: 0.0162 | ricci_measure: 0.0370 | ricci_scalar: -0.0062 | ricci_tensor_norm: 0.0506 | sigma_measure: 0.0229 | vol_CY: 0.0278 | vol_Omega: 0.7065 | vol_loss: 0.0000\n",
      "Epoch: 25: 100%|\u001b[32m████████████████████████████████████████████████████████████████████████████████████████████████████████████████████████████████████████████████████████████████████████████████████████████████████████████\u001b[0m| 390/390 [00:00<00:00, 527.47it/s, loss: 0.01658]\u001b[0m\n",
      "Epoch: 26: 100%|\u001b[32m████████████████████████████████████████████████████████████████████████████████████████████████████████████████████████████████████████████████████████████████████████████████████████████████████████████\u001b[0m| 390/390 [00:00<00:00, 529.48it/s, loss: 0.01555]\u001b[0m\n",
      "Epoch: 27: 100%|\u001b[32m████████████████████████████████████████████████████████████████████████████████████████████████████████████████████████████████████████████████████████████████████████████████████████████████████████████\u001b[0m| 390/390 [00:00<00:00, 555.86it/s, loss: 0.01646]\u001b[0m\n",
      "Epoch: 28: 100%|\u001b[32m████████████████████████████████████████████████████████████████████████████████████████████████████████████████████████████████████████████████████████████████████████████████████████████████████████████\u001b[0m| 390/390 [00:00<00:00, 573.49it/s, loss: 0.01629]\u001b[0m\n",
      "Epoch: 29: 100%|\u001b[32m████████████████████████████████████████████████████████████████████████████████████████████████████████████████████████████████████████████████████████████████████████████████████████████████████████████\u001b[0m| 390/390 [00:00<00:00, 566.63it/s, loss: 0.01639]\u001b[0m\n",
      "14:26:55 INFO - callback: [89.0s]: [VAL] | Epoch: 30 | Iter: 0 | chi_form: -136.6402-0.0538j | det_g: 0.0017 | einstein_norm: 1.0027 | kahler_loss: 0.0000 | monge_ampere_loss: 0.0154 | ricci_measure: 0.0323 | ricci_scalar: 0.0722 | ricci_tensor_norm: 0.0476 | sigma_measure: 0.0218 | vol_CY: 0.0277 | vol_Omega: 0.7025 | vol_loss: 0.0001\n",
      "Epoch: 30: 100%|\u001b[32m████████████████████████████████████████████████████████████████████████████████████████████████████████████████████████████████████████████████████████████████████████████████████████████████████████████\u001b[0m| 390/390 [00:00<00:00, 532.89it/s, loss: 0.01503]\u001b[0m\n",
      "Epoch: 31: 100%|\u001b[32m████████████████████████████████████████████████████████████████████████████████████████████████████████████████████████████████████████████████████████████████████████████████████████████████████████████\u001b[0m| 390/390 [00:00<00:00, 538.50it/s, loss: 0.01551]\u001b[0m\n",
      "Epoch: 32: 100%|\u001b[32m████████████████████████████████████████████████████████████████████████████████████████████████████████████████████████████████████████████████████████████████████████████████████████████████████████████\u001b[0m| 390/390 [00:00<00:00, 566.12it/s, loss: 0.01464]\u001b[0m\n",
      "Epoch: 33: 100%|\u001b[32m████████████████████████████████████████████████████████████████████████████████████████████████████████████████████████████████████████████████████████████████████████████████████████████████████████████\u001b[0m| 390/390 [00:00<00:00, 579.78it/s, loss: 0.01483]\u001b[0m\n",
      "Epoch: 34: 100%|\u001b[32m████████████████████████████████████████████████████████████████████████████████████████████████████████████████████████████████████████████████████████████████████████████████████████████████████████████\u001b[0m| 390/390 [00:00<00:00, 582.54it/s, loss: 0.01501]\u001b[0m\n",
      "14:27:01 INFO - callback: [94.4s]: [VAL] | Epoch: 35 | Iter: 0 | chi_form: -153.3210+0.0054j | det_g: 0.0018 | einstein_norm: 1.1005 | kahler_loss: 0.0000 | monge_ampere_loss: 0.0161 | ricci_measure: 0.0376 | ricci_scalar: -0.2312 | ricci_tensor_norm: 0.0474 | sigma_measure: 0.0227 | vol_CY: 0.0280 | vol_Omega: 0.7134 | vol_loss: 0.0002\n",
      "Epoch: 35: 100%|\u001b[32m████████████████████████████████████████████████████████████████████████████████████████████████████████████████████████████████████████████████████████████████████████████████████████████████████████████\u001b[0m| 390/390 [00:00<00:00, 540.23it/s, loss: 0.01448]\u001b[0m\n",
      "Epoch: 36: 100%|\u001b[32m████████████████████████████████████████████████████████████████████████████████████████████████████████████████████████████████████████████████████████████████████████████████████████████████████████████\u001b[0m| 390/390 [00:00<00:00, 558.39it/s, loss: 0.01574]\u001b[0m\n",
      "Epoch: 37: 100%|\u001b[32m████████████████████████████████████████████████████████████████████████████████████████████████████████████████████████████████████████████████████████████████████████████████████████████████████████████\u001b[0m| 390/390 [00:00<00:00, 572.88it/s, loss: 0.01526]\u001b[0m\n",
      "Epoch: 38: 100%|\u001b[32m████████████████████████████████████████████████████████████████████████████████████████████████████████████████████████████████████████████████████████████████████████████████████████████████████████████\u001b[0m| 390/390 [00:00<00:00, 562.43it/s, loss: 0.01472]\u001b[0m\n",
      "Epoch: 39: 100%|\u001b[32m████████████████████████████████████████████████████████████████████████████████████████████████████████████████████████████████████████████████████████████████████████████████████████████████████████████\u001b[0m| 390/390 [00:00<00:00, 539.29it/s, loss: 0.01496]\u001b[0m\n",
      "14:27:06 INFO - callback: [99.8s]: [VAL] | Epoch: 40 | Iter: 0 | chi_form: -146.8696-0.0111j | det_g: 0.0017 | einstein_norm: 1.0653 | kahler_loss: 0.0000 | monge_ampere_loss: 0.0155 | ricci_measure: 0.0322 | ricci_scalar: 0.1571 | ricci_tensor_norm: 0.0465 | sigma_measure: 0.0218 | vol_CY: 0.0278 | vol_Omega: 0.7052 | vol_loss: 0.0000\n",
      "Epoch: 40: 100%|\u001b[32m████████████████████████████████████████████████████████████████████████████████████████████████████████████████████████████████████████████████████████████████████████████████████████████████████████████\u001b[0m| 390/390 [00:00<00:00, 568.74it/s, loss: 0.01487]\u001b[0m\n",
      "Epoch: 41: 100%|\u001b[32m████████████████████████████████████████████████████████████████████████████████████████████████████████████████████████████████████████████████████████████████████████████████████████████████████████████\u001b[0m| 390/390 [00:00<00:00, 565.72it/s, loss: 0.01568]\u001b[0m\n",
      "Epoch: 42: 100%|\u001b[32m████████████████████████████████████████████████████████████████████████████████████████████████████████████████████████████████████████████████████████████████████████████████████████████████████████████\u001b[0m| 390/390 [00:00<00:00, 566.88it/s, loss: 0.01412]\u001b[0m\n",
      "Epoch: 43: 100%|\u001b[32m████████████████████████████████████████████████████████████████████████████████████████████████████████████████████████████████████████████████████████████████████████████████████████████████████████████\u001b[0m| 390/390 [00:00<00:00, 575.04it/s, loss: 0.01551]\u001b[0m\n",
      "Epoch: 44: 100%|\u001b[32m████████████████████████████████████████████████████████████████████████████████████████████████████████████████████████████████████████████████████████████████████████████████████████████████████████████\u001b[0m| 390/390 [00:00<00:00, 560.32it/s, loss: 0.01417]\u001b[0m\n",
      "14:27:11 INFO - callback: [105.2s]: [VAL] | Epoch: 45 | Iter: 0 | chi_form: -153.1961+0.0116j | det_g: 0.0017 | einstein_norm: 1.0842 | kahler_loss: 0.0000 | monge_ampere_loss: 0.0153 | ricci_measure: 0.0343 | ricci_scalar: -0.1280 | ricci_tensor_norm: 0.0449 | sigma_measure: 0.0218 | vol_CY: 0.0279 | vol_Omega: 0.7093 | vol_loss: 0.0001\n",
      "Epoch: 45: 100%|\u001b[32m████████████████████████████████████████████████████████████████████████████████████████████████████████████████████████████████████████████████████████████████████████████████████████████████████████████\u001b[0m| 390/390 [00:00<00:00, 547.89it/s, loss: 0.01515]\u001b[0m\n",
      "Epoch: 46: 100%|\u001b[32m████████████████████████████████████████████████████████████████████████████████████████████████████████████████████████████████████████████████████████████████████████████████████████████████████████████\u001b[0m| 390/390 [00:00<00:00, 551.31it/s, loss: 0.01372]\u001b[0m\n",
      "Epoch: 47: 100%|\u001b[32m████████████████████████████████████████████████████████████████████████████████████████████████████████████████████████████████████████████████████████████████████████████████████████████████████████████\u001b[0m| 390/390 [00:00<00:00, 573.33it/s, loss: 0.01479]\u001b[0m\n",
      "Epoch: 48: 100%|\u001b[32m████████████████████████████████████████████████████████████████████████████████████████████████████████████████████████████████████████████████████████████████████████████████████████████████████████████\u001b[0m| 390/390 [00:00<00:00, 559.24it/s, loss: 0.01452]\u001b[0m\n",
      "Epoch: 49: 100%|\u001b[32m████████████████████████████████████████████████████████████████████████████████████████████████████████████████████████████████████████████████████████████████████████████████████████████████████████████\u001b[0m| 390/390 [00:00<00:00, 572.21it/s, loss: 0.01526]\u001b[0m\n",
      "14:27:17 INFO - callback: [110.6s]: [VAL] | Epoch: 50 | Iter: 0 | chi_form: -132.6214+0.0156j | det_g: 0.0017 | einstein_norm: 0.9498 | kahler_loss: 0.0000 | monge_ampere_loss: 0.0137 | ricci_measure: 0.0310 | ricci_scalar: 0.3576 | ricci_tensor_norm: 0.0425 | sigma_measure: 0.0192 | vol_CY: 0.0277 | vol_Omega: 0.7025 | vol_loss: 0.0001\n",
      "Epoch: 50: 100%|\u001b[32m████████████████████████████████████████████████████████████████████████████████████████████████████████████████████████████████████████████████████████████████████████████████████████████████████████████\u001b[0m| 390/390 [00:00<00:00, 564.28it/s, loss: 0.01403]\u001b[0m\n",
      "Epoch: 51: 100%|\u001b[32m████████████████████████████████████████████████████████████████████████████████████████████████████████████████████████████████████████████████████████████████████████████████████████████████████████████\u001b[0m| 390/390 [00:00<00:00, 558.20it/s, loss: 0.01402]\u001b[0m\n",
      "Epoch: 52: 100%|\u001b[32m████████████████████████████████████████████████████████████████████████████████████████████████████████████████████████████████████████████████████████████████████████████████████████████████████████████\u001b[0m| 390/390 [00:00<00:00, 569.94it/s, loss: 0.01399]\u001b[0m\n",
      "Epoch: 53: 100%|\u001b[32m████████████████████████████████████████████████████████████████████████████████████████████████████████████████████████████████████████████████████████████████████████████████████████████████████████████\u001b[0m| 390/390 [00:00<00:00, 562.36it/s, loss: 0.01385]\u001b[0m\n",
      "Epoch: 54: 100%|\u001b[32m████████████████████████████████████████████████████████████████████████████████████████████████████████████████████████████████████████████████████████████████████████████████████████████████████████████\u001b[0m| 390/390 [00:00<00:00, 562.99it/s, loss: 0.01393]\u001b[0m\n",
      "14:27:22 INFO - callback: [115.9s]: [VAL] | Epoch: 55 | Iter: 0 | chi_form: -141.8868+0.0201j | det_g: 0.0017 | einstein_norm: 1.0203 | kahler_loss: 0.0000 | monge_ampere_loss: 0.0144 | ricci_measure: 0.0272 | ricci_scalar: 0.1503 | ricci_tensor_norm: 0.0422 | sigma_measure: 0.0203 | vol_CY: 0.0278 | vol_Omega: 0.7064 | vol_loss: 0.0000\n",
      "Epoch: 55: 100%|\u001b[32m████████████████████████████████████████████████████████████████████████████████████████████████████████████████████████████████████████████████████████████████████████████████████████████████████████████\u001b[0m| 390/390 [00:00<00:00, 572.05it/s, loss: 0.01462]\u001b[0m\n",
      "Epoch: 56: 100%|\u001b[32m████████████████████████████████████████████████████████████████████████████████████████████████████████████████████████████████████████████████████████████████████████████████████████████████████████████\u001b[0m| 390/390 [00:00<00:00, 584.43it/s, loss: 0.01446]\u001b[0m\n",
      "Epoch: 57: 100%|\u001b[32m████████████████████████████████████████████████████████████████████████████████████████████████████████████████████████████████████████████████████████████████████████████████████████████████████████████\u001b[0m| 390/390 [00:00<00:00, 567.86it/s, loss: 0.01493]\u001b[0m\n",
      "Epoch: 58: 100%|\u001b[32m████████████████████████████████████████████████████████████████████████████████████████████████████████████████████████████████████████████████████████████████████████████████████████████████████████████\u001b[0m| 390/390 [00:00<00:00, 565.89it/s, loss: 0.01497]\u001b[0m\n",
      "Epoch: 59: 100%|\u001b[32m████████████████████████████████████████████████████████████████████████████████████████████████████████████████████████████████████████████████████████████████████████████████████████████████████████████\u001b[0m| 390/390 [00:00<00:00, 563.96it/s, loss: 0.01303]\u001b[0m\n",
      "14:27:28 INFO - callback: [121.2s]: [VAL] | Epoch: 60 | Iter: 0 | chi_form: -142.2032+0.0036j | det_g: 0.0017 | einstein_norm: 0.9002 | kahler_loss: 0.0000 | monge_ampere_loss: 0.0140 | ricci_measure: 0.0273 | ricci_scalar: 0.0055 | ricci_tensor_norm: 0.0406 | sigma_measure: 0.0198 | vol_CY: 0.0278 | vol_Omega: 0.7060 | vol_loss: 0.0000\n",
      "Epoch: 60: 100%|\u001b[32m████████████████████████████████████████████████████████████████████████████████████████████████████████████████████████████████████████████████████████████████████████████████████████████████████████████\u001b[0m| 390/390 [00:00<00:00, 550.94it/s, loss: 0.01336]\u001b[0m\n",
      "Epoch: 61: 100%|\u001b[32m████████████████████████████████████████████████████████████████████████████████████████████████████████████████████████████████████████████████████████████████████████████████████████████████████████████\u001b[0m| 390/390 [00:00<00:00, 547.94it/s, loss: 0.01393]\u001b[0m\n",
      "Epoch: 62: 100%|\u001b[32m████████████████████████████████████████████████████████████████████████████████████████████████████████████████████████████████████████████████████████████████████████████████████████████████████████████\u001b[0m| 390/390 [00:00<00:00, 545.21it/s, loss: 0.01484]\u001b[0m\n",
      "Epoch: 63: 100%|\u001b[32m████████████████████████████████████████████████████████████████████████████████████████████████████████████████████████████████████████████████████████████████████████████████████████████████████████████\u001b[0m| 390/390 [00:00<00:00, 548.59it/s, loss: 0.01385]\u001b[0m\n",
      "Epoch: 64: 100%|\u001b[32m████████████████████████████████████████████████████████████████████████████████████████████████████████████████████████████████████████████████████████████████████████████████████████████████████████████\u001b[0m| 390/390 [00:00<00:00, 544.52it/s, loss: 0.01368]\u001b[0m\n",
      "14:27:33 INFO - callback: [126.7s]: [VAL] | Epoch: 65 | Iter: 0 | chi_form: -150.3081+0.0003j | det_g: 0.0017 | einstein_norm: 0.9176 | kahler_loss: 0.0000 | monge_ampere_loss: 0.0136 | ricci_measure: 0.0289 | ricci_scalar: -0.1310 | ricci_tensor_norm: 0.0419 | sigma_measure: 0.0195 | vol_CY: 0.0277 | vol_Omega: 0.7054 | vol_loss: 0.0001\n",
      "Epoch: 65: 100%|\u001b[32m████████████████████████████████████████████████████████████████████████████████████████████████████████████████████████████████████████████████████████████████████████████████████████████████████████████\u001b[0m| 390/390 [00:00<00:00, 562.41it/s, loss: 0.01326]\u001b[0m\n",
      "Epoch: 66: 100%|\u001b[32m████████████████████████████████████████████████████████████████████████████████████████████████████████████████████████████████████████████████████████████████████████████████████████████████████████████\u001b[0m| 390/390 [00:00<00:00, 556.48it/s, loss: 0.01411]\u001b[0m\n",
      "Epoch: 67: 100%|\u001b[32m████████████████████████████████████████████████████████████████████████████████████████████████████████████████████████████████████████████████████████████████████████████████████████████████████████████\u001b[0m| 390/390 [00:00<00:00, 554.83it/s, loss: 0.01347]\u001b[0m\n",
      "Epoch: 68: 100%|\u001b[32m████████████████████████████████████████████████████████████████████████████████████████████████████████████████████████████████████████████████████████████████████████████████████████████████████████████\u001b[0m| 390/390 [00:00<00:00, 549.33it/s, loss: 0.01386]\u001b[0m\n",
      "Epoch: 69: 100%|\u001b[32m████████████████████████████████████████████████████████████████████████████████████████████████████████████████████████████████████████████████████████████████████████████████████████████████████████████\u001b[0m| 390/390 [00:00<00:00, 559.46it/s, loss: 0.01356]\u001b[0m\n",
      "14:27:38 INFO - callback: [132.1s]: [VAL] | Epoch: 70 | Iter: 0 | chi_form: -133.0434-0.0148j | det_g: 0.0018 | einstein_norm: 1.0014 | kahler_loss: 0.0000 | monge_ampere_loss: 0.0133 | ricci_measure: 0.0276 | ricci_scalar: 0.2083 | ricci_tensor_norm: 0.0416 | sigma_measure: 0.0187 | vol_CY: 0.0278 | vol_Omega: 0.7047 | vol_loss: 0.0000\n",
      "Epoch: 70: 100%|\u001b[32m████████████████████████████████████████████████████████████████████████████████████████████████████████████████████████████████████████████████████████████████████████████████████████████████████████████\u001b[0m| 390/390 [00:00<00:00, 544.78it/s, loss: 0.01418]\u001b[0m\n",
      "Epoch: 71: 100%|\u001b[32m████████████████████████████████████████████████████████████████████████████████████████████████████████████████████████████████████████████████████████████████████████████████████████████████████████████\u001b[0m| 390/390 [00:00<00:00, 557.75it/s, loss: 0.01356]\u001b[0m\n",
      "Epoch: 72: 100%|\u001b[32m████████████████████████████████████████████████████████████████████████████████████████████████████████████████████████████████████████████████████████████████████████████████████████████████████████████\u001b[0m| 390/390 [00:00<00:00, 567.88it/s, loss: 0.01371]\u001b[0m\n",
      "Epoch: 73: 100%|\u001b[32m████████████████████████████████████████████████████████████████████████████████████████████████████████████████████████████████████████████████████████████████████████████████████████████████████████████\u001b[0m| 390/390 [00:00<00:00, 556.92it/s, loss: 0.01426]\u001b[0m\n",
      "Epoch: 74: 100%|\u001b[32m████████████████████████████████████████████████████████████████████████████████████████████████████████████████████████████████████████████████████████████████████████████████████████████████████████████\u001b[0m| 390/390 [00:00<00:00, 557.79it/s, loss: 0.01390]\u001b[0m\n",
      "14:27:44 INFO - callback: [137.5s]: [VAL] | Epoch: 75 | Iter: 0 | chi_form: -144.0889+0.0023j | det_g: 0.0018 | einstein_norm: 0.9646 | kahler_loss: 0.0000 | monge_ampere_loss: 0.0145 | ricci_measure: 0.0259 | ricci_scalar: -0.0402 | ricci_tensor_norm: 0.0418 | sigma_measure: 0.0207 | vol_CY: 0.0277 | vol_Omega: 0.7032 | vol_loss: 0.0001\n",
      "Epoch: 75: 100%|\u001b[32m████████████████████████████████████████████████████████████████████████████████████████████████████████████████████████████████████████████████████████████████████████████████████████████████████████████\u001b[0m| 390/390 [00:00<00:00, 545.42it/s, loss: 0.01353]\u001b[0m\n",
      "Epoch: 76: 100%|\u001b[32m████████████████████████████████████████████████████████████████████████████████████████████████████████████████████████████████████████████████████████████████████████████████████████████████████████████\u001b[0m| 390/390 [00:00<00:00, 567.56it/s, loss: 0.01373]\u001b[0m\n",
      "Epoch: 77: 100%|\u001b[32m████████████████████████████████████████████████████████████████████████████████████████████████████████████████████████████████████████████████████████████████████████████████████████████████████████████\u001b[0m| 390/390 [00:00<00:00, 563.65it/s, loss: 0.01263]\u001b[0m\n",
      "Epoch: 78: 100%|\u001b[32m████████████████████████████████████████████████████████████████████████████████████████████████████████████████████████████████████████████████████████████████████████████████████████████████████████████\u001b[0m| 390/390 [00:00<00:00, 583.76it/s, loss: 0.01417]\u001b[0m\n",
      "Epoch: 79: 100%|\u001b[32m████████████████████████████████████████████████████████████████████████████████████████████████████████████████████████████████████████████████████████████████████████████████████████████████████████████\u001b[0m| 390/390 [00:00<00:00, 577.58it/s, loss: 0.01379]\u001b[0m\n",
      "14:27:49 INFO - callback: [142.8s]: [VAL] | Epoch: 80 | Iter: 0 | chi_form: -147.1411-0.0089j | det_g: 0.0017 | einstein_norm: 1.0180 | kahler_loss: 0.0000 | monge_ampere_loss: 0.0142 | ricci_measure: 0.0285 | ricci_scalar: 0.0157 | ricci_tensor_norm: 0.0419 | sigma_measure: 0.0200 | vol_CY: 0.0279 | vol_Omega: 0.7100 | vol_loss: 0.0001\n",
      "Epoch: 80: 100%|\u001b[32m████████████████████████████████████████████████████████████████████████████████████████████████████████████████████████████████████████████████████████████████████████████████████████████████████████████\u001b[0m| 390/390 [00:00<00:00, 526.09it/s, loss: 0.01380]\u001b[0m\n",
      "Epoch: 81: 100%|\u001b[32m████████████████████████████████████████████████████████████████████████████████████████████████████████████████████████████████████████████████████████████████████████████████████████████████████████████\u001b[0m| 390/390 [00:00<00:00, 548.99it/s, loss: 0.01327]\u001b[0m\n",
      "Epoch: 82: 100%|\u001b[32m████████████████████████████████████████████████████████████████████████████████████████████████████████████████████████████████████████████████████████████████████████████████████████████████████████████\u001b[0m| 390/390 [00:00<00:00, 553.80it/s, loss: 0.01450]\u001b[0m\n",
      "Epoch: 83: 100%|\u001b[32m████████████████████████████████████████████████████████████████████████████████████████████████████████████████████████████████████████████████████████████████████████████████████████████████████████████\u001b[0m| 390/390 [00:00<00:00, 548.24it/s, loss: 0.01356]\u001b[0m\n",
      "Epoch: 84: 100%|\u001b[32m████████████████████████████████████████████████████████████████████████████████████████████████████████████████████████████████████████████████████████████████████████████████████████████████████████████\u001b[0m| 390/390 [00:00<00:00, 572.65it/s, loss: 0.01379]\u001b[0m\n",
      "14:27:55 INFO - callback: [148.3s]: [VAL] | Epoch: 85 | Iter: 0 | chi_form: -138.4507+0.0099j | det_g: 0.0017 | einstein_norm: 0.9589 | kahler_loss: 0.0000 | monge_ampere_loss: 0.0136 | ricci_measure: 0.0249 | ricci_scalar: 0.0912 | ricci_tensor_norm: 0.0414 | sigma_measure: 0.0193 | vol_CY: 0.0278 | vol_Omega: 0.7053 | vol_loss: 0.0000\n",
      "Epoch: 85: 100%|\u001b[32m████████████████████████████████████████████████████████████████████████████████████████████████████████████████████████████████████████████████████████████████████████████████████████████████████████████\u001b[0m| 390/390 [00:00<00:00, 541.77it/s, loss: 0.01447]\u001b[0m\n",
      "Epoch: 86: 100%|\u001b[32m████████████████████████████████████████████████████████████████████████████████████████████████████████████████████████████████████████████████████████████████████████████████████████████████████████████\u001b[0m| 390/390 [00:00<00:00, 556.41it/s, loss: 0.01459]\u001b[0m\n",
      "Epoch: 87: 100%|\u001b[32m████████████████████████████████████████████████████████████████████████████████████████████████████████████████████████████████████████████████████████████████████████████████████████████████████████████\u001b[0m| 390/390 [00:00<00:00, 543.58it/s, loss: 0.01386]\u001b[0m\n",
      "Epoch: 88: 100%|\u001b[32m████████████████████████████████████████████████████████████████████████████████████████████████████████████████████████████████████████████████████████████████████████████████████████████████████████████\u001b[0m| 390/390 [00:00<00:00, 556.47it/s, loss: 0.01305]\u001b[0m\n",
      "Epoch: 89: 100%|\u001b[32m████████████████████████████████████████████████████████████████████████████████████████████████████████████████████████████████████████████████████████████████████████████████████████████████████████████\u001b[0m| 390/390 [00:00<00:00, 569.38it/s, loss: 0.01432]\u001b[0m\n",
      "14:28:00 INFO - callback: [153.8s]: [VAL] | Epoch: 90 | Iter: 0 | chi_form: -146.9192-0.0090j | det_g: 0.0017 | einstein_norm: 0.9270 | kahler_loss: 0.0000 | monge_ampere_loss: 0.0141 | ricci_measure: 0.0327 | ricci_scalar: -0.1549 | ricci_tensor_norm: 0.0407 | sigma_measure: 0.0203 | vol_CY: 0.0276 | vol_Omega: 0.7013 | vol_loss: 0.0002\n",
      "Epoch: 90: 100%|\u001b[32m████████████████████████████████████████████████████████████████████████████████████████████████████████████████████████████████████████████████████████████████████████████████████████████████████████████\u001b[0m| 390/390 [00:00<00:00, 549.42it/s, loss: 0.01304]\u001b[0m\n",
      "Epoch: 91: 100%|\u001b[32m████████████████████████████████████████████████████████████████████████████████████████████████████████████████████████████████████████████████████████████████████████████████████████████████████████████\u001b[0m| 390/390 [00:00<00:00, 553.62it/s, loss: 0.01467]\u001b[0m\n",
      "Epoch: 92: 100%|\u001b[32m████████████████████████████████████████████████████████████████████████████████████████████████████████████████████████████████████████████████████████████████████████████████████████████████████████████\u001b[0m| 390/390 [00:00<00:00, 561.20it/s, loss: 0.01429]\u001b[0m\n",
      "Epoch: 93: 100%|\u001b[32m████████████████████████████████████████████████████████████████████████████████████████████████████████████████████████████████████████████████████████████████████████████████████████████████████████████\u001b[0m| 390/390 [00:00<00:00, 569.88it/s, loss: 0.01469]\u001b[0m\n",
      "Epoch: 94: 100%|\u001b[32m████████████████████████████████████████████████████████████████████████████████████████████████████████████████████████████████████████████████████████████████████████████████████████████████████████████\u001b[0m| 390/390 [00:00<00:00, 555.88it/s, loss: 0.01326]\u001b[0m\n",
      "14:28:05 INFO - callback: [159.2s]: [VAL] | Epoch: 95 | Iter: 0 | chi_form: -134.2157+0.0087j | det_g: 0.0017 | einstein_norm: 0.8699 | kahler_loss: 0.0000 | monge_ampere_loss: 0.0125 | ricci_measure: 0.0267 | ricci_scalar: 0.1765 | ricci_tensor_norm: 0.0394 | sigma_measure: 0.0178 | vol_CY: 0.0276 | vol_Omega: 0.6998 | vol_loss: 0.0002\n",
      "Epoch: 95: 100%|\u001b[32m████████████████████████████████████████████████████████████████████████████████████████████████████████████████████████████████████████████████████████████████████████████████████████████████████████████\u001b[0m| 390/390 [00:00<00:00, 564.26it/s, loss: 0.01420]\u001b[0m\n",
      "Epoch: 96: 100%|\u001b[32m████████████████████████████████████████████████████████████████████████████████████████████████████████████████████████████████████████████████████████████████████████████████████████████████████████████\u001b[0m| 390/390 [00:00<00:00, 569.56it/s, loss: 0.01387]\u001b[0m\n",
      "Epoch: 97: 100%|\u001b[32m████████████████████████████████████████████████████████████████████████████████████████████████████████████████████████████████████████████████████████████████████████████████████████████████████████████\u001b[0m| 390/390 [00:00<00:00, 571.52it/s, loss: 0.01350]\u001b[0m\n",
      "Epoch: 98: 100%|\u001b[32m████████████████████████████████████████████████████████████████████████████████████████████████████████████████████████████████████████████████████████████████████████████████████████████████████████████\u001b[0m| 390/390 [00:00<00:00, 573.66it/s, loss: 0.01259]\u001b[0m\n",
      "Epoch: 99: 100%|\u001b[32m████████████████████████████████████████████████████████████████████████████████████████████████████████████████████████████████████████████████████████████████████████████████████████████████████████████\u001b[0m| 390/390 [00:00<00:00, 584.08it/s, loss: 0.01261]\u001b[0m\n",
      "14:28:11 INFO - callback: [164.5s]: [VAL] | Epoch: 100 | Iter: 0 | chi_form: -145.4254+0.0072j | det_g: 0.0017 | einstein_norm: 0.9189 | kahler_loss: 0.0000 | monge_ampere_loss: 0.0136 | ricci_measure: 0.0279 | ricci_scalar: -0.0306 | ricci_tensor_norm: 0.0406 | sigma_measure: 0.0193 | vol_CY: 0.0279 | vol_Omega: 0.7102 | vol_loss: 0.0001\n",
      "Epoch: 100: 100%|\u001b[32m███████████████████████████████████████████████████████████████████████████████████████████████████████████████████████████████████████████████████████████████████████████████████████████████████████████\u001b[0m| 390/390 [00:00<00:00, 541.49it/s, loss: 0.01350]\u001b[0m\n",
      "Epoch: 101: 100%|\u001b[32m███████████████████████████████████████████████████████████████████████████████████████████████████████████████████████████████████████████████████████████████████████████████████████████████████████████\u001b[0m| 390/390 [00:00<00:00, 557.09it/s, loss: 0.01390]\u001b[0m\n",
      "Epoch: 102: 100%|\u001b[32m███████████████████████████████████████████████████████████████████████████████████████████████████████████████████████████████████████████████████████████████████████████████████████████████████████████\u001b[0m| 390/390 [00:00<00:00, 574.05it/s, loss: 0.01449]\u001b[0m\n",
      "Epoch: 103: 100%|\u001b[32m███████████████████████████████████████████████████████████████████████████████████████████████████████████████████████████████████████████████████████████████████████████████████████████████████████████\u001b[0m| 390/390 [00:00<00:00, 565.91it/s, loss: 0.01397]\u001b[0m\n",
      "Epoch: 104: 100%|\u001b[32m███████████████████████████████████████████████████████████████████████████████████████████████████████████████████████████████████████████████████████████████████████████████████████████████████████████\u001b[0m| 390/390 [00:00<00:00, 558.86it/s, loss: 0.01302]\u001b[0m\n",
      "14:28:16 INFO - callback: [169.9s]: [VAL] | Epoch: 105 | Iter: 0 | chi_form: -149.9376-0.0439j | det_g: 0.0018 | einstein_norm: 1.0005 | kahler_loss: 0.0000 | monge_ampere_loss: 0.0140 | ricci_measure: 0.0331 | ricci_scalar: 0.0176 | ricci_tensor_norm: 0.0409 | sigma_measure: 0.0199 | vol_CY: 0.0278 | vol_Omega: 0.7065 | vol_loss: 0.0000\n",
      "Epoch: 105: 100%|\u001b[32m███████████████████████████████████████████████████████████████████████████████████████████████████████████████████████████████████████████████████████████████████████████████████████████████████████████\u001b[0m| 390/390 [00:00<00:00, 576.60it/s, loss: 0.01335]\u001b[0m\n",
      "Epoch: 106: 100%|\u001b[32m███████████████████████████████████████████████████████████████████████████████████████████████████████████████████████████████████████████████████████████████████████████████████████████████████████████\u001b[0m| 390/390 [00:00<00:00, 590.34it/s, loss: 0.01331]\u001b[0m\n",
      "Epoch: 107: 100%|\u001b[32m███████████████████████████████████████████████████████████████████████████████████████████████████████████████████████████████████████████████████████████████████████████████████████████████████████████\u001b[0m| 390/390 [00:00<00:00, 590.94it/s, loss: 0.01346]\u001b[0m\n",
      "Epoch: 108: 100%|\u001b[32m███████████████████████████████████████████████████████████████████████████████████████████████████████████████████████████████████████████████████████████████████████████████████████████████████████████\u001b[0m| 390/390 [00:00<00:00, 588.17it/s, loss: 0.01293]\u001b[0m\n",
      "Epoch: 109: 100%|\u001b[32m███████████████████████████████████████████████████████████████████████████████████████████████████████████████████████████████████████████████████████████████████████████████████████████████████████████\u001b[0m| 390/390 [00:00<00:00, 579.40it/s, loss: 0.01316]\u001b[0m\n",
      "14:28:21 INFO - callback: [175.1s]: [VAL] | Epoch: 110 | Iter: 0 | chi_form: -138.6156+0.0104j | det_g: 0.0017 | einstein_norm: 1.0735 | kahler_loss: 0.0000 | monge_ampere_loss: 0.0131 | ricci_measure: 0.0251 | ricci_scalar: 0.0507 | ricci_tensor_norm: 0.0405 | sigma_measure: 0.0185 | vol_CY: 0.0278 | vol_Omega: 0.7051 | vol_loss: 0.0000\n",
      "Epoch: 110: 100%|\u001b[32m███████████████████████████████████████████████████████████████████████████████████████████████████████████████████████████████████████████████████████████████████████████████████████████████████████████\u001b[0m| 390/390 [00:00<00:00, 528.55it/s, loss: 0.01295]\u001b[0m\n",
      "Epoch: 111: 100%|\u001b[32m███████████████████████████████████████████████████████████████████████████████████████████████████████████████████████████████████████████████████████████████████████████████████████████████████████████\u001b[0m| 390/390 [00:00<00:00, 552.33it/s, loss: 0.01392]\u001b[0m\n",
      "Epoch: 112: 100%|\u001b[32m███████████████████████████████████████████████████████████████████████████████████████████████████████████████████████████████████████████████████████████████████████████████████████████████████████████\u001b[0m| 390/390 [00:00<00:00, 546.67it/s, loss: 0.01305]\u001b[0m\n",
      "Epoch: 113: 100%|\u001b[32m███████████████████████████████████████████████████████████████████████████████████████████████████████████████████████████████████████████████████████████████████████████████████████████████████████████\u001b[0m| 390/390 [00:00<00:00, 547.34it/s, loss: 0.01265]\u001b[0m\n",
      "Epoch: 114: 100%|\u001b[32m███████████████████████████████████████████████████████████████████████████████████████████████████████████████████████████████████████████████████████████████████████████████████████████████████████████\u001b[0m| 390/390 [00:00<00:00, 558.66it/s, loss: 0.01343]\u001b[0m\n",
      "14:28:27 INFO - callback: [180.6s]: [VAL] | Epoch: 115 | Iter: 0 | chi_form: -143.7961+0.0100j | det_g: 0.0017 | einstein_norm: 0.9358 | kahler_loss: 0.0000 | monge_ampere_loss: 0.0139 | ricci_measure: 0.0269 | ricci_scalar: 0.0594 | ricci_tensor_norm: 0.0403 | sigma_measure: 0.0196 | vol_CY: 0.0279 | vol_Omega: 0.7098 | vol_loss: 0.0001\n",
      "Epoch: 115: 100%|\u001b[32m███████████████████████████████████████████████████████████████████████████████████████████████████████████████████████████████████████████████████████████████████████████████████████████████████████████\u001b[0m| 390/390 [00:00<00:00, 542.10it/s, loss: 0.01215]\u001b[0m\n",
      "Epoch: 116: 100%|\u001b[32m███████████████████████████████████████████████████████████████████████████████████████████████████████████████████████████████████████████████████████████████████████████████████████████████████████████\u001b[0m| 390/390 [00:00<00:00, 554.72it/s, loss: 0.01322]\u001b[0m\n",
      "Epoch: 117: 100%|\u001b[32m███████████████████████████████████████████████████████████████████████████████████████████████████████████████████████████████████████████████████████████████████████████████████████████████████████████\u001b[0m| 390/390 [00:00<00:00, 566.17it/s, loss: 0.01286]\u001b[0m\n",
      "Epoch: 118: 100%|\u001b[32m███████████████████████████████████████████████████████████████████████████████████████████████████████████████████████████████████████████████████████████████████████████████████████████████████████████\u001b[0m| 390/390 [00:00<00:00, 554.81it/s, loss: 0.01353]\u001b[0m\n",
      "Epoch: 119: 100%|\u001b[32m███████████████████████████████████████████████████████████████████████████████████████████████████████████████████████████████████████████████████████████████████████████████████████████████████████████\u001b[0m| 390/390 [00:00<00:00, 549.84it/s, loss: 0.01315]\u001b[0m\n",
      "14:28:32 INFO - callback: [186.0s]: [VAL] | Epoch: 120 | Iter: 0 | chi_form: -141.6601-0.0063j | det_g: 0.0017 | einstein_norm: 0.8899 | kahler_loss: 0.0000 | monge_ampere_loss: 0.0130 | ricci_measure: 0.0281 | ricci_scalar: 0.0299 | ricci_tensor_norm: 0.0384 | sigma_measure: 0.0183 | vol_CY: 0.0279 | vol_Omega: 0.7103 | vol_loss: 0.0002\n",
      "Epoch: 120: 100%|\u001b[32m███████████████████████████████████████████████████████████████████████████████████████████████████████████████████████████████████████████████████████████████████████████████████████████████████████████\u001b[0m| 390/390 [00:00<00:00, 548.59it/s, loss: 0.01400]\u001b[0m\n",
      "Epoch: 121: 100%|\u001b[32m███████████████████████████████████████████████████████████████████████████████████████████████████████████████████████████████████████████████████████████████████████████████████████████████████████████\u001b[0m| 390/390 [00:00<00:00, 542.58it/s, loss: 0.01359]\u001b[0m\n",
      "Epoch: 122: 100%|\u001b[32m███████████████████████████████████████████████████████████████████████████████████████████████████████████████████████████████████████████████████████████████████████████████████████████████████████████\u001b[0m| 390/390 [00:00<00:00, 538.37it/s, loss: 0.01296]\u001b[0m\n",
      "Epoch: 123: 100%|\u001b[32m███████████████████████████████████████████████████████████████████████████████████████████████████████████████████████████████████████████████████████████████████████████████████████████████████████████\u001b[0m| 390/390 [00:00<00:00, 542.21it/s, loss: 0.01368]\u001b[0m\n",
      "Epoch: 124: 100%|\u001b[32m███████████████████████████████████████████████████████████████████████████████████████████████████████████████████████████████████████████████████████████████████████████████████████████████████████████\u001b[0m| 390/390 [00:00<00:00, 551.13it/s, loss: 0.01362]\u001b[0m\n",
      "14:28:38 INFO - callback: [191.5s]: [VAL] | Epoch: 125 | Iter: 0 | chi_form: -145.2401-0.0202j | det_g: 0.0017 | einstein_norm: 0.8886 | kahler_loss: 0.0000 | monge_ampere_loss: 0.0130 | ricci_measure: 0.0244 | ricci_scalar: -0.0146 | ricci_tensor_norm: 0.0386 | sigma_measure: 0.0186 | vol_CY: 0.0276 | vol_Omega: 0.7028 | vol_loss: 0.0001\n",
      "Epoch: 125: 100%|\u001b[32m███████████████████████████████████████████████████████████████████████████████████████████████████████████████████████████████████████████████████████████████████████████████████████████████████████████\u001b[0m| 390/390 [00:00<00:00, 554.48it/s, loss: 0.01296]\u001b[0m\n",
      "Epoch: 126: 100%|\u001b[32m███████████████████████████████████████████████████████████████████████████████████████████████████████████████████████████████████████████████████████████████████████████████████████████████████████████\u001b[0m| 390/390 [00:00<00:00, 559.61it/s, loss: 0.01254]\u001b[0m\n",
      "Epoch: 127: 100%|\u001b[32m███████████████████████████████████████████████████████████████████████████████████████████████████████████████████████████████████████████████████████████████████████████████████████████████████████████\u001b[0m| 390/390 [00:00<00:00, 554.74it/s, loss: 0.01302]\u001b[0m\n"
     ]
    }
   ],
   "source": [
    "import time\n",
    "from tqdm import tqdm\n",
    "from collections import defaultdict\n",
    "\n",
    "eval_interval = 5\n",
    "storage = defaultdict(list)\n",
    "\n",
    "try:\n",
    "    device = jax.devices('gpu')[0]\n",
    "except:\n",
    "    device = jax.devices('cpu')[0]\n",
    "\n",
    "with jax.default_device(device):\n",
    "    logger.info(f\"Running on {device}\")\n",
    "    \n",
    "    for epoch in range(config.n_epochs):\n",
    "        if (epoch % eval_interval == 0):\n",
    "            val_loader, val_data = dataloading.get_validation_data(val_loader, config.batch_size, data_val, np_rng)\n",
    "            storage = callback(epoch, t0, 0, val_data, metric_params, metric_fn, g_FS_fn, config, storage, logger, mode='VAL')\n",
    "        \n",
    "        if epoch > 0:\n",
    "            train_loader = dataloading.data_loader(data_train, config.batch_size, np_rng)\n",
    "    \n",
    "        train_loader_it = tqdm(train_loader, desc=f\"Epoch: {epoch}\", total=data_train[0].shape[0]//config.batch_size,\n",
    "                               colour='green', mininterval=0.1)\n",
    "        for t, data in enumerate(train_loader_it):\n",
    "            metric_params, opt_state, loss = train_step(data, metric_params, opt_state, metric_fn, optimizer, config.kappa)\n",
    "            train_loader_it.set_postfix_str(f\"loss: {loss:.5f}\", refresh=False)\n",
    "\n",
    "# save parameters to disk\n",
    "utils.basic_ckpt(metric_params, opt_state, config.name, 'FIN')\n",
    "utils.save_logs(storage, config.name, 'FIN')"
   ]
  },
  {
   "cell_type": "markdown",
   "metadata": {},
   "source": [
    "## Sanity check\n",
    "\n",
    "As a sanity check, we may verify that the resulting metric is approximately Ricci-flat by investigating the behaviour of the Ricci tensor $\\textsf{Ric}$ and Ricci scalar $R$, defined in terms of the Riemann curvature tensor $\\textsf{Riem} \\in \\Omega^2(X; \\textsf{End}(T_X))$, respectively, over training:\n",
    "\\begin{align*}\n",
    "\\textsf{Ric}(X,Y) &= \\textsf{Tr}\\left(Z \\mapsto \\textsf{Riem}(Z,X)Y\\right), \\quad X, Y \\in \\Gamma(T_X)~,\\\\\n",
    "R &= \\textsf{Tr}(\\textsf{Ric})~.\n",
    "\\end{align*}"
   ]
  },
  {
   "cell_type": "code",
   "execution_count": 9,
   "metadata": {},
   "outputs": [],
   "source": [
    "import matplotlib.pyplot as plt\n",
    "from matplotlib.gridspec import GridSpec\n",
    "plt.rcParams.update({'font.size': 14})\n",
    "# remove if no local tex installation\n",
    "plt.rcParams['text.usetex'] = True \n",
    "plt.rcParams['text.latex.preamble'] = r'\\usepackage[cm]{sfmath} \\usepackage{amssymb} \\usepackage{mathrsfs} \\usepackage{amsmath}'\n",
    "plt.rcParams['font.sans-serif'] = 'cm'"
   ]
  },
  {
   "cell_type": "code",
   "execution_count": 10,
   "metadata": {},
   "outputs": [
    {
     "data": {
      "image/png": "[encoded data removed]",
      "text/plain": [
       "<Figure size 1700x700 with 2 Axes>"
      ]
     },
     "metadata": {},
     "output_type": "display_data"
    }
   ],
   "source": [
    "fig = plt.figure(figsize=(17,7))\n",
    "gs=GridSpec(1,2)\n",
    "ax1=fig.add_subplot(gs[0,0])\n",
    "ax2=fig.add_subplot(gs[0,1])\n",
    "\n",
    "S = np.abs(storage['ricci_scalar'])\n",
    "n = 32\n",
    "ax1.plot(np.arange(len(S))[:n], np.abs(S)[:n], c='royalblue')\n",
    "ax1.set_xlabel(f'Epochs/{eval_interval}')\n",
    "ax1.set_ylabel(r'$R$')\n",
    "ax1.grid(True, 'both')\n",
    "\n",
    "R = storage['ricci_tensor_norm']\n",
    "ax2.plot(np.arange(len(R))[:n], np.abs(R)[:n], c='royalblue')\n",
    "ax2.set_xlabel(f'Epochs/{eval_interval}')\n",
    "ax2.set_ylabel(r'$\\Vert \\textsf{Ric} \\Vert_2$')\n",
    "ax2.grid(True, 'both')"
   ]
  },
  {
   "cell_type": "markdown",
   "metadata": {},
   "source": [
    "Now that we have an approximation to the Ricci-flat metric on $X$, we can use this to do geometry - e.g. measure lengths, areas, volumes, and study the spectrum of various differential operators. See the `harmonic_forms` example notebook, where we use the learnt metric to find the zero modes of the Laplacian on $X$. "
   ]
  }
 ],
 "metadata": {
  "kernelspec": {
   "display_name": "Python 3 (ipykernel)",
   "language": "python",
   "name": "python3"
  },
  "language_info": {
   "codemirror_mode": {
    "name": "ipython",
    "version": 3
   },
   "file_extension": ".py",
   "mimetype": "text/x-python",
   "name": "python",
   "nbconvert_exporter": "python",
   "pygments_lexer": "ipython3",
   "version": "3.10.12"
  }
 },
 "nbformat": 4,
 "nbformat_minor": 4
}
