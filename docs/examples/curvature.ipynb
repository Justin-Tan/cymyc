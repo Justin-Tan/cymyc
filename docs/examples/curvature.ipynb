{
 "cells": [
  {
   "cell_type": "markdown",
   "id": "d24edadd-94a1-43b5-a8c4-5efce6e914b1",
   "metadata": {},
   "source": [
    "# Curvature\n",
    "\n",
    "In this introductory example we compute various curvature quantities from the Riemannian metric on a manifold and compare against analytically known results. Everything here should be accessible with a basic knowledge of scientific computing and differential geometry. There are two Jax-specific transformations which we explain briefly below, for more detail please see the [official guides](https://jax.readthedocs.io/en/latest/notebooks/thinking_in_jax.html#how-to-think-in-jax).\n",
    "\n",
    "* `jax.jit`: Short for Just-in-Time compilation, this converts Jax Python functions to an optimised sequence of primitive operations which are then passed to some hardware accelerator. The output of `jit` is another function - usually one that executes significantly faster than the Python equivalent. The price to be paid is that the program logic of a `jit`-compatible function is constrained by the compiler, so you don't want (or need) to `jit` everything.\n",
    "* `jax.vmap`: Short for Vectorising Map, this transforms Jax Python functions written for execution on a single array element, to one which is automatically vectorised across the specified array axes. Again, program logic of a `vmap`-compatible function is restricted.\n",
    "\n",
    "Jax transformations are compatible - you can `jit` a `vmap`-ed function and vice-versa. And that's pretty much all you need to know to understand this example!\n",
    "\n",
    "While not a dependency of the package, the example notebooks require the installation of `jupyter`, run this locally if you haven't already.\n",
    "```\n",
    "pip install --upgrade jupyter notebook\n",
    "```"
   ]
  },
  {
   "cell_type": "code",
   "execution_count": 1,
   "id": "2d2f0406-3d0e-41f3-a373-60ee723e1e73",
   "metadata": {},
   "outputs": [],
   "source": [
    "import jax\n",
    "from jax import random, jit, vmap\n",
    "import jax.numpy as jnp\n",
    "\n",
    "import os, time\n",
    "import numpy as np\n",
    "\n",
    "from functools import partial\n",
    "\n",
    "jax.config.update(\"jax_enable_x64\", True)"
   ]
  },
  {
   "cell_type": "markdown",
   "id": "9cc0a47b-49f3-432b-8300-62b062d2b4ca",
   "metadata": {},
   "source": [
    "## Manifold definition / point sampling\n",
    "The routines in this library will work for an arbitrary real or complex manifold from which points may be sampled from. In this example, we consider complex projective space $\\mathbb{P}^n$. This the space of complex lines in $\\mathbb{C}^{n+1}$ which pass through the origin.\n",
    "\n",
    "To sample from $\\mathbb{P}^n$, we use the fact that every complex line intersects the unit sphere along a circle, whose $U(1)$ action we mod out, $\\mathbb{P}^n \\simeq S^{2n+1} / U(1)$. This means that samples from the unit sphere, appropriately complexified, give samples in homogeneous coordinates on projective space. Here we set $n=5$."
   ]
  },
  {
   "cell_type": "code",
   "execution_count": 2,
   "id": "832f9f0e-8c37-4951-935d-8026a3e302e6",
   "metadata": {},
   "outputs": [],
   "source": [
    "from cymyc.utils import math_utils\n",
    "\n",
    "ambient_dim = 10\n",
    "N = 10\n",
    "seed = int(time.time()) # 42\n",
    "rng = random.PRNGKey(seed)\n",
    "rng, _rng = random.split(rng)\n",
    "\n",
    "def S2np1_uniform(key, n_p, n, dtype=np.float64):\n",
    "    \"\"\"\n",
    "    Sample `n_p` points uniformly on the unit sphere $S^{2n+1}$, treated as CP^n\n",
    "    \"\"\"\n",
    "    # return random.uniform(key, (n,))*jnp.pi, random.uniform(key, (n,)) * 2 * jnp.pi\n",
    "    x = random.normal(key, shape=(n_p, 2*(n+1)), dtype=dtype)\n",
    "    x_norm = x / jnp.linalg.norm(x, axis=1, keepdims=True)\n",
    "    sample = math_utils.to_complex(x_norm.reshape(-1, n+1, 2))\n",
    "\n",
    "    return jnp.squeeze(sample)"
   ]
  },
  {
   "cell_type": "code",
   "execution_count": 3,
   "id": "065d8bab-cd40-4c09-a758-3b6b8b62236a",
   "metadata": {},
   "outputs": [
    {
     "data": {
      "text/plain": [
       "Array([[ 0.02736979-0.22389161j,  0.25014222-0.34731673j,\n",
       "        -0.00753072-0.29925316j,  0.25562023+0.29378541j,\n",
       "        -0.05679859-0.20567943j,  0.04690634+0.12982876j,\n",
       "         0.15532516+0.14336839j,  0.20046198-0.38581777j,\n",
       "        -0.26256972+0.28638481j, -0.12090856-0.13025232j,\n",
       "         0.00636905+0.20921725j],\n",
       "       [ 0.00833806-0.12314272j,  0.33281516+0.1516645j ,\n",
       "        -0.1483373 -0.16471397j, -0.1052314 +0.2249917j ,\n",
       "        -0.08208166-0.10561346j,  0.49581376-0.1674636j ,\n",
       "        -0.00324378-0.21552658j,  0.24867794-0.19161808j,\n",
       "        -0.14643599+0.17849217j,  0.41380261-0.19468098j,\n",
       "        -0.17593772-0.09995519j],\n",
       "       [ 0.27014354+0.43684002j, -0.20377776-0.11443033j,\n",
       "        -0.21397595-0.00243355j,  0.1063651 +0.17664001j,\n",
       "        -0.41157039-0.09987887j,  0.07792631+0.01783108j,\n",
       "        -0.1407708 -0.14530487j, -0.00628455-0.20375251j,\n",
       "        -0.26621185+0.2402969j , -0.12324527-0.3368604j ,\n",
       "        -0.08962662+0.24437101j],\n",
       "       [ 0.298288  +0.0090613j , -0.09293679+0.12098218j,\n",
       "         0.15873836+0.30437709j,  0.09010836+0.24775444j,\n",
       "         0.12491493+0.0599167j ,  0.06105556+0.02011806j,\n",
       "        -0.06107647-0.08125648j,  0.39116699+0.09845587j,\n",
       "        -0.06334902+0.10514544j, -0.37315632+0.03532256j,\n",
       "         0.1744366 -0.5638871j ],\n",
       "       [-0.03686343-0.11681997j, -0.04676194-0.14645691j,\n",
       "         0.16080594-0.16616212j,  0.16180508+0.22286588j,\n",
       "        -0.20503923+0.14494859j,  0.2959065 -0.2568473j ,\n",
       "         0.28694812-0.21742779j, -0.29545629+0.15549756j,\n",
       "        -0.43242921-0.02473469j,  0.20736562+0.35661549j,\n",
       "        -0.10635665+0.07263177j],\n",
       "       [ 0.37908512+0.22849334j,  0.012651  -0.37016357j,\n",
       "         0.22781669-0.11919621j,  0.14999072+0.33529792j,\n",
       "         0.17039864+0.07631351j,  0.31776397-0.03556206j,\n",
       "         0.22090967+0.03842842j,  0.13607875+0.32494174j,\n",
       "        -0.24973331+0.02489945j, -0.10798666-0.08427205j,\n",
       "         0.21141219-0.16717926j],\n",
       "       [ 0.1293235 +0.20853088j,  0.11784573-0.14996482j,\n",
       "        -0.26778802+0.11306106j,  0.0662057 +0.04690227j,\n",
       "         0.37957281-0.12004818j,  0.27164364+0.26007059j,\n",
       "        -0.22151153-0.03442996j,  0.10460384+0.45146498j,\n",
       "        -0.15981234-0.348539j  ,  0.08582687+0.19522458j,\n",
       "        -0.20275629-0.11746974j],\n",
       "       [ 0.2527872 +0.06671784j, -0.10444607+0.02656615j,\n",
       "         0.08960571-0.07636178j,  0.08993089-0.34046328j,\n",
       "        -0.20523979+0.51587811j, -0.33898292-0.14847849j,\n",
       "         0.17718462+0.22234663j,  0.0333801 -0.30936953j,\n",
       "         0.20401253-0.20578521j,  0.12323492-0.24393537j,\n",
       "        -0.0247256 +0.00575643j],\n",
       "       [-0.00236344-0.47434857j,  0.35553164-0.21107713j,\n",
       "         0.10827872-0.14736322j,  0.0215133 +0.04707496j,\n",
       "        -0.24504572-0.09207816j, -0.3192196 +0.02622722j,\n",
       "         0.02600101+0.03722147j, -0.21314049-0.04537127j,\n",
       "        -0.1855012 -0.37369281j, -0.31240302-0.2581296j ,\n",
       "        -0.08234807-0.04673321j],\n",
       "       [ 0.12391426-0.15099357j, -0.10282917-0.07848328j,\n",
       "         0.26018045-0.39339781j, -0.12754509+0.16708262j,\n",
       "         0.12648189-0.10537365j,  0.02287195+0.006204j  ,\n",
       "         0.0445617 -0.0977747j , -0.37106113+0.25683421j,\n",
       "        -0.13924258+0.10475447j,  0.45967485+0.29416271j,\n",
       "         0.27354486-0.18053403j]], dtype=complex128)"
      ]
     },
     "execution_count": 3,
     "metadata": {},
     "output_type": "execute_result"
    }
   ],
   "source": [
    "Z = S2np1_uniform(_rng, N, ambient_dim)\n",
    "Z"
   ]
  },
  {
   "cell_type": "markdown",
   "id": "9a03b09f-d765-4d90-b11e-b62b2534e43f",
   "metadata": {},
   "source": [
    "We now use the scaling freedom in projective space to convert homogeneous coords on $\\mathbb{C}\\mathbb{P}^n$, $\\left[z_0 : \\cdots : z_n\\right]$ to inhomogeneous coords in some local coordinate chart where $z_{\\alpha}$ nonzero, setting $z_{\\alpha} = 1$ and removing it from the coordinate description,\n",
    "\n",
    "$$\\left[z_0 : \\cdots : z_n\\right] \\mapsto \\left(\\frac{z_0}{z_{\\alpha}}, \\ldots, \\frac{z_{\\alpha-1}}{z_{\\alpha}}, \\frac{z_{\\alpha+1}}{z_{\\alpha}}, \\ldots, \\frac{z_n}{z_{\\alpha}}\\right) \\triangleq \\zeta^{(\\alpha)}~. $$"
   ]
  },
  {
   "cell_type": "code",
   "execution_count": 4,
   "id": "5485cd10-966f-46c0-8c7a-b59ad6b72be4",
   "metadata": {},
   "outputs": [
    {
     "data": {
      "text/plain": [
       "(10, 10)"
      ]
     },
     "execution_count": 4,
     "metadata": {},
     "output_type": "execute_result"
    }
   ],
   "source": [
    "Z, _ = math_utils.rescale(Z)\n",
    "z = vmap(math_utils._inhomogenize)(Z)\n",
    "z.shape"
   ]
  },
  {
   "cell_type": "markdown",
   "id": "5b61f375-8c7e-45da-bc6c-fdc9877d4af2",
   "metadata": {},
   "source": [
    "## Metric definition\n",
    "\n",
    "There is a natural metric on $\\mathbb{P}^n$ - the **Fubini-Study metric**. Viewing $\\mathbb{P}^n$ as the quotient $S^{2n+1} / U(1)$, the Fubini_study metric is the unique metric such that the projection $\\pi: S^{2n+1} \\rightarrow \\mathbb{P}^n$ is a Riemannian submersion. In inhomogeneous coordinates,\n",
    "\n",
    "$$ g_{\\mu \\bar{\\nu}} = \\frac{1}{\\sigma}\\left( \\delta_{\\mu \\overline{\\nu}} - \\frac{\\zeta_{\\mu}\\zeta_{\\bar{\\nu}}}{\\sigma}\\right), \\quad \\sigma = 1 + \\sum_{m=1}^n \\zeta_m\\bar{\\zeta}_m~. $$\n",
    "\n",
    "The function below returns the FS metric in local coordinates. Note it requires a real input for autodiff to play nice, so we use the map \n",
    "\n",
    "$$z = (z_1, \\ldots, z_n) \\in \\mathbb{C}^n \\mapsto (\\Re(z_1), \\ldots, \\Re(z_n); \\Im(z_1), \\ldots, \\Im(z_n)) \\in \\mathbb{R}^{2n}~.$$"
   ]
  },
  {
   "cell_type": "code",
   "execution_count": 5,
   "id": "1d75544b-6d68-4cce-99ec-77d1ac521ba0",
   "metadata": {},
   "outputs": [],
   "source": [
    "def fubini_study_metric(p):\n",
    "    \"\"\"\n",
    "    Returns FS metric in CP^n evaluated at `p`.\n",
    "    Parameters\n",
    "    ----------\n",
    "        `p`     : 2*complex_dim real inhomogeneous coords at \n",
    "                  which metric matrix is evaluated. Shape [i].\n",
    "    Returns\n",
    "    ----------\n",
    "        `g`     : Hermitian metric in CP^n, $g_{ij}$. Shape [i,j].\n",
    "    \"\"\"\n",
    "\n",
    "    # Inhomogeneous coords\n",
    "    complex_dim = p.shape[-1]//2\n",
    "    zeta = jax.lax.complex(p[:complex_dim],\n",
    "                           p[complex_dim:])\n",
    "    zeta_bar = jnp.conjugate(zeta)\n",
    "    zeta_sq = 1. + jnp.sum(zeta * zeta_bar)\n",
    "    \n",
    "    zeta_outer = jnp.einsum('...i,...j->...ij', zeta_bar, zeta)\n",
    "\n",
    "    delta_mn = jnp.eye(complex_dim, dtype=jnp.complex64) \n",
    "\n",
    "    g_FS = jnp.divide(delta_mn * zeta_sq - zeta_outer, jnp.square(zeta_sq))\n",
    "    \n",
    "    return g_FS"
   ]
  },
  {
   "cell_type": "code",
   "execution_count": 6,
   "id": "ca3e77ee-b1d0-41e7-9993-86401d63af23",
   "metadata": {},
   "outputs": [
    {
     "data": {
      "text/plain": [
       "(10, 10, 10)"
      ]
     },
     "execution_count": 6,
     "metadata": {},
     "output_type": "execute_result"
    }
   ],
   "source": [
    "p = math_utils.to_real(z)\n",
    "g_FS = vmap(fubini_study_metric)(p)\n",
    "g_FS.shape"
   ]
  },
  {
   "cell_type": "markdown",
   "id": "82e34e51",
   "metadata": {},
   "source": [
    "We can benchmark execution times with and without `jit`-compilation - note the exact speedup will depend on the hardware available. "
   ]
  },
  {
   "cell_type": "code",
   "execution_count": 7,
   "id": "c61fda5d",
   "metadata": {},
   "outputs": [
    {
     "name": "stdout",
     "output_type": "stream",
     "text": [
      "6.09 ms ± 271 μs per loop (mean ± std. dev. of 7 runs, 100 loops each)\n"
     ]
    }
   ],
   "source": [
    "%%timeit\n",
    "_ = vmap(fubini_study_metric)(p).block_until_ready()"
   ]
  },
  {
   "cell_type": "code",
   "execution_count": 8,
   "id": "d6cc39a3",
   "metadata": {},
   "outputs": [
    {
     "name": "stdout",
     "output_type": "stream",
     "text": [
      "629 μs ± 11.5 μs per loop (mean ± std. dev. of 7 runs, 1,000 loops each)\n"
     ]
    }
   ],
   "source": [
    "%%timeit\n",
    "_ = vmap(jit(fubini_study_metric))(p).block_until_ready()"
   ]
  },
  {
   "cell_type": "markdown",
   "id": "f06e1411-712d-41a4-81b2-6c0aced74071",
   "metadata": {},
   "source": [
    "### The Kähler potential\n",
    "$\\mathbb{P}^n$ is a Kähler manifold - this imbues it with many special properties, one of them being that the metric is locally determined by a single real scalar function, the Kähler potential, $\\mathcal{K} \\in C^{\\infty}(\\mathbb{P}^n)$.\n",
    "\n",
    "\\begin{align*}\n",
    "g_{\\mu \\bar{\\nu }} &= \\partial_{\\mu}\\overline{\\partial}_{\\bar{\\nu}} \\mathcal{K}~, \\\\\n",
    "\\mathcal{K} &= \\log \\left( 1+ \\sum_{m=1}^n \\left\\vert \\zeta_m \\right\\vert^2\\right)~.\n",
    "\\end{align*}\n",
    "\n",
    "This is particularly important in the context of approximating metrics, as it allows one to reduce the problem to approximation of a single scalar function."
   ]
  },
  {
   "cell_type": "code",
   "execution_count": 9,
   "id": "28273d9e-2f67-438e-ac23-6f5124f5ef15",
   "metadata": {},
   "outputs": [],
   "source": [
    "def fubini_study_potential(p):\n",
    "    \"\"\"\n",
    "    Returns Kahler potential associated with the FS metric\n",
    "    in CP^n evaluated at `p`.\n",
    "    Parameters\n",
    "    ----------\n",
    "        `p`        : 2*complex_dim real inhomogeneous coords at \n",
    "                     which potential is evaluated. Shape [i].\n",
    "    Returns\n",
    "    ----------\n",
    "        `phi`      : Kahler potential, real scalar. Shape [].  \n",
    "    \"\"\"\n",
    "    zeta_sq = jnp.sum(p**2)\n",
    "    return jnp.log(1. + zeta_sq)"
   ]
  },
  {
   "cell_type": "code",
   "execution_count": 10,
   "id": "79260688-0a13-439f-8da0-0b4d988a0195",
   "metadata": {},
   "outputs": [
    {
     "data": {
      "text/plain": [
       "(10, 10, 10)"
      ]
     },
     "execution_count": 10,
     "metadata": {},
     "output_type": "execute_result"
    }
   ],
   "source": [
    "from cymyc import curvature\n",
    "_g_FS = vmap(curvature.del_z_bar_del_z, in_axes=(0,None))(p, fubini_study_potential)\n",
    "_g_FS.shape"
   ]
  },
  {
   "cell_type": "code",
   "execution_count": 11,
   "id": "eaca999a-f8f3-4f1c-9419-0701a18a7229",
   "metadata": {},
   "outputs": [
    {
     "data": {
      "text/plain": [
       "Array(True, dtype=bool)"
      ]
     },
     "execution_count": 11,
     "metadata": {},
     "output_type": "execute_result"
    }
   ],
   "source": [
    "jnp.allclose(g_FS, _g_FS)"
   ]
  },
  {
   "cell_type": "markdown",
   "id": "e33479cf-efca-418c-9737-e47f5e9dc420",
   "metadata": {},
   "source": [
    "## Riemann tensor"
   ]
  },
  {
   "cell_type": "markdown",
   "id": "38c5c353-6701-423a-93ac-dac6dc57a539",
   "metadata": {},
   "source": [
    "Measures of curvature corresponding to a given metric tensor involve derivatives of the metric - if a function corresponding to the metric tensor is known, these may be easily computed numerically using autodiff. The most important curvature quantity is the Riemann curvature - the endomorphism-valued two-form that informs us about local curvature effects, $\\textsf{Riem} \\in \\Omega^2(X; \\textsf{End}(T_X))$.\n",
    "\n",
    "Schematically, the curvature tensor is given by taking two derivatives of the metric tensor w.r.t. the input coordinates. $\\Gamma$ below refers to the Levi-Civita connection in local coordinates,\n",
    "\n",
    "$$\\textsf{Riem} \\sim \\partial \\Gamma + \\Gamma \\cdot \\Gamma, \\quad \\Gamma \\sim g^{-1} \\partial g~.$$"
   ]
  },
  {
   "cell_type": "code",
   "execution_count": 12,
   "id": "71d09a13-2aea-46c7-838d-b3647dccff5d",
   "metadata": {},
   "outputs": [],
   "source": [
    "riem = vmap(curvature.riemann_tensor_kahler, in_axes=(0,None))(p, jax.tree_util.Partial(fubini_study_metric))"
   ]
  },
  {
   "cell_type": "markdown",
   "id": "c1465d2d-6a40-4bba-a4e8-22782c7d66a6",
   "metadata": {},
   "source": [
    "This involves two derivatives of a potentially expensive function, but is reasonably speedy for even $10^4$ points, as we can test by benchmarking - in this case the function is already `jit`-ed at definition. Note nested `jit`s are equivalent to a single `jit`."
   ]
  },
  {
   "cell_type": "code",
   "execution_count": 13,
   "id": "d618a618-cf5d-4c89-9fcc-256da602c0b5",
   "metadata": {},
   "outputs": [
    {
     "name": "stdout",
     "output_type": "stream",
     "text": [
      "1.54 ms ± 65.2 μs per loop (mean ± std. dev. of 7 runs, 1,000 loops each)\n"
     ]
    }
   ],
   "source": [
    "%%timeit\n",
    "riem = vmap(curvature.riemann_tensor_kahler, in_axes=(0,None))(p, jax.tree_util.Partial(fubini_study_metric)).block_until_ready()\n",
    "riem.shape"
   ]
  },
  {
   "cell_type": "code",
   "execution_count": 14,
   "id": "88e4dc1f-049c-40fa-aade-7f567b35759a",
   "metadata": {},
   "outputs": [],
   "source": [
    "rtk = partial(curvature.riemann_tensor_kahler, return_aux=True)"
   ]
  },
  {
   "cell_type": "code",
   "execution_count": 15,
   "id": "882a3dae-6b00-47d9-a1ec-696377b66f93",
   "metadata": {},
   "outputs": [],
   "source": [
    "_, riem = vmap(rtk, in_axes=(0,None))(p, jax.tree_util.Partial(fubini_study_metric))"
   ]
  },
  {
   "cell_type": "code",
   "execution_count": 16,
   "id": "21dee3e5-a278-4331-84c0-933ecf707f4a",
   "metadata": {},
   "outputs": [
    {
     "data": {
      "text/plain": [
       "(10, 10, 10, 10, 10)"
      ]
     },
     "execution_count": 16,
     "metadata": {},
     "output_type": "execute_result"
    }
   ],
   "source": [
    "riem = jnp.einsum('...abcd, ...ae->...becd', riem, g_FS)\n",
    "riem.shape"
   ]
  },
  {
   "cell_type": "markdown",
   "id": "c6570d44-02fe-4644-ae46-6d483cfa231b",
   "metadata": {},
   "source": [
    "### First Bianchi identity\n",
    "We form the Riemann tensor with all indices lowered using the musical isomorphism defined by the metric. The resulting tensor satisifies the following symmetries, as a consequence of the first Bianchi identity,\n",
    "\n",
    "$$ \\textsf{Riem}_{a\\overline{b}c\\overline{d}} = \\textsf{Riem}_{a \\overline{d} c \\overline{b}} = \\textsf{Riem}_{c \\overline{b} a \\overline{d}} = \\textsf{Riem}_{c \\overline{d} a \\overline{b}}~.$$"
   ]
  },
  {
   "cell_type": "code",
   "execution_count": 17,
   "id": "c30afce9-646d-480b-b451-01915b5971b4",
   "metadata": {},
   "outputs": [],
   "source": [
    "riem_lower = jnp.einsum('...ibcd, ...ia->...bacd', riem, g_FS)"
   ]
  },
  {
   "cell_type": "code",
   "execution_count": 18,
   "id": "537dee2c-d57c-4308-a535-825316993b5f",
   "metadata": {},
   "outputs": [
    {
     "data": {
      "text/plain": [
       "Array(False, dtype=bool)"
      ]
     },
     "execution_count": 18,
     "metadata": {},
     "output_type": "execute_result"
    }
   ],
   "source": [
    "jnp.allclose(riem_lower, jnp.einsum('...abcd->...adcb', riem_lower))  # first equality"
   ]
  },
  {
   "cell_type": "code",
   "execution_count": 19,
   "id": "acdcc108-d1fe-4bc0-8bd8-a64a2c50f937",
   "metadata": {},
   "outputs": [
    {
     "data": {
      "text/plain": [
       "Array(True, dtype=bool)"
      ]
     },
     "execution_count": 19,
     "metadata": {},
     "output_type": "execute_result"
    }
   ],
   "source": [
    "jnp.allclose(riem_lower, jnp.einsum('...abcd->...cbad', riem_lower))  # second equality"
   ]
  },
  {
   "cell_type": "code",
   "execution_count": 20,
   "id": "40add327-7b6c-4dfd-83ba-ca8c54449da5",
   "metadata": {},
   "outputs": [
    {
     "data": {
      "text/plain": [
       "Array(False, dtype=bool)"
      ]
     },
     "execution_count": 20,
     "metadata": {},
     "output_type": "execute_result"
    }
   ],
   "source": [
    "jnp.allclose(riem_lower, jnp.einsum('...abcd->...cdab', riem_lower))  # third equality"
   ]
  },
  {
   "cell_type": "markdown",
   "id": "50a88a05-fd77-4c98-b8b3-9dd551b59063",
   "metadata": {},
   "source": [
    "## Ricci curvature"
   ]
  },
  {
   "cell_type": "markdown",
   "id": "f63d3fe3-0347-463e-aae0-63df9c25c0fd",
   "metadata": {},
   "source": [
    "Complex projective space is an Einstein manifold, meaning that the Fubini-Study metric on $\\mathbb{P}^n$ is proportional to the Ricci curvature. The Ricci curvature is another important measure of curvature derived from $\\textsf{Riem}$, which roughly measures the degree of volume distortion relative to Euclidean space as one travels along geodesics emanating from a given point.\n",
    "\n",
    "$$\\textsf{Ric} = \\Lambda g~.$$\n",
    "\n",
    "For $\\mathbb{P}^n$ the Einstein constant is $\\Lambda = n+1; \\textsf{Ric} = (n+1) g_{FS}$.\n",
    "\n",
    "The Ricci curvature is given, in local coordinates, as the trace of the endomorphism part of the Riemann curvature tensor,\n",
    "\n",
    "$$ \\textsf{Ric}_{\\mu \\bar{\\nu}} \\triangleq \\textsf{Riem}^{\\kappa}_{\\; \\kappa \\mu \\bar{\\nu}} = \\textsf{Riem}^{\\kappa}_{\\; \\mu \\kappa \\bar{\\nu}}~.$$"
   ]
  },
  {
   "cell_type": "code",
   "execution_count": 21,
   "id": "5118f9ce-4e3e-46ba-b4d9-05dfccca88d7",
   "metadata": {},
   "outputs": [],
   "source": [
    "ricci = vmap(curvature.ricci_tensor_kahler, in_axes=(0,None))(p, jax.tree_util.Partial(fubini_study_metric))"
   ]
  },
  {
   "cell_type": "code",
   "execution_count": 22,
   "id": "e166061e-92fc-4baf-8bab-152f47316578",
   "metadata": {},
   "outputs": [
    {
     "data": {
      "text/plain": [
       "Array(True, dtype=bool)"
      ]
     },
     "execution_count": 22,
     "metadata": {},
     "output_type": "execute_result"
    }
   ],
   "source": [
    "jnp.allclose(ricci, (ambient_dim + 1) * g_FS)"
   ]
  },
  {
   "cell_type": "markdown",
   "id": "40cfb945-4bfa-455f-b576-25751d921543",
   "metadata": {},
   "source": [
    "This also means that the Ricci scalar, the trace of the Ricci curvature, should be, on $\\mathbb{P}^n$:\n",
    "\n",
    "$$ \\textsf{R} = n(n+1)~.$$"
   ]
  },
  {
   "cell_type": "code",
   "execution_count": 23,
   "id": "9b3addcb-dc1c-446a-a2c2-484f6439c884",
   "metadata": {},
   "outputs": [
    {
     "data": {
      "text/plain": [
       "Array([110.+8.26087339e-16j, 110.-4.13292887e-16j, 110.+6.68198714e-16j,\n",
       "       110.-6.83617305e-17j, 110.-1.03265506e-15j, 110.-1.35128649e-15j,\n",
       "       110.+7.40287060e-16j, 110.+4.10574786e-16j, 110.+1.34577413e-15j,\n",
       "       110.+1.86926177e-15j], dtype=complex128)"
      ]
     },
     "execution_count": 23,
     "metadata": {},
     "output_type": "execute_result"
    }
   ],
   "source": [
    "jnp.einsum('...ba, ...ab', jnp.linalg.inv(g_FS), ricci)"
   ]
  }
 ],
 "metadata": {
  "kernelspec": {
   "display_name": "Python 3 (ipykernel)",
   "language": "python",
   "name": "python3"
  },
  "language_info": {
   "codemirror_mode": {
    "name": "ipython",
    "version": 3
   },
   "file_extension": ".py",
   "mimetype": "text/x-python",
   "name": "python",
   "nbconvert_exporter": "python",
   "pygments_lexer": "ipython3",
   "version": "3.10.12"
  }
 },
 "nbformat": 4,
 "nbformat_minor": 5
}
