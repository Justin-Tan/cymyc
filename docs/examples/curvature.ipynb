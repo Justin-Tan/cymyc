{
 "cells": [
  {
   "cell_type": "markdown",
   "id": "d24edadd-94a1-43b5-a8c4-5efce6e914b1",
   "metadata": {},
   "source": [
    "# Curvature\n",
    "\n",
    "In this introductory example we compute various curvature quantities from the Riemannian metric on a manifold and compare against analytically known results. Everything here should be accessible with a basic knowledge of scientific computing and differential geometry. There are two Jax-specific transformations which we explain briefly below, for more detail please see the [official guides](https://jax.readthedocs.io/en/latest/notebooks/thinking_in_jax.html#how-to-think-in-jax).\n",
    "\n",
    "* `jax.jit`: Short for Just-in-Time compilation, this converts Jax Python functions to an optimised sequence of primitive operations which are then passed to some hardware accelerator. The output of `jit` is another function - usually one that executes significantly faster than the Python equivalent. The price to be paid is that the program logic of a `jit`-compatible function is constrained by the compiler, so you don't want (or need) to `jit` everything.\n",
    "* `jax.vmap`: Short for Vectorising Map, this transforms Jax Python functions written for execution on a single array element, to one which is automatically vectorised across the specified array axes. Again, program logic of a `vmap`-compatible function is restricted.\n",
    "\n",
    "Jax transformations are compatible - you can `jit` a `vmap`-ed function and vice-versa. And that's pretty much all you need to know to understand this example!\n",
    "\n",
    "While not a dependency of the package, the example notebooks require the installation of `jupyter`, run this locally if you haven't already.\n",
    "```\n",
    "pip install --upgrade jupyter notebook\n",
    "```"
   ]
  },
  {
   "cell_type": "code",
   "execution_count": 1,
   "id": "2d2f0406-3d0e-41f3-a373-60ee723e1e73",
   "metadata": {},
   "outputs": [],
   "source": [
    "import jax\n",
    "from jax import random, jit, vmap\n",
    "import jax.numpy as jnp\n",
    "\n",
    "import os, time\n",
    "import numpy as np\n",
    "\n",
    "from functools import partial\n",
    "\n",
    "jax.config.update(\"jax_enable_x64\", True)"
   ]
  },
  {
   "cell_type": "markdown",
   "id": "9cc0a47b-49f3-432b-8300-62b062d2b4ca",
   "metadata": {},
   "source": [
    "## Manifold definition / point sampling\n",
    "The routines in this library will work for an arbitrary real or complex manifold from which points may be sampled from. In this example, we consider complex projective space $\\mathbb{P}^n$. This the space of complex lines in $\\mathbb{C}^{n+1}$ which pass through the origin.\n",
    "\n",
    "To sample from $\\mathbb{P}^n$, we use the fact that every complex line intersects the unit sphere along a circle, whose $U(1)$ action we mod out, $\\mathbb{P}^n \\simeq S^{2n+1} / U(1)$. This means that samples from the unit sphere, appropriately complexified, give samples in homogeneous coordinates on projective space. Here we set $n=5$."
   ]
  },
  {
   "cell_type": "code",
   "execution_count": 2,
   "id": "832f9f0e-8c37-4951-935d-8026a3e302e6",
   "metadata": {},
   "outputs": [],
   "source": [
    "from cymyc.utils import math_utils\n",
    "\n",
    "ambient_dim = 10\n",
    "N = 10\n",
    "seed = int(time.time()) # 42\n",
    "rng = random.PRNGKey(seed)\n",
    "rng, _rng = random.split(rng)\n",
    "\n",
    "def S2np1_uniform(key, n_p, n, dtype=np.float64):\n",
    "    \"\"\"\n",
    "    Sample `n_p` points uniformly on the unit sphere $S^{2n+1}$, treated as CP^n\n",
    "    \"\"\"\n",
    "    # return random.uniform(key, (n,))*jnp.pi, random.uniform(key, (n,)) * 2 * jnp.pi\n",
    "    x = random.normal(key, shape=(n_p, 2*(n+1)), dtype=dtype)\n",
    "    x_norm = x / jnp.linalg.norm(x, axis=1, keepdims=True)\n",
    "    sample = math_utils.to_complex(x_norm.reshape(-1, n+1, 2))\n",
    "\n",
    "    return jnp.squeeze(sample)"
   ]
  },
  {
   "cell_type": "code",
   "execution_count": 3,
   "id": "065d8bab-cd40-4c09-a758-3b6b8b62236a",
   "metadata": {},
   "outputs": [
    {
     "data": {
      "text/plain": [
       "Array([[ 0.08603016+0.12421914j, -0.19522247-0.21834665j,\n",
       "        -0.11015934-0.13064771j,  0.03369113+0.10227832j,\n",
       "        -0.38531301-0.08720344j, -0.22524021-0.01446186j,\n",
       "         0.04569006+0.15634691j, -0.1345815 +0.11960158j,\n",
       "        -0.47859065+0.01476375j,  0.04425167-0.38554386j,\n",
       "         0.35284231+0.28328966j],\n",
       "       [-0.04930381+0.18714094j, -0.00862798-0.26209397j,\n",
       "         0.06624076+0.26345604j, -0.47763194+0.24401247j,\n",
       "         0.00746399+0.02439196j, -0.1925575 -0.1395849j ,\n",
       "        -0.16413301-0.30888711j,  0.42940631+0.13573117j,\n",
       "        -0.24028406+0.01348021j,  0.22884049-0.07554974j,\n",
       "         0.11892793+0.14069137j],\n",
       "       [-0.46571271+0.06606655j, -0.19043696+0.09948309j,\n",
       "         0.11143777-0.02330335j, -0.10892183-0.25118627j,\n",
       "         0.12068737+0.40133746j,  0.07840926+0.23023486j,\n",
       "        -0.15291269+0.01495585j, -0.08312896-0.21207946j,\n",
       "        -0.11511381-0.02870484j, -0.20139866+0.1836997j ,\n",
       "         0.46872185-0.16215461j],\n",
       "       [ 0.22165086-0.51159419j, -0.09982866-0.23878778j,\n",
       "         0.21325505+0.16819765j,  0.06415594-0.06299238j,\n",
       "        -0.03663622-0.07690538j, -0.29432963-0.08757959j,\n",
       "        -0.27648919-0.07756082j,  0.20805055+0.16409758j,\n",
       "        -0.17342597-0.23362371j,  0.30881239+0.18038796j,\n",
       "        -0.06416838+0.26342716j],\n",
       "       [-0.12646831+0.02582239j,  0.04603275+0.28576386j,\n",
       "        -0.25073719-0.16647924j, -0.0455845 -0.42270387j,\n",
       "         0.18518995+0.04516953j, -0.1031555 +0.26782125j,\n",
       "        -0.02059795+0.35221176j, -0.07386921-0.14841539j,\n",
       "        -0.01763476-0.09794889j, -0.08353062+0.21382372j,\n",
       "        -0.53924661-0.06451432j],\n",
       "       [ 0.07905934+0.41110292j,  0.33860231-0.05143089j,\n",
       "        -0.00580693+0.05163219j, -0.22116947+0.34223989j,\n",
       "        -0.16465184+0.15295656j, -0.20736954+0.15025131j,\n",
       "        -0.02158231+0.20636183j,  0.32609103-0.04971756j,\n",
       "        -0.05176005+0.12297931j, -0.14621386-0.05568553j,\n",
       "        -0.00805632-0.47792747j],\n",
       "       [ 0.00253706-0.36688762j,  0.15949992+0.11006258j,\n",
       "         0.04285128-0.03488926j, -0.16448117+0.33934793j,\n",
       "        -0.43404308+0.06785796j,  0.45206483+0.12835108j,\n",
       "        -0.06913145-0.12399122j,  0.34924576+0.11634742j,\n",
       "         0.20907568+0.08395103j, -0.17882363+0.0509439j ,\n",
       "         0.02939495-0.16393238j],\n",
       "       [-0.18276384-0.15317665j,  0.24449358+0.07527505j,\n",
       "        -0.24364716+0.19633394j,  0.35584233-0.45638405j,\n",
       "        -0.14815653+0.00726664j,  0.1651842 -0.11811431j,\n",
       "         0.3173644 +0.08596735j, -0.09045535-0.29235872j,\n",
       "        -0.3218523 -0.13603066j, -0.13145688-0.16437212j,\n",
       "        -0.11496226+0.01596073j],\n",
       "       [-0.04638326-0.31435411j,  0.07475246-0.29358607j,\n",
       "        -0.23585091-0.45887065j,  0.1207693 +0.37974393j,\n",
       "         0.02463147-0.39228366j, -0.10544557+0.00725221j,\n",
       "        -0.07848621+0.15972698j,  0.28906529+0.1845567j ,\n",
       "        -0.15926064-0.04506713j,  0.01921911-0.11955387j,\n",
       "        -0.11932188-0.10496814j],\n",
       "       [-0.0915938 +0.10814063j, -0.11895666-0.28540786j,\n",
       "        -0.232187  +0.07688758j, -0.25163365-0.27969457j,\n",
       "        -0.32666264-0.04910204j,  0.39652861-0.00820301j,\n",
       "         0.08155819-0.0773872j ,  0.0780063 +0.18347186j,\n",
       "        -0.27895533+0.21481644j, -0.30216533+0.30913063j,\n",
       "         0.22257979-0.06130319j]], dtype=complex128)"
      ]
     },
     "execution_count": 3,
     "metadata": {},
     "output_type": "execute_result"
    }
   ],
   "source": [
    "Z = S2np1_uniform(_rng, N, ambient_dim)\n",
    "Z"
   ]
  },
  {
   "cell_type": "markdown",
   "id": "9a03b09f-d765-4d90-b11e-b62b2534e43f",
   "metadata": {},
   "source": [
    "We now use the scaling freedom in projective space to convert homogeneous coords on $\\mathbb{C}\\mathbb{P}^n$, $\\left[z_0 : \\cdots : z_n\\right]$ to inhomogeneous coords in some local coordinate chart where $z_{\\alpha}$ nonzero, setting $z_{\\alpha} = 1$ and removing it from the coordinate description,\n",
    "\n",
    "$$\\left[z_0 : \\cdots : z_n\\right] \\mapsto \\left(\\frac{z_0}{z_{\\alpha}}, \\ldots, \\frac{z_{\\alpha-1}}{z_{\\alpha}}, \\frac{z_{\\alpha+1}}{z_{\\alpha}}, \\ldots, \\frac{z_n}{z_{\\alpha}}\\right) \\triangleq \\zeta^{(\\alpha)}~. $$"
   ]
  },
  {
   "cell_type": "code",
   "execution_count": 4,
   "id": "5485cd10-966f-46c0-8c7a-b59ad6b72be4",
   "metadata": {},
   "outputs": [
    {
     "data": {
      "text/plain": [
       "(10, 10)"
      ]
     },
     "execution_count": 4,
     "metadata": {},
     "output_type": "execute_result"
    }
   ],
   "source": [
    "Z, _ = math_utils.rescale(Z)\n",
    "z = vmap(math_utils._inhomogenize)(Z)\n",
    "z.shape"
   ]
  },
  {
   "cell_type": "markdown",
   "id": "5b61f375-8c7e-45da-bc6c-fdc9877d4af2",
   "metadata": {},
   "source": [
    "## Metric definition\n",
    "\n",
    "There is a natural metric on $\\mathbb{P}^n$ - the **Fubini-Study metric**. Viewing $\\mathbb{P}^n$ as the quotient $S^{2n+1} / U(1)$, the Fubini_study metric is the unique metric such that the projection $\\pi: S^{2n+1} \\rightarrow \\mathbb{P}^n$ is a Riemannian submersion. In inhomogeneous coordinates,\n",
    "\n",
    "$$ g_{\\mu \\bar{\\nu}} = \\frac{1}{\\sigma}\\left( \\delta_{\\mu \\overline{\\nu}} - \\frac{\\zeta_{\\mu}\\zeta_{\\bar{\\nu}}}{\\sigma}\\right), \\quad \\sigma = 1 + \\sum_{m=1}^n \\zeta_m\\bar{\\zeta}_m~. $$\n",
    "\n",
    "The function below returns the FS metric in local coordinates. Note it requires a real input for autodiff to play nice, so we use the map \n",
    "\n",
    "$$z = (z_1, \\ldots, z_n) \\in \\mathbb{C}^n \\mapsto (\\Re(z_1), \\ldots, \\Re(z_n); \\Im(z_1), \\ldots, \\Im(z_n)) \\in \\mathbb{R}^{2n}~.$$"
   ]
  },
  {
   "cell_type": "code",
   "execution_count": 5,
   "id": "1d75544b-6d68-4cce-99ec-77d1ac521ba0",
   "metadata": {},
   "outputs": [],
   "source": [
    "def fubini_study_metric(p):\n",
    "    \"\"\"\n",
    "    Returns FS metric in CP^n evaluated at `p`.\n",
    "    Parameters\n",
    "    ----------\n",
    "        `p`     : 2*complex_dim real inhomogeneous coords at \n",
    "                  which metric matrix is evaluated. Shape [i].\n",
    "    Returns\n",
    "    ----------\n",
    "        `g`     : Hermitian metric in CP^n, $g_{ij}$. Shape [i,j].\n",
    "    \"\"\"\n",
    "\n",
    "    # Inhomogeneous coords\n",
    "    complex_dim = p.shape[-1]//2\n",
    "    zeta = jax.lax.complex(p[:complex_dim],\n",
    "                           p[complex_dim:])\n",
    "    zeta_bar = jnp.conjugate(zeta)\n",
    "    zeta_sq = 1. + jnp.sum(zeta * zeta_bar)\n",
    "    \n",
    "    zeta_outer = jnp.einsum('...i,...j->...ij', zeta_bar, zeta)\n",
    "\n",
    "    delta_mn = jnp.eye(complex_dim, dtype=jnp.complex64) \n",
    "\n",
    "    g_FS = jnp.divide(delta_mn * zeta_sq - zeta_outer, jnp.square(zeta_sq))\n",
    "    \n",
    "    return g_FS"
   ]
  },
  {
   "cell_type": "code",
   "execution_count": 6,
   "id": "ca3e77ee-b1d0-41e7-9993-86401d63af23",
   "metadata": {},
   "outputs": [
    {
     "data": {
      "text/plain": [
       "(10, 10, 10)"
      ]
     },
     "execution_count": 6,
     "metadata": {},
     "output_type": "execute_result"
    }
   ],
   "source": [
    "p = math_utils.to_real(z)\n",
    "g_FS = vmap(fubini_study_metric)(p)\n",
    "g_FS.shape"
   ]
  },
  {
   "cell_type": "markdown",
   "id": "82e34e51",
   "metadata": {},
   "source": [
    "We can benchmark execution times with and without `jit`-compilation - note the exact speedup will depend on the hardware available. "
   ]
  },
  {
   "cell_type": "code",
   "execution_count": 7,
   "id": "c61fda5d",
   "metadata": {},
   "outputs": [
    {
     "name": "stdout",
     "output_type": "stream",
     "text": [
      "6.18 ms ± 182 μs per loop (mean ± std. dev. of 7 runs, 100 loops each)\n"
     ]
    }
   ],
   "source": [
    "%%timeit\n",
    "_ = vmap(fubini_study_metric)(p).block_until_ready()"
   ]
  },
  {
   "cell_type": "code",
   "execution_count": 8,
   "id": "d6cc39a3",
   "metadata": {},
   "outputs": [
    {
     "name": "stdout",
     "output_type": "stream",
     "text": [
      "659 μs ± 6.58 μs per loop (mean ± std. dev. of 7 runs, 1,000 loops each)\n"
     ]
    }
   ],
   "source": [
    "%%timeit\n",
    "_ = vmap(jit(fubini_study_metric))(p).block_until_ready()"
   ]
  },
  {
   "cell_type": "markdown",
   "id": "f06e1411-712d-41a4-81b2-6c0aced74071",
   "metadata": {},
   "source": [
    "### The Kähler potential\n",
    "$\\mathbb{P}^n$ is a Kähler manifold - this imbues it with many special properties, one of them being that the metric is locally determined by a single real scalar function, the Kähler potential, $\\mathcal{K} \\in C^{\\infty}(\\mathbb{P}^n)$.\n",
    "\n",
    "\\begin{align*}\n",
    "g_{\\mu \\bar{\\nu }} &= \\partial_{\\mu}\\overline{\\partial}_{\\bar{\\nu}} \\mathcal{K}~, \\\\\n",
    "\\mathcal{K} &= \\log \\left( 1+ \\sum_{m=1}^n \\left\\vert \\zeta_m \\right\\vert^2\\right)~.\n",
    "\\end{align*}\n",
    "\n",
    "This is particularly important in the context of approximating metrics, as it allows one to reduce the problem to approximation of a single scalar function."
   ]
  },
  {
   "cell_type": "code",
   "execution_count": 9,
   "id": "28273d9e-2f67-438e-ac23-6f5124f5ef15",
   "metadata": {},
   "outputs": [],
   "source": [
    "def fubini_study_potential(p):\n",
    "    \"\"\"\n",
    "    Returns Kahler potential associated with the FS metric\n",
    "    in CP^n evaluated at `p`.\n",
    "    Parameters\n",
    "    ----------\n",
    "        `p`        : 2*complex_dim real inhomogeneous coords at \n",
    "                     which potential is evaluated. Shape [i].\n",
    "    Returns\n",
    "    ----------\n",
    "        `phi`      : Kahler potential, real scalar. Shape [].  \n",
    "    \"\"\"\n",
    "    zeta_sq = jnp.sum(p**2)\n",
    "    return jnp.log(1. + zeta_sq)"
   ]
  },
  {
   "cell_type": "code",
   "execution_count": 10,
   "id": "79260688-0a13-439f-8da0-0b4d988a0195",
   "metadata": {},
   "outputs": [
    {
     "data": {
      "text/plain": [
       "(10, 10, 10)"
      ]
     },
     "execution_count": 10,
     "metadata": {},
     "output_type": "execute_result"
    }
   ],
   "source": [
    "from cymyc import curvature\n",
    "_g_FS = vmap(curvature.del_z_bar_del_z, in_axes=(0,None))(p, fubini_study_potential)\n",
    "_g_FS.shape"
   ]
  },
  {
   "cell_type": "code",
   "execution_count": 11,
   "id": "eaca999a-f8f3-4f1c-9419-0701a18a7229",
   "metadata": {},
   "outputs": [
    {
     "data": {
      "text/plain": [
       "Array(True, dtype=bool)"
      ]
     },
     "execution_count": 11,
     "metadata": {},
     "output_type": "execute_result"
    }
   ],
   "source": [
    "jnp.allclose(g_FS, _g_FS)"
   ]
  },
  {
   "cell_type": "markdown",
   "id": "e33479cf-efca-418c-9737-e47f5e9dc420",
   "metadata": {},
   "source": [
    "## Riemann tensor"
   ]
  },
  {
   "cell_type": "markdown",
   "id": "38c5c353-6701-423a-93ac-dac6dc57a539",
   "metadata": {},
   "source": [
    "Measures of curvature corresponding to a given metric tensor involve derivatives of the metric - if a function corresponding to the metric tensor is known, these may be easily computed numerically using autodiff. The most important curvature quantity is the Riemann curvature - the endomorphism-valued two-form that informs us about local curvature effects, $\\textsf{Riem} \\in \\Omega^2(X; \\textsf{End}(T_X))$.\n",
    "\n",
    "Schematically, the curvature tensor is given by taking two derivatives of the metric tensor w.r.t. the input coordinates. $\\Gamma$ below refers to the Levi-Civita connection in local coordinates,\n",
    "\n",
    "$$\\textsf{Riem} \\sim \\partial \\Gamma + \\Gamma \\cdot \\Gamma, \\quad \\Gamma \\sim g^{-1} \\partial g~.$$"
   ]
  },
  {
   "cell_type": "code",
   "execution_count": 12,
   "id": "71d09a13-2aea-46c7-838d-b3647dccff5d",
   "metadata": {},
   "outputs": [],
   "source": [
    "riem = vmap(curvature.riemann_tensor_kahler, in_axes=(0,None))(p, jax.tree_util.Partial(fubini_study_metric))"
   ]
  },
  {
   "cell_type": "markdown",
   "id": "c1465d2d-6a40-4bba-a4e8-22782c7d66a6",
   "metadata": {},
   "source": [
    "This involves two derivatives of a potentially expensive function, but is reasonably speedy for even $10^4$ points, as we can test by benchmarking - in this case the function is already `jit`-ed at definition. Note nested `jit`s are equivalent to a single `jit`."
   ]
  },
  {
   "cell_type": "code",
   "execution_count": 13,
   "id": "d618a618-cf5d-4c89-9fcc-256da602c0b5",
   "metadata": {},
   "outputs": [
    {
     "name": "stdout",
     "output_type": "stream",
     "text": [
      "1.5 ms ± 25.4 μs per loop (mean ± std. dev. of 7 runs, 1,000 loops each)\n"
     ]
    }
   ],
   "source": [
    "%%timeit\n",
    "riem = vmap(curvature.riemann_tensor_kahler, in_axes=(0,None))(p, jax.tree_util.Partial(fubini_study_metric)).block_until_ready()\n",
    "riem.shape"
   ]
  },
  {
   "cell_type": "code",
   "execution_count": 12,
   "id": "88e4dc1f-049c-40fa-aade-7f567b35759a",
   "metadata": {},
   "outputs": [],
   "source": [
    "rtk = partial(curvature.riemann_tensor_kahler, return_aux=True)"
   ]
  },
  {
   "cell_type": "code",
   "execution_count": 13,
   "id": "882a3dae-6b00-47d9-a1ec-696377b66f93",
   "metadata": {},
   "outputs": [],
   "source": [
    "_, riem = vmap(rtk, in_axes=(0,None))(p, jax.tree_util.Partial(fubini_study_metric))"
   ]
  },
  {
   "cell_type": "code",
   "execution_count": 14,
   "id": "6564d44d-53d5-49c8-ae5b-e658e884c2d1",
   "metadata": {},
   "outputs": [],
   "source": [
    "riem = jnp.einsum('...abcd, ...ae->...becd', riem, g_FS)"
   ]
  },
  {
   "cell_type": "code",
   "execution_count": 15,
   "id": "7030f7e2-4ad1-4fd8-88b7-8659998b42e2",
   "metadata": {},
   "outputs": [
    {
     "data": {
      "text/plain": [
       "(10000, 4, 4, 4, 4)"
      ]
     },
     "execution_count": 15,
     "metadata": {},
     "output_type": "execute_result"
    }
   ],
   "source": [
    "riem.shape"
   ]
  },
  {
   "cell_type": "code",
   "execution_count": 16,
   "id": "e9edd81e-53a0-4329-b6ce-4b4c6d747519",
   "metadata": {},
   "outputs": [
    {
     "ename": "NameError",
     "evalue": "name 'm' is not defined",
     "output_type": "error",
     "traceback": [
      "\u001b[0;31m---------------------------------------------------------------------------\u001b[0m",
      "\u001b[0;31mNameError\u001b[0m                                 Traceback (most recent call last)",
      "Cell \u001b[0;32mIn[16], line 1\u001b[0m\n\u001b[0;32m----> 1\u001b[0m riem[\u001b[43mm\u001b[49m][\u001b[38;5;241m1\u001b[39m,\u001b[38;5;241m1\u001b[39m,\u001b[38;5;241m1\u001b[39m,\u001b[38;5;241m1\u001b[39m]\n",
      "\u001b[0;31mNameError\u001b[0m: name 'm' is not defined"
     ]
    }
   ],
   "source": [
    "riem[m][1,1,1,1]"
   ]
  },
  {
   "cell_type": "code",
   "execution_count": 18,
   "id": "e2e79242-63fb-4db3-a20b-aedfe63019e1",
   "metadata": {},
   "outputs": [
    {
     "ename": "NameError",
     "evalue": "name 'm' is not defined",
     "output_type": "error",
     "traceback": [
      "\u001b[0;31m---------------------------------------------------------------------------\u001b[0m",
      "\u001b[0;31mNameError\u001b[0m                                 Traceback (most recent call last)",
      "Cell \u001b[0;32mIn[18], line 1\u001b[0m\n\u001b[0;32m----> 1\u001b[0m riem[\u001b[43mm\u001b[49m][\u001b[38;5;241m0\u001b[39m,\u001b[38;5;241m0\u001b[39m,\u001b[38;5;241m0\u001b[39m,\u001b[38;5;241m0\u001b[39m]\n",
      "\u001b[0;31mNameError\u001b[0m: name 'm' is not defined"
     ]
    }
   ],
   "source": [
    "riem[m][0,0,0,0]"
   ]
  },
  {
   "cell_type": "code",
   "execution_count": null,
   "id": "33fd4de7-559d-44dd-a9ab-d565adefea6d",
   "metadata": {},
   "outputs": [],
   "source": [
    "riem[m][0,1,0,1]"
   ]
  },
  {
   "cell_type": "code",
   "execution_count": null,
   "id": "86847ddf-6c00-46ef-8f51-88f204c0fb9e",
   "metadata": {},
   "outputs": [],
   "source": [
    "riem[m][0,1,0,1]"
   ]
  },
  {
   "cell_type": "code",
   "execution_count": 12,
   "id": "1cd7ace4-c709-40c8-9dc1-66602e16b8b0",
   "metadata": {
    "scrolled": true
   },
   "outputs": [
    {
     "data": {
      "text/plain": [
       "Array([ 4.84335398e-01+1.62630326e-19j, -2.70039201e-03-1.77210357e-03j,\n",
       "        1.89404177e-04+2.57673254e-03j, ...,\n",
       "        2.56613641e-02-1.89857814e-02j,  2.78335756e-03+7.84549814e-04j,\n",
       "        4.69871583e-01-7.80625564e-18j], dtype=complex128)"
      ]
     },
     "execution_count": 12,
     "metadata": {},
     "output_type": "execute_result"
    }
   ],
   "source": [
    "m = 77\n",
    "a = riem[m][jnp.nonzero(np.round(riem[m],5))]\n",
    "a"
   ]
  },
  {
   "cell_type": "code",
   "execution_count": 13,
   "id": "5a941949-88f7-4246-adc8-abec24b04e87",
   "metadata": {},
   "outputs": [
    {
     "data": {
      "text/plain": [
       "(10, 10, 10, 10)"
      ]
     },
     "execution_count": 13,
     "metadata": {},
     "output_type": "execute_result"
    }
   ],
   "source": [
    "riem[m].shape"
   ]
  },
  {
   "cell_type": "code",
   "execution_count": 14,
   "id": "23a7cf9b-434e-4886-a186-1dc4018aadaa",
   "metadata": {},
   "outputs": [
    {
     "data": {
      "text/plain": [
       "(10, 10, 10, 10)"
      ]
     },
     "execution_count": 14,
     "metadata": {},
     "output_type": "execute_result"
    }
   ],
   "source": [
    "np.round(riem[m],5).shape"
   ]
  },
  {
   "cell_type": "code",
   "execution_count": 15,
   "id": "0bda7aa9-e076-4da8-beb7-b2d35d83b984",
   "metadata": {},
   "outputs": [
    {
     "data": {
      "text/plain": [
       "Array(-3.46944695e-18+1.21430643e-17j, dtype=complex128)"
      ]
     },
     "execution_count": 15,
     "metadata": {},
     "output_type": "execute_result"
    }
   ],
   "source": [
    "riem[m][0,1,1,0]"
   ]
  },
  {
   "cell_type": "code",
   "execution_count": 16,
   "id": "51b7d409-c478-438a-afbe-280505e7a3c0",
   "metadata": {},
   "outputs": [
    {
     "data": {
      "text/plain": [
       "Array(-0.00270039+0.0017721j, dtype=complex128)"
      ]
     },
     "execution_count": 16,
     "metadata": {},
     "output_type": "execute_result"
    }
   ],
   "source": [
    "riem[m][1,1,1,0]"
   ]
  },
  {
   "cell_type": "code",
   "execution_count": 17,
   "id": "58bdcaa1-0d8f-459d-bba7-95746b050279",
   "metadata": {},
   "outputs": [
    {
     "data": {
      "text/plain": [
       "Array(4.33680869e-18+4.33680869e-19j, dtype=complex128)"
      ]
     },
     "execution_count": 17,
     "metadata": {},
     "output_type": "execute_result"
    }
   ],
   "source": [
    "riem[m][0,1,1,1]"
   ]
  },
  {
   "cell_type": "code",
   "execution_count": 18,
   "id": "f2615d6f-c7a5-4881-bf4b-61714ad896e3",
   "metadata": {
    "scrolled": true
   },
   "outputs": [
    {
     "data": {
      "text/plain": [
       "(Array([0, 0, 0, ..., 9, 9, 9], dtype=int64),\n",
       " Array([0, 0, 0, ..., 9, 9, 9], dtype=int64),\n",
       " Array([0, 0, 0, ..., 9, 9, 9], dtype=int64),\n",
       " Array([0, 1, 2, ..., 7, 8, 9], dtype=int64))"
      ]
     },
     "execution_count": 18,
     "metadata": {},
     "output_type": "execute_result"
    }
   ],
   "source": [
    "jnp.nonzero(np.round(riem[m],5))"
   ]
  },
  {
   "cell_type": "code",
   "execution_count": 19,
   "id": "39eca1bb-9f83-4430-80fa-997f97a6e589",
   "metadata": {},
   "outputs": [
    {
     "data": {
      "text/plain": [
       "Array([ 4.8433540e-01+0.j        , -2.7003900e-03-0.0017721j ,\n",
       "        1.8940000e-04+0.00257673j, ...,  2.5661360e-02-0.01898578j,\n",
       "        2.7833600e-03+0.00078455j,  4.6987158e-01-0.j        ],      dtype=complex128)"
      ]
     },
     "execution_count": 19,
     "metadata": {},
     "output_type": "execute_result"
    }
   ],
   "source": [
    "n = 8\n",
    "np.round(a, decimals=n)"
   ]
  },
  {
   "cell_type": "code",
   "execution_count": 20,
   "id": "9524f597-d257-4eac-9223-68ea73713a6b",
   "metadata": {
    "scrolled": true
   },
   "outputs": [
    {
     "data": {
      "text/plain": [
       "(array([-6.9898940e-02-3.303800e-02j, -6.9898940e-02+3.303800e-02j,\n",
       "        -6.9645600e-02-9.984210e-03j, -6.9645600e-02+9.984210e-03j,\n",
       "        -5.0326590e-02-2.239172e-02j, -5.0326590e-02+2.239172e-02j,\n",
       "        -4.9531890e-02-1.134680e-03j, -4.9531890e-02+1.134680e-03j,\n",
       "        -3.4949470e-02-1.651900e-02j, -3.4949470e-02+1.651900e-02j,\n",
       "        -3.4822800e-02-4.992110e-03j, -3.4822800e-02+4.992110e-03j,\n",
       "        -2.5163300e-02-1.119586e-02j, -2.5163300e-02+1.119586e-02j,\n",
       "        -2.4765950e-02-5.673400e-04j, -2.4765950e-02+5.673400e-04j,\n",
       "        -1.1899650e-02-1.956415e-02j, -1.1899650e-02+1.956415e-02j,\n",
       "        -9.2854900e-03-7.705090e-03j, -9.2854900e-03+7.705090e-03j,\n",
       "        -7.3237200e-03-2.640970e-03j, -7.3237200e-03+2.640970e-03j,\n",
       "        -5.9498300e-03-9.782070e-03j, -5.9498300e-03+9.782070e-03j,\n",
       "        -5.8163200e-03-2.863932e-02j, -5.8163200e-03+2.863932e-02j,\n",
       "        -4.7963300e-03-8.147560e-03j, -4.7963300e-03+8.147560e-03j,\n",
       "        -4.6427400e-03-3.852540e-03j, -4.6427400e-03+3.852540e-03j,\n",
       "        -3.8579000e-03-4.980360e-03j, -3.8579000e-03+4.980360e-03j,\n",
       "        -3.7299000e-03-1.748510e-03j, -3.7299000e-03+1.748510e-03j,\n",
       "        -3.6618600e-03-1.320480e-03j, -3.6618600e-03+1.320480e-03j,\n",
       "        -2.9369100e-03-6.525810e-03j, -2.9369100e-03+6.525810e-03j,\n",
       "        -2.9081600e-03-1.431966e-02j, -2.9081600e-03+1.431966e-02j,\n",
       "        -2.7003900e-03-1.772100e-03j, -2.7003900e-03+1.772100e-03j,\n",
       "        -2.6666300e-03-3.610350e-03j, -2.6666300e-03+3.610350e-03j,\n",
       "        -2.3981600e-03-4.073780e-03j, -2.3981600e-03+4.073780e-03j,\n",
       "        -2.1570700e-03-2.048325e-02j, -2.1570700e-03+2.048325e-02j,\n",
       "        -1.9289500e-03-2.490180e-03j, -1.9289500e-03+2.490180e-03j,\n",
       "        -1.8706600e-03-1.455458e-02j, -1.8706600e-03+1.455458e-02j,\n",
       "        -1.8649500e-03-8.742500e-04j, -1.8649500e-03+8.742500e-04j,\n",
       "        -1.5533600e-03-5.391740e-03j, -1.5533600e-03+5.391740e-03j,\n",
       "        -1.5116700e-03-6.838920e-03j, -1.5116700e-03+6.838920e-03j,\n",
       "        -1.4684500e-03-3.262900e-03j, -1.4684500e-03+3.262900e-03j,\n",
       "        -1.3502000e-03-8.860500e-04j, -1.3502000e-03+8.860500e-04j,\n",
       "        -1.3333200e-03-1.805180e-03j, -1.3333200e-03+1.805180e-03j,\n",
       "        -1.0785300e-03-1.024162e-02j, -1.0785300e-03+1.024162e-02j,\n",
       "        -9.3533000e-04-7.277290e-03j, -9.3533000e-04+7.277290e-03j,\n",
       "        -7.7668000e-04-2.695870e-03j, -7.7668000e-04+2.695870e-03j,\n",
       "        -7.5584000e-04-3.419460e-03j, -7.5584000e-04+3.419460e-03j,\n",
       "        -2.4924000e-04-2.140300e-04j, -2.4924000e-04+2.140300e-04j,\n",
       "        -1.2462000e-04-1.070100e-04j, -1.2462000e-04+1.070100e-04j,\n",
       "         8.1890000e-05-1.421544e-02j,  8.1890000e-05+1.421544e-02j,\n",
       "         9.1470000e-05-1.810890e-03j,  9.1470000e-05+1.810890e-03j,\n",
       "         9.4700000e-05-1.288370e-03j,  9.4700000e-05+1.288370e-03j,\n",
       "         1.6378000e-04-2.843088e-02j,  1.6378000e-04+2.843088e-02j,\n",
       "         1.8295000e-04-3.621780e-03j,  1.8295000e-04+3.621780e-03j,\n",
       "         1.8940000e-04-2.576730e-03j,  1.8940000e-04+2.576730e-03j,\n",
       "         4.6065000e-04-6.932200e-04j,  4.6065000e-04+6.932200e-04j,\n",
       "         5.3624000e-04-2.923000e-05j,  5.3624000e-04+2.923000e-05j,\n",
       "         6.5644000e-04-1.970600e-04j,  6.5644000e-04+1.970600e-04j,\n",
       "         6.7366000e-04-6.454200e-04j,  6.7366000e-04+6.454200e-04j,\n",
       "         9.2131000e-04-1.386440e-03j,  9.2131000e-04+1.386440e-03j,\n",
       "         9.5229000e-04-1.776780e-03j,  9.5229000e-04+1.776780e-03j,\n",
       "         1.0724800e-03-5.846000e-05j,  1.0724800e-03+5.846000e-05j,\n",
       "         1.0881700e-03-4.832200e-04j,  1.0881700e-03+4.832200e-04j,\n",
       "         1.3128700e-03-3.941200e-04j,  1.3128700e-03+3.941200e-04j,\n",
       "         1.3473100e-03-1.290840e-03j,  1.3473100e-03+1.290840e-03j,\n",
       "         1.3916800e-03-3.922700e-04j,  1.3916800e-03+3.922700e-04j,\n",
       "         1.9045700e-03-3.553560e-03j,  1.9045700e-03+3.553560e-03j,\n",
       "         2.0276000e-03-9.141660e-03j,  2.0276000e-03+9.141660e-03j,\n",
       "         2.1763500e-03-9.664300e-04j,  2.1763500e-03+9.664300e-04j,\n",
       "         2.6761700e-03-1.793182e-02j,  2.6761700e-03+1.793182e-02j,\n",
       "         2.7833600e-03-7.845500e-04j,  2.7833600e-03+7.845500e-04j,\n",
       "         3.1390000e-03-1.276248e-02j,  3.1390000e-03+1.276248e-02j,\n",
       "         4.0552000e-03-1.828331e-02j,  4.0552000e-03+1.828331e-02j,\n",
       "         5.3523300e-03-3.586365e-02j,  5.3523300e-03+3.586365e-02j,\n",
       "         6.2780100e-03-2.552495e-02j,  6.2780100e-03+2.552495e-02j,\n",
       "         7.5269300e-03-8.965200e-03j,  7.5269300e-03+8.965200e-03j,\n",
       "         7.9311100e-03-4.607600e-03j,  7.9311100e-03+4.607600e-03j,\n",
       "         8.3868900e-03-1.563765e-02j,  8.3868900e-03+1.563765e-02j,\n",
       "         8.9841200e-03-6.970940e-03j,  8.9841200e-03+6.970940e-03j,\n",
       "         1.0846730e-02-4.381560e-03j,  1.0846730e-02+4.381560e-03j,\n",
       "         1.1125130e-02-9.956080e-03j,  1.1125130e-02+9.956080e-03j,\n",
       "         1.2830680e-02-9.492890e-03j,  1.2830680e-02+9.492890e-03j,\n",
       "         1.3425210e-02-1.750969e-02j,  1.3425210e-02+1.750969e-02j,\n",
       "         1.3780000e-02-2.453532e-02j,  1.3780000e-02+2.453532e-02j,\n",
       "         1.5053860e-02-1.793039e-02j,  1.5053860e-02+1.793039e-02j,\n",
       "         1.5862210e-02-9.215190e-03j,  1.5862210e-02+9.215190e-03j,\n",
       "         1.6773780e-02-3.127530e-02j,  1.6773780e-02+3.127530e-02j,\n",
       "         1.7968250e-02-1.394188e-02j,  1.7968250e-02+1.394188e-02j,\n",
       "         1.8275520e-02-2.500131e-02j,  1.8275520e-02+2.500131e-02j,\n",
       "         1.8547530e-02-3.487114e-02j,  1.8547530e-02+3.487114e-02j,\n",
       "         2.1693460e-02-8.763130e-03j,  2.1693460e-02+8.763130e-03j,\n",
       "         2.2250270e-02-1.991215e-02j,  2.2250270e-02+1.991215e-02j,\n",
       "         2.5661360e-02-1.898578e-02j,  2.5661360e-02+1.898578e-02j,\n",
       "         2.6850410e-02-3.501939e-02j,  2.6850410e-02+3.501939e-02j,\n",
       "         2.7559990e-02-4.907064e-02j,  2.7559990e-02+4.907064e-02j,\n",
       "         3.0247790e-02-1.644776e-02j,  3.0247790e-02+1.644776e-02j,\n",
       "         3.5210280e-02-2.623929e-02j,  3.5210280e-02+2.623929e-02j,\n",
       "         3.6551050e-02-5.000262e-02j,  3.6551050e-02+5.000262e-02j,\n",
       "         3.7095060e-02-6.974228e-02j,  3.7095060e-02+6.974228e-02j,\n",
       "         6.0495570e-02-3.289552e-02j,  6.0495570e-02+3.289552e-02j,\n",
       "         7.0420570e-02-5.247859e-02j,  7.0420570e-02+5.247859e-02j,\n",
       "         1.9739583e-01-0.000000e+00j,  1.9928436e-01-0.000000e+00j,\n",
       "         2.0749222e-01-0.000000e+00j,  2.1467930e-01-0.000000e+00j,\n",
       "         2.2461275e-01+0.000000e+00j,  2.3493579e-01-0.000000e+00j,\n",
       "         2.3729435e-01-0.000000e+00j,  2.3921210e-01+0.000000e+00j,\n",
       "         2.4197690e-01+0.000000e+00j,  2.4216770e-01+0.000000e+00j,\n",
       "         3.9479166e-01+0.000000e+00j,  3.9856871e-01-0.000000e+00j,\n",
       "         4.1498444e-01+0.000000e+00j,  4.2935860e-01-0.000000e+00j,\n",
       "         4.4922549e-01-0.000000e+00j,  4.6987158e-01-0.000000e+00j,\n",
       "         4.7458870e-01+0.000000e+00j,  4.7842419e-01-0.000000e+00j,\n",
       "         4.8395380e-01-0.000000e+00j,  4.8433540e-01+0.000000e+00j]),\n",
       " array([ 1,  1,  1,  1,  1,  1,  1,  1, 18, 18, 18, 18, 18, 18, 18, 18,  1,\n",
       "         1,  1,  1,  1,  1, 18, 18,  1,  1,  1,  1, 18, 18,  1,  1,  1,  1,\n",
       "        18, 18,  1,  1, 18, 18,  1,  1,  1,  1, 18, 18,  1,  1, 18, 18,  1,\n",
       "         1, 18, 18,  1,  1,  1,  1, 18, 18, 18, 18, 18, 18, 18, 18, 18, 18,\n",
       "        18, 18, 18, 18,  1,  1, 18, 18, 18, 18, 18, 18, 18, 18,  1,  1,  1,\n",
       "         1,  1,  1, 18, 18, 18, 18, 18, 18, 18, 18,  1,  1, 18, 18,  1,  1,\n",
       "        18, 18,  1,  1,  1,  1, 18, 18,  1,  1, 18, 18,  1,  1, 18, 18,  1,\n",
       "         1, 18, 18,  1,  1,  1,  1,  1,  1, 18, 18, 18, 18, 18, 18, 18, 18,\n",
       "        18, 18, 18, 18, 18, 18, 18, 18, 18, 18,  1,  1,  1,  1,  1,  1,  1,\n",
       "         1, 18, 18, 18, 18,  1,  1,  1,  1,  1,  1,  1,  1,  1,  1, 18, 18,\n",
       "        18, 18,  1,  1,  1,  1,  1,  1,  1,  1, 18, 18, 18, 18, 18, 18, 18,\n",
       "        18, 18, 18,  1,  1,  1,  1,  1,  1,  1,  1,  1,  1]))"
      ]
     },
     "execution_count": 20,
     "metadata": {},
     "output_type": "execute_result"
    }
   ],
   "source": [
    "np.unique(np.round(a, decimals=n), return_counts=True)"
   ]
  },
  {
   "cell_type": "code",
   "execution_count": 21,
   "id": "e4a90dcf-b6ef-4890-87e0-4d8a216f9219",
   "metadata": {},
   "outputs": [
    {
     "data": {
      "text/plain": [
       "(array([-6.9898940e-02, -6.9645600e-02, -5.0326590e-02, -4.9531890e-02,\n",
       "        -3.4949470e-02, -3.4822800e-02, -2.5163300e-02, -2.4765950e-02,\n",
       "        -1.1899650e-02, -9.2854900e-03, -7.3237200e-03, -5.9498300e-03,\n",
       "        -5.8163200e-03, -4.7963300e-03, -4.6427400e-03, -3.8579000e-03,\n",
       "        -3.7299000e-03, -3.6618600e-03, -2.9369100e-03, -2.9081600e-03,\n",
       "        -2.7003900e-03, -2.6666300e-03, -2.3981600e-03, -2.1570700e-03,\n",
       "        -1.9289500e-03, -1.8706600e-03, -1.8649500e-03, -1.5533600e-03,\n",
       "        -1.5116700e-03, -1.4684500e-03, -1.3502000e-03, -1.3333200e-03,\n",
       "        -1.0785300e-03, -9.3533000e-04, -7.7668000e-04, -7.5584000e-04,\n",
       "        -2.4924000e-04, -1.2462000e-04,  8.1890000e-05,  9.1470000e-05,\n",
       "         9.4700000e-05,  1.6378000e-04,  1.8295000e-04,  1.8940000e-04,\n",
       "         4.6065000e-04,  5.3624000e-04,  6.5644000e-04,  6.7366000e-04,\n",
       "         9.2131000e-04,  9.5229000e-04,  1.0724800e-03,  1.0881700e-03,\n",
       "         1.3128700e-03,  1.3473100e-03,  1.3916800e-03,  1.9045700e-03,\n",
       "         2.0276000e-03,  2.1763500e-03,  2.6761700e-03,  2.7833600e-03,\n",
       "         3.1390000e-03,  4.0552000e-03,  5.3523300e-03,  6.2780100e-03,\n",
       "         7.5269300e-03,  7.9311100e-03,  8.3868900e-03,  8.9841200e-03,\n",
       "         1.0846730e-02,  1.1125130e-02,  1.2830680e-02,  1.3425210e-02,\n",
       "         1.3780000e-02,  1.5053860e-02,  1.5862210e-02,  1.6773780e-02,\n",
       "         1.7968250e-02,  1.8275520e-02,  1.8547530e-02,  2.1693460e-02,\n",
       "         2.2250270e-02,  2.5661360e-02,  2.6850410e-02,  2.7559990e-02,\n",
       "         3.0247790e-02,  3.5210280e-02,  3.6551050e-02,  3.7095060e-02,\n",
       "         6.0495570e-02,  7.0420570e-02,  1.9739583e-01,  1.9928436e-01,\n",
       "         2.0749222e-01,  2.1467930e-01,  2.2461275e-01,  2.3493579e-01,\n",
       "         2.3729435e-01,  2.3921210e-01,  2.4197690e-01,  2.4216770e-01,\n",
       "         3.9479166e-01,  3.9856871e-01,  4.1498444e-01,  4.2935860e-01,\n",
       "         4.4922549e-01,  4.6987158e-01,  4.7458870e-01,  4.7842419e-01,\n",
       "         4.8395380e-01,  4.8433540e-01]),\n",
       " array([ 2,  2,  2,  2, 36, 36, 36, 36,  2,  2,  2, 36,  2,  2, 36,  2,  2,\n",
       "        36,  2, 36,  2,  2, 36,  2, 36,  2, 36,  2,  2, 36, 36, 36, 36, 36,\n",
       "        36, 36,  2, 36, 36, 36, 36,  2,  2,  2, 36, 36, 36, 36,  2, 36,  2,\n",
       "        36,  2,  2, 36,  2, 36,  2, 36,  2, 36,  2,  2,  2, 36, 36, 36, 36,\n",
       "        36, 36, 36, 36, 36,  2,  2,  2,  2, 36, 36,  2,  2,  2,  2,  2, 36,\n",
       "        36,  2,  2,  2,  2, 18, 18, 18, 18, 18, 18, 18, 18, 18, 18,  1,  1,\n",
       "         1,  1,  1,  1,  1,  1,  1,  1]))"
      ]
     },
     "execution_count": 21,
     "metadata": {},
     "output_type": "execute_result"
    }
   ],
   "source": [
    "np.unique(np.round(jnp.real(a), decimals=n), return_counts=True)"
   ]
  },
  {
   "cell_type": "code",
   "execution_count": 22,
   "id": "dfa869c0-f7f5-441a-a344-cb4edc7fabb4",
   "metadata": {},
   "outputs": [
    {
     "data": {
      "text/plain": [
       "110"
      ]
     },
     "execution_count": 22,
     "metadata": {},
     "output_type": "execute_result"
    }
   ],
   "source": [
    "n = 10\n",
    "len(np.unique(np.round(jnp.real(a), decimals=n), return_counts=True)[0])"
   ]
  },
  {
   "cell_type": "markdown",
   "id": "c6570d44-02fe-4644-ae46-6d483cfa231b",
   "metadata": {},
   "source": [
    "### First Bianchi identity\n",
    "We form the Riemann tensor with all indices lowered using the musical isomorphism defined by the metric. The resulting tensor satisifies the following symmetries, as a consequence of the first Bianchi identity,\n",
    "\n",
    "$$ \\textsf{Riem}_{a\\overline{b}c\\overline{d}} = \\textsf{Riem}_{a \\overline{d} c \\overline{b}} = \\textsf{Riem}_{c \\overline{b} a \\overline{d}} = \\textsf{Riem}_{c \\overline{d} a \\overline{b}}~.$$"
   ]
  },
  {
   "cell_type": "code",
   "execution_count": 14,
   "id": "c30afce9-646d-480b-b451-01915b5971b4",
   "metadata": {},
   "outputs": [],
   "source": [
    "riem_lower = jnp.einsum('...ibcd, ...ia->...bacd', riem, g_FS)"
   ]
  },
  {
   "cell_type": "code",
   "execution_count": 15,
   "id": "537dee2c-d57c-4308-a535-825316993b5f",
   "metadata": {},
   "outputs": [
    {
     "data": {
      "text/plain": [
       "Array(True, dtype=bool)"
      ]
     },
     "execution_count": 15,
     "metadata": {},
     "output_type": "execute_result"
    }
   ],
   "source": [
    "jnp.allclose(riem_lower, jnp.einsum('...abcd->...adcb', riem_lower))  # first equality"
   ]
  },
  {
   "cell_type": "code",
   "execution_count": 16,
   "id": "acdcc108-d1fe-4bc0-8bd8-a64a2c50f937",
   "metadata": {},
   "outputs": [
    {
     "data": {
      "text/plain": [
       "Array(True, dtype=bool)"
      ]
     },
     "execution_count": 16,
     "metadata": {},
     "output_type": "execute_result"
    }
   ],
   "source": [
    "jnp.allclose(riem_lower, jnp.einsum('...abcd->...cbad', riem_lower))  # second equality"
   ]
  },
  {
   "cell_type": "code",
   "execution_count": 17,
   "id": "40add327-7b6c-4dfd-83ba-ca8c54449da5",
   "metadata": {},
   "outputs": [
    {
     "data": {
      "text/plain": [
       "Array(True, dtype=bool)"
      ]
     },
     "execution_count": 17,
     "metadata": {},
     "output_type": "execute_result"
    }
   ],
   "source": [
    "jnp.allclose(riem_lower, jnp.einsum('...abcd->...cdab', riem_lower))  # third equality"
   ]
  },
  {
   "cell_type": "markdown",
   "id": "50a88a05-fd77-4c98-b8b3-9dd551b59063",
   "metadata": {},
   "source": [
    "## Ricci curvature"
   ]
  },
  {
   "cell_type": "markdown",
   "id": "f63d3fe3-0347-463e-aae0-63df9c25c0fd",
   "metadata": {},
   "source": [
    "Complex projective space is an Einstein manifold, meaning that the Fubini-Study metric on $\\mathbb{P}^n$ is proportional to the Ricci curvature. The Ricci curvature is another important measure of curvature derived from $\\textsf{Riem}$, which roughly measures the degree of volume distortion relative to Euclidean space as one travels along geodesics emanating from a given point.\n",
    "\n",
    "$$\\textsf{Ric} = \\Lambda g~.$$\n",
    "\n",
    "For $\\mathbb{P}^n$ the Einstein constant is $\\Lambda = n+1; \\textsf{Ric} = (n+1) g_{FS}$.\n",
    "\n",
    "The Ricci curvature is given, in local coordinates, as the trace of the endomorphism part of the Riemann curvature tensor,\n",
    "\n",
    "$$ \\textsf{Ric}_{\\mu \\bar{\\nu}} \\triangleq \\textsf{Riem}^{\\kappa}_{\\; \\kappa \\mu \\bar{\\nu}} = \\textsf{Riem}^{\\kappa}_{\\; \\mu \\kappa \\bar{\\nu}}~.$$"
   ]
  },
  {
   "cell_type": "code",
   "execution_count": 18,
   "id": "5118f9ce-4e3e-46ba-b4d9-05dfccca88d7",
   "metadata": {},
   "outputs": [],
   "source": [
    "ricci = vmap(curvature.ricci_tensor_kahler, in_axes=(0,None))(p, jax.tree_util.Partial(fubini_study_metric))"
   ]
  },
  {
   "cell_type": "code",
   "execution_count": 19,
   "id": "e166061e-92fc-4baf-8bab-152f47316578",
   "metadata": {},
   "outputs": [
    {
     "data": {
      "text/plain": [
       "Array(True, dtype=bool)"
      ]
     },
     "execution_count": 19,
     "metadata": {},
     "output_type": "execute_result"
    }
   ],
   "source": [
    "jnp.allclose(ricci, (ambient_dim + 1) * g_FS)"
   ]
  },
  {
   "cell_type": "markdown",
   "id": "40cfb945-4bfa-455f-b576-25751d921543",
   "metadata": {},
   "source": [
    "This also means that the Ricci scalar, the trace of the Ricci curvature, should be, on $\\mathbb{P}^n$:\n",
    "\n",
    "$$ \\textsf{R} = n(n+1)~.$$"
   ]
  },
  {
   "cell_type": "code",
   "execution_count": 20,
   "id": "9b3addcb-dc1c-446a-a2c2-484f6439c884",
   "metadata": {},
   "outputs": [
    {
     "data": {
      "text/plain": [
       "Array([30.-8.33123781e-16j, 30.+1.21746809e-16j, 30.+1.72612599e-15j, ...,\n",
       "       30.-7.98853592e-17j, 30.+1.10371070e-16j, 30.+9.64313597e-17j],      dtype=complex128)"
      ]
     },
     "execution_count": 20,
     "metadata": {},
     "output_type": "execute_result"
    }
   ],
   "source": [
    "jnp.einsum('...ba, ...ab', jnp.linalg.inv(g_FS), ricci)"
   ]
  }
 ],
 "metadata": {
  "kernelspec": {
   "display_name": "Python 3 (ipykernel)",
   "language": "python",
   "name": "python3"
  },
  "language_info": {
   "codemirror_mode": {
    "name": "ipython",
    "version": 3
   },
   "file_extension": ".py",
   "mimetype": "text/x-python",
   "name": "python",
   "nbconvert_exporter": "python",
   "pygments_lexer": "ipython3",
   "version": "3.10.12"
  }
 },
 "nbformat": 4,
 "nbformat_minor": 5
}
