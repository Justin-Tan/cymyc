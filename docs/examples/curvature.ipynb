{
 "cells": [
  {
   "cell_type": "markdown",
   "id": "d24edadd-94a1-43b5-a8c4-5efce6e914b1",
   "metadata": {},
   "source": [
    "# Curvature\n",
    "\n",
    "In this introductory example we compute various curvature quantities from the Riemannian metric on a manifold and compare against analytically known results. Everything here should be accessible with a basic knowledge of scientific computing and differential geometry. There are two Jax-specific transformations which we explain briefly below, for more detail please see the [official guides](https://jax.readthedocs.io/en/latest/notebooks/thinking_in_jax.html#how-to-think-in-jax).\n",
    "\n",
    "* `jax.jit`: Short for Just-in-Time compilation, this converts Jax Python functions to an optimised sequence of primitive operations which are then passed to some hardware accelerator. The output of `jit` is another function - usually one that executes significantly faster than the Python equivalent. The price to be paid is that the program logic of a `jit`-compatible function is constrained by the compiler, so you don't want (or need) to `jit` everything.\n",
    "* `jax.vmap`: Short for Vectorising Map, this transforms Jax Python functions written for execution on a single array element, to one which is automatically vectorised across the specified array axes. Again, program logic of a `vmap`-compatible function is restricted.\n",
    "\n",
    "Jax transformations are compatible - you can `jit` a `vmap`-ed function and vice-versa. And that's pretty much all you need to know to understand this example!\n",
    "\n",
    "While not a dependency of the package, the example notebooks require the installation of `jupyter`, run this locally if you haven't already.\n",
    "```\n",
    "pip install --upgrade jupyter notebook\n",
    "```"
   ]
  },
  {
   "cell_type": "code",
   "execution_count": 1,
   "id": "2d2f0406-3d0e-41f3-a373-60ee723e1e73",
   "metadata": {},
   "outputs": [],
   "source": [
    "import jax\n",
    "from jax import random, jit, vmap\n",
    "import jax.numpy as jnp\n",
    "\n",
    "import os, time\n",
    "import numpy as np\n",
    "\n",
    "from functools import partial\n",
    "\n",
    "jax.config.update(\"jax_enable_x64\", True)"
   ]
  },
  {
   "cell_type": "markdown",
   "id": "9cc0a47b-49f3-432b-8300-62b062d2b4ca",
   "metadata": {},
   "source": [
    "## Manifold definition / point sampling\n",
    "The routines in this library will work for an arbitrary real or complex manifold from which points may be sampled from. In this example, we consider complex projective space $\\mathbb{P}^n$. This the space of complex lines in $\\mathbb{C}^{n+1}$ which pass through the origin.\n",
    "\n",
    "To sample from $\\mathbb{P}^n$, we use the fact that every complex line intersects the unit sphere along a circle, whose $U(1)$ action we mod out, $\\mathbb{P}^n \\simeq S^{2n+1} / U(1)$. This means that samples from the unit sphere, appropriately complexified, give samples in homogeneous coordinates on projective space. Here we set $n=5$."
   ]
  },
  {
   "cell_type": "code",
   "execution_count": 2,
   "id": "832f9f0e-8c37-4951-935d-8026a3e302e6",
   "metadata": {},
   "outputs": [],
   "source": [
    "from cymyc.utils import math_utils\n",
    "\n",
    "ambient_dim = 5\n",
    "N = 10000\n",
    "seed = int(time.time()) # 42\n",
    "rng = random.PRNGKey(seed)\n",
    "rng, _rng = random.split(rng)\n",
    "\n",
    "def S2np1_uniform(key, n_p, n, dtype=np.float64):\n",
    "    \"\"\"\n",
    "    Sample `n_p` points uniformly on the unit sphere $S^{2n+1}$, treated as CP^n\n",
    "    \"\"\"\n",
    "    # return random.uniform(key, (n,))*jnp.pi, random.uniform(key, (n,)) * 2 * jnp.pi\n",
    "    x = random.normal(key, shape=(n_p, 2*(n+1)), dtype=dtype)\n",
    "    x_norm = x / jnp.linalg.norm(x, axis=1, keepdims=True)\n",
    "    sample = math_utils.to_complex(x_norm.reshape(-1, n+1, 2))\n",
    "\n",
    "    return jnp.squeeze(sample)"
   ]
  },
  {
   "cell_type": "code",
   "execution_count": 3,
   "id": "065d8bab-cd40-4c09-a758-3b6b8b62236a",
   "metadata": {},
   "outputs": [
    {
     "data": {
      "text/plain": [
       "Array([[-0.63836841+0.07540906j,  0.05975684+0.35032668j,\n",
       "        -0.21817568-0.01460647j,  0.34166592+0.30850043j,\n",
       "        -0.30371408+0.04905124j,  0.12019284-0.30279184j],\n",
       "       [ 0.3338746 +0.24517945j,  0.00430112+0.03442162j,\n",
       "         0.49296499+0.5634569j , -0.28264535-0.21595281j,\n",
       "        -0.18750478+0.1247654j , -0.29667712+0.03804603j],\n",
       "       [-0.09380982-0.40746492j,  0.00873018+0.16303933j,\n",
       "        -0.44613948-0.50193767j, -0.11338982-0.34577994j,\n",
       "        -0.01713955-0.38862749j,  0.17459208+0.18249288j],\n",
       "       ...,\n",
       "       [ 0.18246882-0.10256688j,  0.42200205-0.26619606j,\n",
       "        -0.01144649+0.0401941j ,  0.31980423-0.30983694j,\n",
       "         0.65976198-0.10411274j, -0.03887321-0.24409503j],\n",
       "       [-0.13549991+0.3167525j ,  0.21550783+0.18345629j,\n",
       "         0.4386935 +0.46204158j, -0.39535044+0.47843908j,\n",
       "         0.04093444-0.05808759j,  0.06500915-0.02813306j],\n",
       "       [-0.14109266+0.18389524j,  0.06828524-0.05392863j,\n",
       "        -0.04639297+0.30262549j, -0.60838719-0.33054492j,\n",
       "        -0.48948304-0.18501462j, -0.03999731-0.30025151j]],      dtype=complex128)"
      ]
     },
     "execution_count": 3,
     "metadata": {},
     "output_type": "execute_result"
    }
   ],
   "source": [
    "Z = S2np1_uniform(_rng, N, ambient_dim)\n",
    "Z"
   ]
  },
  {
   "cell_type": "markdown",
   "id": "9a03b09f-d765-4d90-b11e-b62b2534e43f",
   "metadata": {},
   "source": [
    "We now use the scaling freedom in projective space to convert homogeneous coords on $\\mathbb{C}\\mathbb{P}^n$, $\\left[z_0 : \\cdots : z_n\\right]$ to inhomogeneous coords in some local coordinate chart where $z_{\\alpha}$ nonzero, setting $z_{\\alpha} = 1$ and removing it from the coordinate description,\n",
    "\n",
    "$$\\left[z_0 : \\cdots : z_n\\right] \\mapsto \\left(\\frac{z_0}{z_{\\alpha}}, \\ldots, \\frac{z_{\\alpha-1}}{z_{\\alpha}}, \\frac{z_{\\alpha+1}}{z_{\\alpha}}, \\ldots, \\frac{z_n}{z_{\\alpha}}\\right) \\triangleq \\zeta^{(\\alpha)}~. $$"
   ]
  },
  {
   "cell_type": "code",
   "execution_count": 4,
   "id": "5485cd10-966f-46c0-8c7a-b59ad6b72be4",
   "metadata": {},
   "outputs": [
    {
     "data": {
      "text/plain": [
       "(10000, 5)"
      ]
     },
     "execution_count": 4,
     "metadata": {},
     "output_type": "execute_result"
    }
   ],
   "source": [
    "Z, _ = math_utils.rescale(Z)\n",
    "z = vmap(math_utils._inhomogenize)(Z)\n",
    "z.shape"
   ]
  },
  {
   "cell_type": "markdown",
   "id": "5b61f375-8c7e-45da-bc6c-fdc9877d4af2",
   "metadata": {},
   "source": [
    "## Metric definition\n",
    "\n",
    "There is a natural metric on $\\mathbb{P}^n$ - the **Fubini-Study metric**. Viewing $\\mathbb{P}^n$ as the quotient $S^{2n+1} / U(1)$, the Fubini_study metric is the unique metric such that the projection $\\pi: S^{2n+1} \\rightarrow \\mathbb{P}^n$ is a Riemannian submersion. In inhomogeneous coordinates,\n",
    "\n",
    "$$ g_{\\mu \\bar{\\nu}} = \\frac{1}{\\sigma}\\left( \\delta_{\\mu \\overline{\\nu}} - \\frac{\\zeta_{\\mu}\\zeta_{\\bar{\\nu}}}{\\sigma}\\right), \\quad \\sigma = 1 + \\sum_{m=1}^n \\zeta_m\\bar{\\zeta}_m~. $$\n",
    "\n",
    "The function below returns the FS metric in local coordinates. Note it requires a real input for autodiff to play nice, so we use the map \n",
    "\n",
    "$$z = (z_1, \\ldots, z_n) \\in \\mathbb{C}^n \\mapsto (\\Re(z_1), \\ldots, \\Re(z_n); \\Im(z_1), \\ldots, \\Im(z_n)) \\in \\mathbb{R}^{2n}~.$$"
   ]
  },
  {
   "cell_type": "code",
   "execution_count": 5,
   "id": "1d75544b-6d68-4cce-99ec-77d1ac521ba0",
   "metadata": {},
   "outputs": [],
   "source": [
    "def fubini_study_metric(p):\n",
    "    \"\"\"\n",
    "    Returns FS metric in CP^n evaluated at `p`.\n",
    "    Parameters\n",
    "    ----------\n",
    "        `p`     : 2*complex_dim real inhomogeneous coords at \n",
    "                  which metric matrix is evaluated. Shape [i].\n",
    "    Returns\n",
    "    ----------\n",
    "        `g`     : Hermitian metric in CP^n, $g_{ij}$. Shape [i,j].\n",
    "    \"\"\"\n",
    "\n",
    "    # Inhomogeneous coords\n",
    "    complex_dim = p.shape[-1]//2\n",
    "    zeta = jax.lax.complex(p[:complex_dim],\n",
    "                           p[complex_dim:])\n",
    "    zeta_bar = jnp.conjugate(zeta)\n",
    "    zeta_sq = 1. + jnp.sum(zeta * zeta_bar)\n",
    "    \n",
    "    zeta_outer = jnp.einsum('...i,...j->...ij', zeta_bar, zeta)\n",
    "\n",
    "    delta_mn = jnp.eye(complex_dim, dtype=jnp.complex64) \n",
    "\n",
    "    g_FS = jnp.divide(delta_mn * zeta_sq - zeta_outer, jnp.square(zeta_sq))\n",
    "    \n",
    "    return g_FS"
   ]
  },
  {
   "cell_type": "code",
   "execution_count": 6,
   "id": "ca3e77ee-b1d0-41e7-9993-86401d63af23",
   "metadata": {},
   "outputs": [
    {
     "data": {
      "text/plain": [
       "(10000, 5, 5)"
      ]
     },
     "execution_count": 6,
     "metadata": {},
     "output_type": "execute_result"
    }
   ],
   "source": [
    "p = math_utils.to_real(z)\n",
    "g_FS = vmap(fubini_study_metric)(p)\n",
    "g_FS.shape"
   ]
  },
  {
   "cell_type": "markdown",
   "id": "82e34e51",
   "metadata": {},
   "source": [
    "We can benchmark execution times with and without `jit`-compilation - note the exact speedup will depend on the hardware available. "
   ]
  },
  {
   "cell_type": "code",
   "execution_count": 7,
   "id": "c61fda5d",
   "metadata": {},
   "outputs": [
    {
     "name": "stdout",
     "output_type": "stream",
     "text": [
      "3.06 ms ± 269 μs per loop (mean ± std. dev. of 7 runs, 100 loops each)\n"
     ]
    }
   ],
   "source": [
    "%%timeit\n",
    "_ = vmap(fubini_study_metric)(p).block_until_ready()"
   ]
  },
  {
   "cell_type": "code",
   "execution_count": 8,
   "id": "d6cc39a3",
   "metadata": {},
   "outputs": [
    {
     "name": "stdout",
     "output_type": "stream",
     "text": [
      "877 μs ± 4.79 μs per loop (mean ± std. dev. of 7 runs, 1,000 loops each)\n"
     ]
    }
   ],
   "source": [
    "%%timeit\n",
    "_ = vmap(jit(fubini_study_metric))(p).block_until_ready()"
   ]
  },
  {
   "cell_type": "markdown",
   "id": "f06e1411-712d-41a4-81b2-6c0aced74071",
   "metadata": {},
   "source": [
    "### The Kähler potential\n",
    "$\\mathbb{P}^n$ is a Kähler manifold - this imbues it with many special properties, one of them being that the metric is locally determined by a single real scalar function, the Kähler potential, $\\mathcal{K} \\in C^{\\infty}(\\mathbb{P}^n)$.\n",
    "\n",
    "\\begin{align*}\n",
    "g_{\\mu \\bar{\\nu }} &= \\partial_{\\mu}\\overline{\\partial}_{\\bar{\\nu}} \\mathcal{K}~, \\\\\n",
    "\\mathcal{K} &= \\log \\left( 1+ \\sum_{m=1}^n \\left\\vert \\zeta_m \\right\\vert^2\\right)~.\n",
    "\\end{align*}\n",
    "\n",
    "This is particularly important in the context of approximating metrics, as it allows one to reduce the problem to approximation of a single scalar function."
   ]
  },
  {
   "cell_type": "code",
   "execution_count": 9,
   "id": "28273d9e-2f67-438e-ac23-6f5124f5ef15",
   "metadata": {},
   "outputs": [],
   "source": [
    "def fubini_study_potential(p):\n",
    "    \"\"\"\n",
    "    Returns Kahler potential associated with the FS metric\n",
    "    in CP^n evaluated at `p`.\n",
    "    Parameters\n",
    "    ----------\n",
    "        `p`        : 2*complex_dim real inhomogeneous coords at \n",
    "                     which potential is evaluated. Shape [i].\n",
    "    Returns\n",
    "    ----------\n",
    "        `phi`      : Kahler potential, real scalar. Shape [].  \n",
    "    \"\"\"\n",
    "    zeta_sq = jnp.sum(p**2)\n",
    "    return jnp.log(1. + zeta_sq)"
   ]
  },
  {
   "cell_type": "code",
   "execution_count": 10,
   "id": "79260688-0a13-439f-8da0-0b4d988a0195",
   "metadata": {},
   "outputs": [
    {
     "data": {
      "text/plain": [
       "(10000, 5, 5)"
      ]
     },
     "execution_count": 10,
     "metadata": {},
     "output_type": "execute_result"
    }
   ],
   "source": [
    "from cymyc import curvature\n",
    "_g_FS = vmap(curvature.del_z_bar_del_z, in_axes=(0,None))(p, fubini_study_potential)\n",
    "_g_FS.shape"
   ]
  },
  {
   "cell_type": "code",
   "execution_count": 11,
   "id": "eaca999a-f8f3-4f1c-9419-0701a18a7229",
   "metadata": {},
   "outputs": [
    {
     "data": {
      "text/plain": [
       "Array(True, dtype=bool)"
      ]
     },
     "execution_count": 11,
     "metadata": {},
     "output_type": "execute_result"
    }
   ],
   "source": [
    "jnp.allclose(g_FS, _g_FS)"
   ]
  },
  {
   "cell_type": "markdown",
   "id": "e33479cf-efca-418c-9737-e47f5e9dc420",
   "metadata": {},
   "source": [
    "## Riemann tensor"
   ]
  },
  {
   "cell_type": "markdown",
   "id": "38c5c353-6701-423a-93ac-dac6dc57a539",
   "metadata": {},
   "source": [
    "Measures of curvature corresponding to a given metric tensor involve derivatives of the metric - if a function corresponding to the metric tensor is known, these may be easily computed numerically using autodiff. The most important curvature quantity is the Riemann curvature - the endomorphism-valued two-form that informs us about local curvature effects, $\\textsf{Riem} \\in \\Omega^2(X; \\textsf{End}(T_X))$.\n",
    "\n",
    "Schematically, the curvature tensor is given by taking two derivatives of the metric tensor w.r.t. the input coordinates. $\\Gamma$ below refers to the Levi-Civita connection in local coordinates,\n",
    "\n",
    "$$\\textsf{Riem} \\sim \\partial \\Gamma + \\Gamma \\cdot \\Gamma, \\quad \\Gamma \\sim g^{-1} \\partial g~.$$"
   ]
  },
  {
   "cell_type": "code",
   "execution_count": 12,
   "id": "71d09a13-2aea-46c7-838d-b3647dccff5d",
   "metadata": {},
   "outputs": [],
   "source": [
    "riem = vmap(curvature.riemann_tensor_kahler, in_axes=(0,None))(p, jax.tree_util.Partial(fubini_study_metric))"
   ]
  },
  {
   "cell_type": "markdown",
   "id": "c1465d2d-6a40-4bba-a4e8-22782c7d66a6",
   "metadata": {},
   "source": [
    "This involves two derivatives of a potentially expensive function, but is reasonably speedy for even $10^4$ points, as we can test by benchmarking - in this case the function is already `jit`-ed at definition. Note nested `jit`s are equivalent to a single `jit`."
   ]
  },
  {
   "cell_type": "code",
   "execution_count": 13,
   "id": "d618a618-cf5d-4c89-9fcc-256da602c0b5",
   "metadata": {},
   "outputs": [
    {
     "name": "stdout",
     "output_type": "stream",
     "text": [
      "286 ms ± 3.41 ms per loop (mean ± std. dev. of 7 runs, 1 loop each)\n"
     ]
    }
   ],
   "source": [
    "%%timeit\n",
    "riem = vmap(curvature.riemann_tensor_kahler, in_axes=(0,None))(p, jax.tree_util.Partial(fubini_study_metric)).block_until_ready()\n",
    "riem.shape"
   ]
  },
  {
   "cell_type": "markdown",
   "id": "c6570d44-02fe-4644-ae46-6d483cfa231b",
   "metadata": {},
   "source": [
    "### First Bianchi identity\n",
    "We form the Riemann tensor with all indices lowered using the musical isomorphism defined by the metric. The resulting tensor satisifies the following symmetries, as a consequence of the first Bianchi identity,\n",
    "\n",
    "$$ \\textsf{Riem}_{a\\overline{b}c\\overline{d}} = \\textsf{Riem}_{a \\overline{d} c \\overline{b}} = \\textsf{Riem}_{c \\overline{b} a \\overline{d}} = \\textsf{Riem}_{c \\overline{d} a \\overline{b}}~.$$"
   ]
  },
  {
   "cell_type": "code",
   "execution_count": 14,
   "id": "c30afce9-646d-480b-b451-01915b5971b4",
   "metadata": {},
   "outputs": [],
   "source": [
    "riem_lower = jnp.einsum('...ibcd, ...ia->...bacd', riem, g_FS)"
   ]
  },
  {
   "cell_type": "code",
   "execution_count": 15,
   "id": "537dee2c-d57c-4308-a535-825316993b5f",
   "metadata": {},
   "outputs": [
    {
     "data": {
      "text/plain": [
       "Array(True, dtype=bool)"
      ]
     },
     "execution_count": 15,
     "metadata": {},
     "output_type": "execute_result"
    }
   ],
   "source": [
    "jnp.allclose(riem_lower, jnp.einsum('...abcd->...adcb', riem_lower))  # first equality"
   ]
  },
  {
   "cell_type": "code",
   "execution_count": 16,
   "id": "acdcc108-d1fe-4bc0-8bd8-a64a2c50f937",
   "metadata": {},
   "outputs": [
    {
     "data": {
      "text/plain": [
       "Array(True, dtype=bool)"
      ]
     },
     "execution_count": 16,
     "metadata": {},
     "output_type": "execute_result"
    }
   ],
   "source": [
    "jnp.allclose(riem_lower, jnp.einsum('...abcd->...cbad', riem_lower))  # second equality"
   ]
  },
  {
   "cell_type": "code",
   "execution_count": 17,
   "id": "40add327-7b6c-4dfd-83ba-ca8c54449da5",
   "metadata": {},
   "outputs": [
    {
     "data": {
      "text/plain": [
       "Array(True, dtype=bool)"
      ]
     },
     "execution_count": 17,
     "metadata": {},
     "output_type": "execute_result"
    }
   ],
   "source": [
    "jnp.allclose(riem_lower, jnp.einsum('...abcd->...cdab', riem_lower))  # third equality"
   ]
  },
  {
   "cell_type": "markdown",
   "id": "50a88a05-fd77-4c98-b8b3-9dd551b59063",
   "metadata": {},
   "source": [
    "## Ricci curvature"
   ]
  },
  {
   "cell_type": "markdown",
   "id": "f63d3fe3-0347-463e-aae0-63df9c25c0fd",
   "metadata": {},
   "source": [
    "Complex projective space is an Einstein manifold, meaning that the Fubini-Study metric on $\\mathbb{P}^n$ is proportional to the Ricci curvature. The Ricci curvature is another important measure of curvature derived from $\\textsf{Riem}$, which roughly measures the degree of volume distortion relative to Euclidean space as one travels along geodesics emanating from a given point.\n",
    "\n",
    "$$\\textsf{Ric} = \\Lambda g~.$$\n",
    "\n",
    "For $\\mathbb{P}^n$ the Einstein constant is $\\Lambda = n+1; \\textsf{Ric} = (n+1) g_{FS}$.\n",
    "\n",
    "The Ricci curvature is given, in local coordinates, as the trace of the endomorphism part of the Riemann curvature tensor,\n",
    "\n",
    "$$ \\textsf{Ric}_{\\mu \\bar{\\nu}} \\triangleq \\textsf{Riem}^{\\kappa}_{\\; \\kappa \\mu \\bar{\\nu}} = \\textsf{Riem}^{\\kappa}_{\\; \\mu \\kappa \\bar{\\nu}}~.$$"
   ]
  },
  {
   "cell_type": "code",
   "execution_count": 18,
   "id": "5118f9ce-4e3e-46ba-b4d9-05dfccca88d7",
   "metadata": {},
   "outputs": [],
   "source": [
    "ricci = vmap(curvature.ricci_tensor_kahler, in_axes=(0,None))(p, jax.tree_util.Partial(fubini_study_metric))"
   ]
  },
  {
   "cell_type": "code",
   "execution_count": 19,
   "id": "e166061e-92fc-4baf-8bab-152f47316578",
   "metadata": {},
   "outputs": [
    {
     "data": {
      "text/plain": [
       "Array(True, dtype=bool)"
      ]
     },
     "execution_count": 19,
     "metadata": {},
     "output_type": "execute_result"
    }
   ],
   "source": [
    "jnp.allclose(ricci, (ambient_dim + 1) * g_FS)"
   ]
  },
  {
   "cell_type": "markdown",
   "id": "40cfb945-4bfa-455f-b576-25751d921543",
   "metadata": {},
   "source": [
    "This also means that the Ricci scalar, the trace of the Ricci curvature, should be, on $\\mathbb{P}^n$:\n",
    "\n",
    "$$ \\textsf{R} = n(n+1)~.$$"
   ]
  },
  {
   "cell_type": "code",
   "execution_count": 20,
   "id": "9b3addcb-dc1c-446a-a2c2-484f6439c884",
   "metadata": {},
   "outputs": [
    {
     "data": {
      "text/plain": [
       "Array([30.-8.33123781e-16j, 30.+1.21746809e-16j, 30.+1.72612599e-15j, ...,\n",
       "       30.-7.98853592e-17j, 30.+1.10371070e-16j, 30.+9.64313597e-17j],      dtype=complex128)"
      ]
     },
     "execution_count": 20,
     "metadata": {},
     "output_type": "execute_result"
    }
   ],
   "source": [
    "jnp.einsum('...ba, ...ab', jnp.linalg.inv(g_FS), ricci)"
   ]
  }
 ],
 "metadata": {
  "kernelspec": {
   "display_name": "Python 3 (ipykernel)",
   "language": "python",
   "name": "python3"
  },
  "language_info": {
   "codemirror_mode": {
    "name": "ipython",
    "version": 3
   },
   "file_extension": ".py",
   "mimetype": "text/x-python",
   "name": "python",
   "nbconvert_exporter": "python",
   "pygments_lexer": "ipython3",
   "version": "3.12.2"
  }
 },
 "nbformat": 4,
 "nbformat_minor": 5
}
