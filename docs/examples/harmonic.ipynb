{
 "cells": [
  {
   "cell_type": "markdown",
   "metadata": {},
   "source": [
    "# Approximation of Laplacian zero modes\n",
    "In this example notebook, the second in of a pair, we consider a complex manifold $X$, and approximate the zero modes of the Laplacian $\\Delta_g$ on $X$ by optimisation of the natural associated variational problem. One may regard this as an example of how to use the approximate metric to study the geometry of $X$.\n",
    "\n",
    "The manifold $X$ is the same Calabi-Yau threefold defined in the previous example, where we found an approximation to the unique Ricci-flat metric tensor on $X$. We will use the points sampled and optimsed parameters saved by the previous example."
   ]
  },
  {
   "cell_type": "code",
   "execution_count": 1,
   "metadata": {},
   "outputs": [],
   "source": [
    "import jax\n",
    "from jax import random\n",
    "import jax.numpy as jnp\n",
    "\n",
    "import os, time\n",
    "import numpy as np\n",
    "\n",
    "from functools import partial\n",
    "\n",
    "from cymyc import dataloading\n",
    "from cymyc.utils import gen_utils as utils"
   ]
  },
  {
   "cell_type": "markdown",
   "metadata": {
    "jp-MarkdownHeadingCollapsed": true
   },
   "source": [
    "## Motivation\n",
    "\n",
    "This will be a brief overview with technical details smoothed over for the ease of exposition - for the full story, please [consult this article](https://arxiv.org/abs/2407.13836). \n",
    "\n",
    "We are interested in differential forms on the Calabi-Yau, $\\eta \\in \\Omega^1(X)$, which are annihilated by the Laplacian on $X$,\n",
    "$$ \\Delta_g \\eta = 0~.$$\n",
    "\n",
    "Evaluation of the Laplacian requires the metric on $X$ - which makes sense, as [eigenmodes on manifolds should tell you about geometry!](https://www.math.ucdavis.edu/~hunter/m207b/kac.pdf) For physical reasons, in string compactification scenarios, we are interested in eigenmodes which are harmonic w.r.t. the Ricci-flat metric. These correspond to observable physical matter fields in string compactifications scenarios.\n",
    "\n",
    "With harmonic forms in hand, we may predict the masses and strengths with which these particles interact at low energies. The end goal is to predict if a given 'string model' (of which there are exceptionally many) recovers a quantum field theory with properties close to our universe at low energies."
   ]
  },
  {
   "cell_type": "markdown",
   "metadata": {},
   "source": [
    "## Load data and metric checkpoint\n",
    "\n",
    "We load the points sampled from $X$ in the previous notebook, as well as the parameters for the approximate Ricci-flat metric."
   ]
  },
  {
   "cell_type": "code",
   "execution_count": 2,
   "metadata": {},
   "outputs": [
    {
     "name": "stdout",
     "output_type": "stream",
     "text": [
      "Saving config file to experiments/X33_demo_harmonic/X33_demo_harmonic_METADATA.pkl\n",
      "Dataset size: (400000, 12), kappa: 0.0393404\n",
      "Vol[g]: 0.0277778, Vol[Ω]: 0.7060880\n"
     ]
    }
   ],
   "source": [
    "class args(object):\n",
    "    # specify training config. For more options, see `src/approx/default_config`\n",
    "    name = \"X33_demo_harmonic\"\n",
    "    learning_rate = 1e-4\n",
    "    n_epochs = 24\n",
    "    dataset = \"data/X33_demo/\"\n",
    "    metric_checkpoint = \"experiments/X33_demo/X33_demo_epoch_FIN_2024_08_21_01:10_PARAMS.pkl\" # replace this with your checkpoint\n",
    "    batch_size = 1024\n",
    "    n_units_harmonic = [64, 64, 128, 64, 42]\n",
    "\n",
    "# Override default arguments from config file with provided command line arguments\n",
    "from cymyc.approx.default_config import config\n",
    "config = utils.override_default_args(args, config)\n",
    "config = utils.read_metadata(config)  # load dataset metadata\n",
    "\n",
    "np_rng = np.random.default_rng()\n",
    "data_train, data_val, train_loader, val_loader, psi = dataloading.initialize_loaders_train(\n",
    "    np_rng      = np_rng,\n",
    "    data_path   = os.path.join(config.dataset, \"dataset.npz\"),\n",
    "    batch_size  = config.batch_size)"
   ]
  },
  {
   "cell_type": "code",
   "execution_count": 3,
   "metadata": {},
   "outputs": [
    {
     "name": "stdout",
     "output_type": "stream",
     "text": [
      "Compiling LearnedVector_spectral_nn.spectral_layer.\n"
     ]
    }
   ],
   "source": [
    "from cymyc.approx import models\n",
    "\n",
    "metric_model_class = models.LearnedVector_spectral_nn_CICY\n",
    "metric_model = metric_model_class(config.n_ambient_coords, config.ambient, config.n_units)\n",
    "\n",
    "seed = int(time.time()) # 42\n",
    "rng = random.PRNGKey(seed)\n",
    "rng, init_rng = random.split(rng)\n",
    "\n",
    "_params, init_rng = utils.random_params(init_rng, metric_model, data_dim=config.n_ambient_coords * 2)\n",
    "metric_params = utils.load_params(_params, config.metric_checkpoint)  # parameters for trained metric NN"
   ]
  },
  {
   "cell_type": "markdown",
   "metadata": {},
   "source": [
    "## Harmonic model ansatz\n",
    "\n",
    "Our variational ansatz $\\tilde{\\eta}_{\\lambda}$ is obtained as an $\\overline{\\partial}$-exact correction from some easily computable reference form $\\phi \\in H^1(T_X)$, and the natural variational objective to minimise is the Laplacian itself,\n",
    "\n",
    "$$\\tilde{\\eta}(\\cdot; \\lambda) = \\phi + \\bar{\\partial} \\mathfrak{s}(\\cdot; \\lambda), \\quad \\lambda = \\textsf{argmin}_{\\lambda' \\in \\Lambda} \\Delta_g \\tilde{\\eta}(\\cdot; \\lambda').$$\n",
    "\n",
    "Here $\\mathfrak{s}$ is a section of the (holomorphic) tangent bundle over $X$. The approximation problem thus reduces to finding a way to model a section of the tangent bundle $\\mathfrak{s} \\in \\Gamma(T_X)$ using a parameterised function - this is far from obvious on a manifold with nontrivial topology! \n",
    "\n",
    "The core idea is to construct a basis of sections $\\{ \\mathbf{e}^i \\}_i$ of $T_X$, and to take $\\mathfrak{s}$ to be a linear combination of the basis elements, with the coefficients parameterised by a vector-valued globally defined function $\\psi$:\n",
    "$$ \\mathfrak{s} = \\sum_{\\mu} \\psi_{\\mu} \\mathbf{e}^{\\mu} ~.$$\n",
    "We again we leave the full story to [this article](https://arxiv.org/abs/2407.13836), but note this is crucial to ensure that $\\tilde{\\eta}$ is a bona-fide geometrical object globally defined over $X$ - one gets nonsensical answers if the ansatz does not respect the topology of $X$.\n",
    "\n",
    "**Note:** The objective requires taking the third derivative of the neural network modelling the metric, so this example runs significantly faster on a GPU."
   ]
  },
  {
   "cell_type": "code",
   "execution_count": 4,
   "metadata": {},
   "outputs": [],
   "source": [
    "from flax import linen as nn\n",
    "from functools import partial\n",
    "\n",
    "from cymyc.approx import harmonic, eta_train"
   ]
  },
  {
   "cell_type": "code",
   "execution_count": 5,
   "metadata": {},
   "outputs": [
    {
     "name": "stderr",
     "output_type": "stream",
     "text": [
      "01:33:03 INFO - logger_setup: /home/jt796/github/alpha_prime/docs/examples\n",
      "01:33:03 INFO - <module>: \n",
      "\u001b[3m                     CoeffNetwork_spectral_nn_CICY Summary                      \u001b[0m\n",
      "┏━━━━━━━━━━━━━━━┳━━━━━━━━━━━━━━━┳━━━━━━━━━━━━━━━┳━━━━━━━━━━━━━━━┳━━━━━━━━━━━━━━┓\n",
      "┃\u001b[1m \u001b[0m\u001b[1mpath         \u001b[0m\u001b[1m \u001b[0m┃\u001b[1m \u001b[0m\u001b[1mmodule       \u001b[0m\u001b[1m \u001b[0m┃\u001b[1m \u001b[0m\u001b[1minputs       \u001b[0m\u001b[1m \u001b[0m┃\u001b[1m \u001b[0m\u001b[1moutputs      \u001b[0m\u001b[1m \u001b[0m┃\u001b[1m \u001b[0m\u001b[1mparams      \u001b[0m\u001b[1m \u001b[0m┃\n",
      "┡━━━━━━━━━━━━━━━╇━━━━━━━━━━━━━━━╇━━━━━━━━━━━━━━━╇━━━━━━━━━━━━━━━╇━━━━━━━━━━━━━━┩\n",
      "│               │ CoeffNetwork… │ \u001b[2mfloat32\u001b[0m[1,12] │ -             │              │\n",
      "│               │               │               │ \u001b[2mcomplex64\u001b[0m[1,… │              │\n",
      "├───────────────┼───────────────┼───────────────┼───────────────┼──────────────┤\n",
      "│ layers_0      │ Dense         │ \u001b[2mfloat32\u001b[0m[36]   │ \u001b[2mfloat32\u001b[0m[64]   │ bias:        │\n",
      "│               │               │               │               │ \u001b[2mfloat32\u001b[0m[64]  │\n",
      "│               │               │               │               │ kernel:      │\n",
      "│               │               │               │               │ \u001b[2mfloat32\u001b[0m[36,… │\n",
      "│               │               │               │               │              │\n",
      "│               │               │               │               │ \u001b[1m2,368 \u001b[0m\u001b[1;2m(9.5 \u001b[0m  │\n",
      "│               │               │               │               │ \u001b[1;2mKB)\u001b[0m          │\n",
      "├───────────────┼───────────────┼───────────────┼───────────────┼──────────────┤\n",
      "│ layers_1      │ Dense         │ \u001b[2mfloat32\u001b[0m[64]   │ \u001b[2mfloat32\u001b[0m[64]   │ bias:        │\n",
      "│               │               │               │               │ \u001b[2mfloat32\u001b[0m[64]  │\n",
      "│               │               │               │               │ kernel:      │\n",
      "│               │               │               │               │ \u001b[2mfloat32\u001b[0m[64,… │\n",
      "│               │               │               │               │              │\n",
      "│               │               │               │               │ \u001b[1m4,160 \u001b[0m\u001b[1;2m(16.6 \u001b[0m │\n",
      "│               │               │               │               │ \u001b[1;2mKB)\u001b[0m          │\n",
      "├───────────────┼───────────────┼───────────────┼───────────────┼──────────────┤\n",
      "│ layers_2      │ Dense         │ \u001b[2mfloat32\u001b[0m[64]   │ \u001b[2mfloat32\u001b[0m[128]  │ bias:        │\n",
      "│               │               │               │               │ \u001b[2mfloat32\u001b[0m[128] │\n",
      "│               │               │               │               │ kernel:      │\n",
      "│               │               │               │               │ \u001b[2mfloat32\u001b[0m[64,… │\n",
      "│               │               │               │               │              │\n",
      "│               │               │               │               │ \u001b[1m8,320 \u001b[0m\u001b[1;2m(33.3 \u001b[0m │\n",
      "│               │               │               │               │ \u001b[1;2mKB)\u001b[0m          │\n",
      "├───────────────┼───────────────┼───────────────┼───────────────┼──────────────┤\n",
      "│ layers_3      │ Dense         │ \u001b[2mfloat32\u001b[0m[128]  │ \u001b[2mfloat32\u001b[0m[64]   │ bias:        │\n",
      "│               │               │               │               │ \u001b[2mfloat32\u001b[0m[64]  │\n",
      "│               │               │               │               │ kernel:      │\n",
      "│               │               │               │               │ \u001b[2mfloat32\u001b[0m[128… │\n",
      "│               │               │               │               │              │\n",
      "│               │               │               │               │ \u001b[1m8,256 \u001b[0m\u001b[1;2m(33.0 \u001b[0m │\n",
      "│               │               │               │               │ \u001b[1;2mKB)\u001b[0m          │\n",
      "├───────────────┼───────────────┼───────────────┼───────────────┼──────────────┤\n",
      "│ layers_4      │ Dense         │ \u001b[2mfloat32\u001b[0m[64]   │ \u001b[2mfloat32\u001b[0m[42]   │ bias:        │\n",
      "│               │               │               │               │ \u001b[2mfloat32\u001b[0m[42]  │\n",
      "│               │               │               │               │ kernel:      │\n",
      "│               │               │               │               │ \u001b[2mfloat32\u001b[0m[64,… │\n",
      "│               │               │               │               │              │\n",
      "│               │               │               │               │ \u001b[1m2,730 \u001b[0m\u001b[1;2m(10.9 \u001b[0m │\n",
      "│               │               │               │               │ \u001b[1;2mKB)\u001b[0m          │\n",
      "├───────────────┼───────────────┼───────────────┼───────────────┼──────────────┤\n",
      "│ layers_coeffs │ EinsumComplex │ \u001b[2mfloat32\u001b[0m[42]   │ \u001b[2mcomplex64\u001b[0m[1,… │ bias:        │\n",
      "│               │               │               │               │ \u001b[2mfloat32\u001b[0m[1,1… │\n",
      "│               │               │               │               │ im_kernel:   │\n",
      "│               │               │               │               │ \u001b[2mfloat32\u001b[0m[42,… │\n",
      "│               │               │               │               │ re_kernel:   │\n",
      "│               │               │               │               │ \u001b[2mfloat32\u001b[0m[42,… │\n",
      "│               │               │               │               │              │\n",
      "│               │               │               │               │ \u001b[1m26,775 \u001b[0m      │\n",
      "│               │               │               │               │ \u001b[1;2m(107.1 KB)\u001b[0m   │\n",
      "├───────────────┼───────────────┼───────────────┼───────────────┼──────────────┤\n",
      "│\u001b[1m \u001b[0m\u001b[1m             \u001b[0m\u001b[1m \u001b[0m│\u001b[1m \u001b[0m\u001b[1m             \u001b[0m\u001b[1m \u001b[0m│\u001b[1m \u001b[0m\u001b[1m             \u001b[0m\u001b[1m \u001b[0m│\u001b[1m \u001b[0m\u001b[1m        Total\u001b[0m\u001b[1m \u001b[0m│\u001b[1m \u001b[0m\u001b[1m52,609      \u001b[0m\u001b[1m \u001b[0m│\n",
      "│\u001b[1m               \u001b[0m│\u001b[1m               \u001b[0m│\u001b[1m               \u001b[0m│\u001b[1m               \u001b[0m│\u001b[1m \u001b[0m\u001b[1;2m(210.4 KB)\u001b[0m\u001b[1m  \u001b[0m\u001b[1m \u001b[0m│\n",
      "└───────────────┴───────────────┴───────────────┴───────────────┴──────────────┘\n",
      "\u001b[1m                                                                                \u001b[0m\n",
      "\u001b[1m                      Total Parameters: 52,609 \u001b[0m\u001b[1;2m(210.4 KB)\u001b[0m\u001b[1m                       \u001b[0m\n",
      "\n",
      "\n"
     ]
    },
    {
     "name": "stdout",
     "output_type": "stream",
     "text": [
      "Compiling LearnedVector_spectral_nn.spectral_layer.\n",
      "CoeffNetwork_spectral_nn_CICY.__call__, coeff shape, (1, 15, 21)\n"
     ]
    }
   ],
   "source": [
    "# initialize model\n",
    "eta_model_class = models.CoeffNetwork_spectral_nn_CICY\n",
    "eta_model = eta_model_class(\n",
    "    dim         = config.n_ambient_coords,\n",
    "    ambient     = config.ambient,\n",
    "    n_units     = config.n_units_harmonic,\n",
    "    activation  = nn.gelu)\n",
    "\n",
    "t0 = time.time()\n",
    "rng, init_rng = random.split(rng)\n",
    "logger = utils.logger_setup('X33_demo_harmonic', filepath=os.path.abspath(''))\n",
    "logger.info(eta_model.tabulate(init_rng, jnp.ones([1, config.n_ambient_coords * 2])))"
   ]
  },
  {
   "cell_type": "markdown",
   "metadata": {},
   "source": [
    "For the particular manifold we consider, there is one unique harmonic one-form, as $h^{(2,1)} = 1$. Topological considerations mean the number of harmonic one-forms is equal to the number of independent ways we can deform the defining polynomials while remaining on the zero locus. From the definition of the manifold as the intersection of zero loci in $\\mathbb{P}^5$, there is only one way to do this,\n",
    "\n",
    "$$\n",
    "B_{\\psi} = \\left\\{\\begin{array}{c}Z_0^3 + Z_1^3 + Z_2^3 - 3 \\psi Z_3 Z_4 Z_5 = 0\\\\\n",
    "Z_3^3 + Z_4^3 + Z_5^3 - 3 \\psi Z_0 Z_1 Z_2 = 0\\end{array} \\, : \\, \\psi \\in \\mathbb{C}\\right\\} \\subset \\mathbb{P}^5~.\n",
    "$$\n",
    "\n",
    "The single complex structure moduli direction corresponds to the trilinear polynomial deformations above, and we can write down this deformation explicitly. We also need to calculate some complex structure data associated with the manifold.\n",
    "\n",
    "There's too much information to comfortably carry around as arguments to functions used in optimisation. To remedy this, we wrap everything up into an appropriately filtered class - `harmonic_wp`, whose methods are compatible with `Jax` transformations."
   ]
  },
  {
   "cell_type": "code",
   "execution_count": 6,
   "metadata": {},
   "outputs": [],
   "source": [
    "from cymyc import alg_geo\n",
    "from examples import poly_spec\n",
    "\n",
    "def X33_deformation(p, precision=np.complex128):\n",
    "    d1 = jnp.einsum(\"...a,aj->...j\", jnp.expand_dims(p[3]*p[4]*p[5], axis=-1),\n",
    "                      jnp.asarray([[-3.,0.]], precision))\n",
    "    d2 = jnp.einsum(\"...a,aj->...j\", jnp.expand_dims(p[0]*p[1]*p[2], axis=-1),\n",
    "                      jnp.asarray([[0.,-3.]], precision))\n",
    "    return d1 + d2\n",
    "\n",
    "def _X33_coefficients(psi):\n",
    "    coefficients = [jnp.append(jnp.ones(3), -3.0*psi), jnp.append(jnp.ones(3), -3.0*psi)]\n",
    "    return coefficients\n",
    "    \n",
    "monomials, cy_dim, kmoduli, ambient = poly_spec.X33_spec()\n",
    "coefficients = _X33_coefficients(psi)\n",
    "\n",
    "dQdz_info = [alg_geo.dQdz_poly(config.n_ambient_coords, m, c) for (m,c) in zip(monomials, coefficients)]\n",
    "dQdz_monomials, dQdz_coeffs = list(zip(*dQdz_info))\n",
    "config.dQdz_monomials = dQdz_monomials\n",
    "config.dQdz_coeffs = dQdz_coeffs"
   ]
  },
  {
   "cell_type": "code",
   "execution_count": 7,
   "metadata": {},
   "outputs": [],
   "source": [
    "g_FS_fn, g_correction_fn, pb_fn = models.helper_fns(config)\n",
    "# full transformation-compatible closure\n",
    "metric_fn = jax.tree_util.Partial(models.ddbar_phi_model, params=metric_params, \n",
    "                                  g_ref_fn=g_FS_fn, g_correction_fn=g_correction_fn)\n",
    "harmonic_wp = harmonic.HarmonicFull(cy_dim, monomials, ambient, [X33_deformation], dQdz_monomials,\n",
    "                                dQdz_coeffs, metric_fn, pb_fn, _X33_coefficients, psi)"
   ]
  },
  {
   "attachments": {},
   "cell_type": "markdown",
   "metadata": {},
   "source": [
    "## Optimisation loop for harmonic zero modes\n",
    "\n",
    "This is again fairly standard - note Jax is more bare-metal than other libraries, so we write the looping logic ourselves. \n",
    "\n",
    "`jit` compilation introduces a delay the first time the `train_step` function is called, but executes quickly when called subsequently. We pay an initial up-front cost for compilation of Python functions into a form efficiently executable by an accelerator, which will be repaid during the execution itself."
   ]
  },
  {
   "cell_type": "code",
   "execution_count": 8,
   "metadata": {
    "scrolled": true
   },
   "outputs": [
    {
     "name": "stdout",
     "output_type": "stream",
     "text": [
      "Compiling LearnedVector_spectral_nn.spectral_layer.\n",
      "CoeffNetwork_spectral_nn_CICY.__call__, coeff shape, (1, 15, 21)\n"
     ]
    }
   ],
   "source": [
    "import time, logging\n",
    "import optax\n",
    "\n",
    "from tqdm import tqdm\n",
    "from collections import defaultdict\n",
    "\n",
    "optimizer = optax.chain(\n",
    "        optax.clip_by_global_norm(1.0),\n",
    "        optax.adamw(config.learning_rate))\n",
    "params, opt_state, init_rng = eta_train.create_train_state(init_rng, eta_model, optimizer, data_dim=config.n_ambient_coords * 2)\n",
    "\n",
    "storage = defaultdict(list)\n",
    "\n",
    "try:\n",
    "    device = jax.devices('gpu')[0]\n",
    "except:\n",
    "    device = jax.devices('cpu')[0]"
   ]
  },
  {
   "cell_type": "code",
   "execution_count": 9,
   "metadata": {
    "scrolled": true
   },
   "outputs": [
    {
     "name": "stderr",
     "output_type": "stream",
     "text": [
      "01:33:07 INFO - <module>: Running on cuda:0\n",
      "/home/jt796/dev/lib/python3.10/site-packages/jax/_src/ops/scatter.py:96: FutureWarning: scatter inputs have incompatible types: cannot safely cast value from dtype=complex128 to dtype=complex64 with jax_numpy_dtype_promotion='standard'. In future JAX releases this will result in an error.\n",
      "  warnings.warn(\n",
      "/home/jt796/dev/lib/python3.10/site-packages/jax/_src/ops/scatter.py:96: FutureWarning: scatter inputs have incompatible types: cannot safely cast value from dtype=complex128 to dtype=complex64 with jax_numpy_dtype_promotion='standard'. In future JAX releases this will result in an error.\n",
      "  warnings.warn(\n"
     ]
    },
    {
     "name": "stdout",
     "output_type": "stream",
     "text": [
      "Compiling ddbar_phi_model\n",
      "Compiling phi_head\n",
      "Compiling LearnedVector_spectral_nn.spectral_layer.\n",
      "Compiling HarmonicFull.objective_function\n",
      "Compiling HarmonicFull.del_bar_zeta_complete\n",
      "Compiling coeff_head\n",
      "['layers_0', 'layers_1', 'layers_2', 'layers_3', 'layers_4', 'layers_coeffs']\n",
      "Compiling LearnedVector_spectral_nn.spectral_layer.\n",
      "CoeffNetwork_spectral_nn_CICY.__call__, coeff shape, (1, 15, 21)\n",
      "HarmonicFull.objective_function, codiff shape (1024, 1, 3)\n",
      "Compiling HarmonicFull.harmonic_rep_breakdown (1, 3, 6) (1, 5, 6) (1, 3, 3)\n"
     ]
    },
    {
     "name": "stderr",
     "output_type": "stream",
     "text": [
      "/home/jt796/dev/lib/python3.10/site-packages/jax/_src/ops/scatter.py:96: FutureWarning: scatter inputs have incompatible types: cannot safely cast value from dtype=complex128 to dtype=complex64 with jax_numpy_dtype_promotion='standard'. In future JAX releases this will result in an error.\n",
      "  warnings.warn(\n"
     ]
    },
    {
     "name": "stdout",
     "output_type": "stream",
     "text": [
      "Compiling HarmonicFull.zeta_jacobian_complete\n",
      "HarmonicFull.loss_breakdown: (1024, 1, 3, 3), (1024, 1, 3, 3), (1024, 1, 3, 3)\n",
      "HarmonicFull.loss_breakdown: (1, 1), (1, 1)\n",
      "HarmonicFull.loss_breakdown: (1, 1), (1, 1)\n"
     ]
    },
    {
     "name": "stderr",
     "output_type": "stream",
     "text": [
      "/home/jt796/dev/lib/python3.10/site-packages/jax/_src/ops/scatter.py:96: FutureWarning: scatter inputs have incompatible types: cannot safely cast value from dtype=complex128 to dtype=complex64 with jax_numpy_dtype_promotion='standard'. In future JAX releases this will result in an error.\n",
      "  warnings.warn(\n"
     ]
    },
    {
     "name": "stdout",
     "output_type": "stream",
     "text": [
      "Harmonic.section_network_transformed, O2 shape (6, 6)\n",
      "HarmonicFull.transition_loss: (4, 1, 3), (4, 1, 3)\n",
      "HarmonicFull.transition_loss: (4, 3, 3)\n",
      "HarmonicFull.transition_loss: (4, 1)\n"
     ]
    },
    {
     "name": "stderr",
     "output_type": "stream",
     "text": [
      "01:33:35 INFO - callback: [32.7s]: [VAL] | Iter: 0 | (ξ,ξ) (WP): 0.64359-0.00000j | (∂-bar θ, ∂-bar θ) (WP): 0.00056+0.00000j | G_WP_CY: 0.64609-0.00000j | G_WP_KS: 0.60514+0.00000j | G_WP_bundle: 0.63843-0.00000j | codiff_mean: 2.26570 | cup_product: 0.64609-0.00000j | loss: 1.65674 | polarisation: 0.01636 | ratio (cy/bundle): 1.01200+0.00000j | symmetry: 0.00156 | transition_loss: 0.00002 | σ_measure: 0.01800\n",
      "Epoch: 0:   0%|\u001b[32m                                                                                               \u001b[0m| 0/390 [00:00<?, ?it/s]\u001b[0m"
     ]
    },
    {
     "name": "stdout",
     "output_type": "stream",
     "text": [
      "Compiling train_step\n",
      "Compiling HarmonicFull.objective_function\n",
      "HarmonicFull.objective_function, codiff shape (1024, 1, 3)\n"
     ]
    },
    {
     "name": "stderr",
     "output_type": "stream",
     "text": [
      "Epoch: 0: 100%|\u001b[32m██████████████████████████████████████████████████████████████████████\u001b[0m| 390/390 [01:59<00:00,  3.26it/s, loss: 1.34514]\u001b[0m\n",
      "01:35:35 INFO - callback: [152.7s]: [VAL] | Iter: 0 | (ξ,ξ) (WP): 0.63347+0.00000j | (∂-bar θ, ∂-bar θ) (WP): 0.02108-0.00000j | G_WP_CY: 0.61382-0.00000j | G_WP_KS: 0.59303+0.00000j | G_WP_bundle: 0.60562+0.00000j | codiff_mean: 1.74131 | cup_product: 0.61382-0.00000j | loss: 1.29805 | polarisation: 0.01147 | ratio (cy/bundle): 1.01353-0.00000j | symmetry: 0.00109 | transition_loss: 0.00005 | σ_measure: 0.01788\n",
      "Epoch: 1: 100%|\u001b[32m██████████████████████████████████████████████████████████████████████\u001b[0m| 390/390 [01:40<00:00,  3.87it/s, loss: 1.30410]\u001b[0m\n",
      "01:37:16 INFO - callback: [253.6s]: [VAL] | Iter: 0 | (ξ,ξ) (WP): 0.61512-0.00000j | (∂-bar θ, ∂-bar θ) (WP): 0.02278-0.00000j | G_WP_CY: 0.59833+0.00000j | G_WP_KS: 0.57410-0.00000j | G_WP_bundle: 0.59206+0.00000j | codiff_mean: 1.70130 | cup_product: 0.59833+0.00000j | loss: 1.27187 | polarisation: 0.00992 | ratio (cy/bundle): 1.01059-0.00000j | symmetry: 0.00095 | transition_loss: 0.00005 | σ_measure: 0.01776\n",
      "Epoch: 2: 100%|\u001b[32m██████████████████████████████████████████████████████████████████████\u001b[0m| 390/390 [01:40<00:00,  3.87it/s, loss: 1.24641]\u001b[0m\n",
      "01:38:57 INFO - callback: [354.6s]: [VAL] | Iter: 0 | (ξ,ξ) (WP): 0.66525+0.00000j | (∂-bar θ, ∂-bar θ) (WP): 0.02268-0.00000j | G_WP_CY: 0.63506-0.00000j | G_WP_KS: 0.62080+0.00000j | G_WP_bundle: 0.62571-0.00000j | codiff_mean: 1.73292 | cup_product: 0.63506-0.00000j | loss: 1.30424 | polarisation: 0.00946 | ratio (cy/bundle): 1.01494+0.00000j | symmetry: 0.00090 | transition_loss: 0.00005 | σ_measure: 0.01925\n",
      "Epoch: 3: 100%|\u001b[32m██████████████████████████████████████████████████████████████████████\u001b[0m| 390/390 [01:40<00:00,  3.87it/s, loss: 1.26099]\u001b[0m\n",
      "01:40:38 INFO - callback: [455.6s]: [VAL] | Iter: 0 | (ξ,ξ) (WP): 0.65639-0.00000j | (∂-bar θ, ∂-bar θ) (WP): 0.02295+0.00000j | G_WP_CY: 0.62599-0.00000j | G_WP_KS: 0.61467+0.00000j | G_WP_bundle: 0.61751-0.00000j | codiff_mean: 1.66061 | cup_product: 0.62599-0.00000j | loss: 1.23701 | polarisation: 0.01127 | ratio (cy/bundle): 1.01373+0.00000j | symmetry: 0.00108 | transition_loss: 0.00005 | σ_measure: 0.01840\n",
      "Epoch: 4: 100%|\u001b[32m██████████████████████████████████████████████████████████████████████\u001b[0m| 390/390 [01:40<00:00,  3.87it/s, loss: 1.19797]\u001b[0m\n",
      "01:42:19 INFO - callback: [556.6s]: [VAL] | Iter: 0 | (ξ,ξ) (WP): 0.63224-0.00000j | (∂-bar θ, ∂-bar θ) (WP): 0.02507+0.00000j | G_WP_CY: 0.60316+0.00000j | G_WP_KS: 0.59525-0.00000j | G_WP_bundle: 0.59700-0.00000j | codiff_mean: 1.55206 | cup_product: 0.60316+0.00000j | loss: 1.15654 | polarisation: 0.01534 | ratio (cy/bundle): 1.01032+0.00000j | symmetry: 0.00148 | transition_loss: 0.00005 | σ_measure: 0.01783\n",
      "Epoch: 5: 100%|\u001b[32m██████████████████████████████████████████████████████████████████████\u001b[0m| 390/390 [01:40<00:00,  3.87it/s, loss: 1.15405]\u001b[0m\n",
      "01:44:00 INFO - callback: [657.6s]: [VAL] | Iter: 0 | (ξ,ξ) (WP): 0.63929-0.00000j | (∂-bar θ, ∂-bar θ) (WP): 0.02537-0.00000j | G_WP_CY: 0.61172+0.00000j | G_WP_KS: 0.60278-0.00000j | G_WP_bundle: 0.60428-0.00000j | codiff_mean: 1.52902 | cup_product: 0.61172+0.00000j | loss: 1.14882 | polarisation: 0.01621 | ratio (cy/bundle): 1.01231+0.00000j | symmetry: 0.00156 | transition_loss: 0.00005 | σ_measure: 0.01862\n",
      "Epoch: 6: 100%|\u001b[32m██████████████████████████████████████████████████████████████████████\u001b[0m| 390/390 [01:40<00:00,  3.87it/s, loss: 1.12644]\u001b[0m\n",
      "01:45:41 INFO - callback: [758.6s]: [VAL] | Iter: 0 | (ξ,ξ) (WP): 0.61457-0.00000j | (∂-bar θ, ∂-bar θ) (WP): 0.02828+0.00000j | G_WP_CY: 0.58973+0.00000j | G_WP_KS: 0.57293+0.00000j | G_WP_bundle: 0.58233+0.00000j | codiff_mean: 1.46332 | cup_product: 0.58973+0.00000j | loss: 1.09587 | polarisation: 0.01529 | ratio (cy/bundle): 1.01271-0.00000j | symmetry: 0.00149 | transition_loss: 0.00006 | σ_measure: 0.01822\n",
      "Epoch: 7: 100%|\u001b[32m██████████████████████████████████████████████████████████████████████\u001b[0m| 390/390 [01:40<00:00,  3.87it/s, loss: 1.07764]\u001b[0m\n",
      "01:47:22 INFO - callback: [859.6s]: [VAL] | Iter: 0 | (ξ,ξ) (WP): 0.64462+0.00000j | (∂-bar θ, ∂-bar θ) (WP): 0.02883-0.00000j | G_WP_CY: 0.61644+0.00000j | G_WP_KS: 0.60734-0.00000j | G_WP_bundle: 0.60836-0.00000j | codiff_mean: 1.44540 | cup_product: 0.61644+0.00000j | loss: 1.09805 | polarisation: 0.01395 | ratio (cy/bundle): 1.01328+0.00000j | symmetry: 0.00134 | transition_loss: 0.00005 | σ_measure: 0.01888\n",
      "Epoch: 8: 100%|\u001b[32m██████████████████████████████████████████████████████████████████████\u001b[0m| 390/390 [01:40<00:00,  3.87it/s, loss: 1.09170]\u001b[0m\n",
      "01:49:03 INFO - callback: [960.5s]: [VAL] | Iter: 0 | (ξ,ξ) (WP): 0.66114-0.00000j | (∂-bar θ, ∂-bar θ) (WP): 0.02929+0.00000j | G_WP_CY: 0.62532+0.00000j | G_WP_KS: 0.62560-0.00000j | G_WP_bundle: 0.61868+0.00000j | codiff_mean: 1.44670 | cup_product: 0.62532+0.00000j | loss: 1.10366 | polarisation: 0.01244 | ratio (cy/bundle): 1.01073-0.00000j | symmetry: 0.00120 | transition_loss: 0.00005 | σ_measure: 0.01846\n",
      "Epoch: 9: 100%|\u001b[32m██████████████████████████████████████████████████████████████████████\u001b[0m| 390/390 [01:40<00:00,  3.87it/s, loss: 1.08724]\u001b[0m\n",
      "01:50:44 INFO - callback: [1061.5s]: [VAL] | Iter: 0 | (ξ,ξ) (WP): 0.66995-0.00000j | (∂-bar θ, ∂-bar θ) (WP): 0.02958+0.00000j | G_WP_CY: 0.63832-0.00000j | G_WP_KS: 0.63638-0.00000j | G_WP_bundle: 0.62920-0.00000j | codiff_mean: 1.46538 | cup_product: 0.63832-0.00000j | loss: 1.13068 | polarisation: 0.01107 | ratio (cy/bundle): 1.01449+0.00000j | symmetry: 0.00106 | transition_loss: 0.00005 | σ_measure: 0.01947\n",
      "Epoch: 10: 100%|\u001b[32m█████████████████████████████████████████████████████████████████████\u001b[0m| 390/390 [01:40<00:00,  3.87it/s, loss: 1.06011]\u001b[0m\n",
      "01:52:25 INFO - callback: [1162.4s]: [VAL] | Iter: 0 | (ξ,ξ) (WP): 0.64965+0.00000j | (∂-bar θ, ∂-bar θ) (WP): 0.02937-0.00000j | G_WP_CY: 0.61836+0.00000j | G_WP_KS: 0.61962-0.00000j | G_WP_bundle: 0.61136+0.00000j | codiff_mean: 1.39068 | cup_product: 0.61836+0.00000j | loss: 1.06617 | polarisation: 0.01010 | ratio (cy/bundle): 1.01144-0.00000j | symmetry: 0.00097 | transition_loss: 0.00005 | σ_measure: 0.01819\n",
      "Epoch: 11: 100%|\u001b[32m█████████████████████████████████████████████████████████████████████\u001b[0m| 390/390 [01:40<00:00,  3.87it/s, loss: 1.03821]\u001b[0m\n",
      "01:54:06 INFO - callback: [1263.3s]: [VAL] | Iter: 0 | (ξ,ξ) (WP): 0.65461-0.00000j | (∂-bar θ, ∂-bar θ) (WP): 0.02989-0.00000j | G_WP_CY: 0.62375+0.00000j | G_WP_KS: 0.61390+0.00000j | G_WP_bundle: 0.61374-0.00000j | codiff_mean: 1.36988 | cup_product: 0.62375+0.00000j | loss: 1.05031 | polarisation: 0.00984 | ratio (cy/bundle): 1.01631+0.00000j | symmetry: 0.00095 | transition_loss: 0.00005 | σ_measure: 0.01947\n",
      "Epoch: 12: 100%|\u001b[32m█████████████████████████████████████████████████████████████████████\u001b[0m| 390/390 [01:40<00:00,  3.87it/s, loss: 1.07280]\u001b[0m\n",
      "01:55:47 INFO - callback: [1364.3s]: [VAL] | Iter: 0 | (ξ,ξ) (WP): 0.65194-0.00000j | (∂-bar θ, ∂-bar θ) (WP): 0.02787+0.00000j | G_WP_CY: 0.62807+0.00000j | G_WP_KS: 0.61242-0.00000j | G_WP_bundle: 0.61929+0.00000j | codiff_mean: 1.39599 | cup_product: 0.62807+0.00000j | loss: 1.07056 | polarisation: 0.00956 | ratio (cy/bundle): 1.01418-0.00000j | symmetry: 0.00091 | transition_loss: 0.00005 | σ_measure: 0.01908\n",
      "Epoch: 13: 100%|\u001b[32m█████████████████████████████████████████████████████████████████████\u001b[0m| 390/390 [01:40<00:00,  3.87it/s, loss: 1.04859]\u001b[0m\n",
      "01:57:28 INFO - callback: [1465.2s]: [VAL] | Iter: 0 | (ξ,ξ) (WP): 0.64845-0.00000j | (∂-bar θ, ∂-bar θ) (WP): 0.02926+0.00000j | G_WP_CY: 0.62445-0.00000j | G_WP_KS: 0.61593+0.00000j | G_WP_bundle: 0.61637-0.00000j | codiff_mean: 1.40128 | cup_product: 0.62445-0.00000j | loss: 1.07634 | polarisation: 0.00971 | ratio (cy/bundle): 1.01310+0.00000j | symmetry: 0.00092 | transition_loss: 0.00005 | σ_measure: 0.01825\n",
      "Epoch: 14: 100%|\u001b[32m█████████████████████████████████████████████████████████████████████\u001b[0m| 390/390 [01:40<00:00,  3.87it/s, loss: 1.09019]\u001b[0m\n",
      "01:59:09 INFO - callback: [1566.2s]: [VAL] | Iter: 0 | (ξ,ξ) (WP): 0.65610-0.00000j | (∂-bar θ, ∂-bar θ) (WP): 0.03142-0.00000j | G_WP_CY: 0.61836+0.00000j | G_WP_KS: 0.61608-0.00000j | G_WP_bundle: 0.60857-0.00000j | codiff_mean: 1.36047 | cup_product: 0.61836+0.00000j | loss: 1.03987 | polarisation: 0.00953 | ratio (cy/bundle): 1.01608+0.00000j | symmetry: 0.00091 | transition_loss: 0.00006 | σ_measure: 0.01945\n",
      "Epoch: 15: 100%|\u001b[32m█████████████████████████████████████████████████████████████████████\u001b[0m| 390/390 [01:40<00:00,  3.87it/s, loss: 1.06560]\u001b[0m\n",
      "02:00:50 INFO - callback: [1667.2s]: [VAL] | Iter: 0 | (ξ,ξ) (WP): 0.67720+0.00000j | (∂-bar θ, ∂-bar θ) (WP): 0.02948+0.00000j | G_WP_CY: 0.64659+0.00000j | G_WP_KS: 0.64040+0.00000j | G_WP_bundle: 0.63683-0.00000j | codiff_mean: 1.40000 | cup_product: 0.64659+0.00000j | loss: 1.08040 | polarisation: 0.00958 | ratio (cy/bundle): 1.01533+0.00000j | symmetry: 0.00092 | transition_loss: 0.00005 | σ_measure: 0.01993\n",
      "Epoch: 16: 100%|\u001b[32m█████████████████████████████████████████████████████████████████████\u001b[0m| 390/390 [01:40<00:00,  3.87it/s, loss: 1.03609]\u001b[0m\n",
      "02:02:31 INFO - callback: [1768.2s]: [VAL] | Iter: 0 | (ξ,ξ) (WP): 0.64030+0.00000j | (∂-bar θ, ∂-bar θ) (WP): 0.03156+0.00000j | G_WP_CY: 0.61426-0.00000j | G_WP_KS: 0.60337-0.00000j | G_WP_bundle: 0.60632+0.00000j | codiff_mean: 1.38137 | cup_product: 0.61426-0.00000j | loss: 1.06687 | polarisation: 0.00986 | ratio (cy/bundle): 1.01311-0.00000j | symmetry: 0.00096 | transition_loss: 0.00005 | σ_measure: 0.01857\n",
      "Epoch: 17: 100%|\u001b[32m█████████████████████████████████████████████████████████████████████\u001b[0m| 390/390 [01:40<00:00,  3.87it/s, loss: 0.99338]\u001b[0m\n",
      "02:04:12 INFO - callback: [1869.2s]: [VAL] | Iter: 0 | (ξ,ξ) (WP): 0.65802+0.00000j | (∂-bar θ, ∂-bar θ) (WP): 0.02865+0.00000j | G_WP_CY: 0.63204+0.00000j | G_WP_KS: 0.62214-0.00000j | G_WP_bundle: 0.62411-0.00000j | codiff_mean: 1.37930 | cup_product: 0.63204+0.00000j | loss: 1.06878 | polarisation: 0.00958 | ratio (cy/bundle): 1.01271+0.00000j | symmetry: 0.00091 | transition_loss: 0.00005 | σ_measure: 0.01913\n",
      "Epoch: 18: 100%|\u001b[32m█████████████████████████████████████████████████████████████████████\u001b[0m| 390/390 [01:40<00:00,  3.87it/s, loss: 1.01701]\u001b[0m\n",
      "02:05:53 INFO - callback: [1970.2s]: [VAL] | Iter: 0 | (ξ,ξ) (WP): 0.61796-0.00000j | (∂-bar θ, ∂-bar θ) (WP): 0.02921-0.00000j | G_WP_CY: 0.59118+0.00000j | G_WP_KS: 0.57942+0.00000j | G_WP_bundle: 0.58548-0.00000j | codiff_mean: 1.31728 | cup_product: 0.59118+0.00000j | loss: 1.00183 | polarisation: 0.00980 | ratio (cy/bundle): 1.00973+0.00000j | symmetry: 0.00094 | transition_loss: 0.00005 | σ_measure: 0.01724\n",
      "Epoch: 19: 100%|\u001b[32m█████████████████████████████████████████████████████████████████████\u001b[0m| 390/390 [01:40<00:00,  3.87it/s, loss: 1.00216]\u001b[0m\n",
      "02:07:34 INFO - callback: [2071.2s]: [VAL] | Iter: 0 | (ξ,ξ) (WP): 0.64213-0.00000j | (∂-bar θ, ∂-bar θ) (WP): 0.02989+0.00000j | G_WP_CY: 0.61464-0.00000j | G_WP_KS: 0.60755-0.00000j | G_WP_bundle: 0.60738+0.00000j | codiff_mean: 1.32584 | cup_product: 0.61464-0.00000j | loss: 1.02613 | polarisation: 0.00982 | ratio (cy/bundle): 1.01196-0.00000j | symmetry: 0.00096 | transition_loss: 0.00005 | σ_measure: 0.01810\n",
      "Epoch: 20: 100%|\u001b[32m█████████████████████████████████████████████████████████████████████\u001b[0m| 390/390 [01:40<00:00,  3.87it/s, loss: 1.01962]\u001b[0m\n",
      "02:09:15 INFO - callback: [2172.1s]: [VAL] | Iter: 0 | (ξ,ξ) (WP): 0.62716-0.00000j | (∂-bar θ, ∂-bar θ) (WP): 0.02933+0.00000j | G_WP_CY: 0.59752+0.00000j | G_WP_KS: 0.59557-0.00000j | G_WP_bundle: 0.59192+0.00000j | codiff_mean: 1.27556 | cup_product: 0.59752+0.00000j | loss: 0.97612 | polarisation: 0.00991 | ratio (cy/bundle): 1.00946-0.00000j | symmetry: 0.00096 | transition_loss: 0.00005 | σ_measure: 0.01766\n",
      "Epoch: 21: 100%|\u001b[32m█████████████████████████████████████████████████████████████████████\u001b[0m| 390/390 [01:40<00:00,  3.87it/s, loss: 1.02322]\u001b[0m\n",
      "02:10:56 INFO - callback: [2273.1s]: [VAL] | Iter: 0 | (ξ,ξ) (WP): 0.67448-0.00000j | (∂-bar θ, ∂-bar θ) (WP): 0.02887+0.00000j | G_WP_CY: 0.64638+0.00000j | G_WP_KS: 0.63972-0.00000j | G_WP_bundle: 0.63736+0.00000j | codiff_mean: 1.36215 | cup_product: 0.64638+0.00000j | loss: 1.07035 | polarisation: 0.01012 | ratio (cy/bundle): 1.01416-0.00000j | symmetry: 0.00096 | transition_loss: 0.00005 | σ_measure: 0.01948\n",
      "Epoch: 22: 100%|\u001b[32m█████████████████████████████████████████████████████████████████████\u001b[0m| 390/390 [01:40<00:00,  3.87it/s, loss: 1.03416]\u001b[0m\n",
      "02:12:37 INFO - callback: [2374.0s]: [VAL] | Iter: 0 | (ξ,ξ) (WP): 0.62302+0.00000j | (∂-bar θ, ∂-bar θ) (WP): 0.02919+0.00000j | G_WP_CY: 0.60546-0.00000j | G_WP_KS: 0.59208+0.00000j | G_WP_bundle: 0.59832-0.00000j | codiff_mean: 1.32265 | cup_product: 0.60546-0.00000j | loss: 1.02585 | polarisation: 0.01016 | ratio (cy/bundle): 1.01192+0.00000j | symmetry: 0.00097 | transition_loss: 0.00005 | σ_measure: 0.01878\n",
      "Epoch: 23: 100%|\u001b[32m█████████████████████████████████████████████████████████████████████\u001b[0m| 390/390 [01:40<00:00,  3.87it/s, loss: 0.93160]\u001b[0m\n"
     ]
    }
   ],
   "source": [
    "with jax.default_device(device):\n",
    "    logger.info(f\"Running on {device}\")\n",
    "    \n",
    "    for epoch in range(config.n_epochs):\n",
    "        val_data = dataloading.get_validation_data(val_loader, config.batch_size, data_val, np_rng)\n",
    "        storage = eta_train.callback(harmonic_wp.loss_breakdown, epoch, t0, 0, val_data, params, config, storage, logger, mode='VAL')\n",
    "        \n",
    "        if epoch > 0:\n",
    "            train_loader = dataloading.data_loader(data_train, config.batch_size, np_rng)\n",
    "    \n",
    "        train_loader_it = tqdm(train_loader, desc=f\"Epoch: {epoch}\", total=data_train[0].shape[0]//config.batch_size,\n",
    "                               colour='green', mininterval=0.1)\n",
    "        for t, data in enumerate(train_loader_it):\n",
    "            params, opt_state, loss = eta_train.train_step(data, params, opt_state, harmonic_wp.objective_function, optimizer)\n",
    "            train_loader_it.set_postfix_str(f\"loss: {loss:.5f}\", refresh=False)\n",
    "\n",
    "utils.basic_ckpt(params, opt_state, config.name, 'FIN')\n",
    "utils.save_logs(storage, config.name, 'FIN')"
   ]
  },
  {
   "cell_type": "markdown",
   "metadata": {},
   "source": [
    "### Sanity check\n",
    "We can plot the evolution of the Laplacian over the optimisation process to check if the resulting ansatz $\\tilde{\\eta}$ is approaching something harmonic. Since the Laplacian is defined as\n",
    "$$\\Delta_g = \\frac{1}{2} \\left( dd^{\\dagger} + d^{\\dagger}d\\right)~, $$\n",
    "we can study the norm of the codifferential, $\\left(d^{\\dagger} \\tilde{\\eta}, d^{\\dagger} \\tilde{\\eta}\\right)_g$ to ensure $\\Delta_g \\tilde{\\eta} \\approx 0$. \n",
    "\n",
    "We can also study the degree to which the polarisation-preserving condition is violated, which follows from harmonicity of $\\eta$, and asserts $\\eta_{\\overline{\\alpha}\\overline{\\nu}} = g_{\\mu \\overline{\\nu}} \\eta^{\\mu}_{\\; \\overline{\\alpha}}$."
   ]
  },
  {
   "cell_type": "code",
   "execution_count": 10,
   "metadata": {},
   "outputs": [],
   "source": [
    "import matplotlib.pyplot as plt\n",
    "from matplotlib.gridspec import GridSpec\n",
    "plt.rcParams.update({'font.size': 14})\n",
    "\n",
    "# remove if no local tex installation\n",
    "plt.rcParams['text.usetex'] = True \n",
    "plt.rcParams['text.latex.preamble'] = r'\\usepackage[cm]{sfmath} \\usepackage{amssymb} \\usepackage{mathrsfs} \\usepackage{amsmath}'\n",
    "plt.rcParams['font.sans-serif'] = 'cm'"
   ]
  },
  {
   "cell_type": "code",
   "execution_count": 15,
   "metadata": {},
   "outputs": [
    {
     "data": {
      "image/png": "[encoded data removed]",
      "text/plain": [
       "<Figure size 1700x700 with 2 Axes>"
      ]
     },
     "metadata": {},
     "output_type": "display_data"
    }
   ],
   "source": [
    "fig = plt.figure(figsize=(17,7))\n",
    "gs=GridSpec(1,2)\n",
    "ax1=fig.add_subplot(gs[0,0])\n",
    "ax2=fig.add_subplot(gs[0,1])\n",
    "\n",
    "S = np.abs(storage['codiff_mean'])\n",
    "n = 32\n",
    "ax1.plot(np.arange(len(S))[:n], np.abs(S)[:n], c='royalblue')\n",
    "ax1.set_xlabel(f'Epochs')\n",
    "ax1.set_ylabel(r'$\\int_X d\\mu_{\\Omega} \\, \\Delta_g \\tilde{\\eta}$')\n",
    "ax1.grid(True, 'both')\n",
    "# ax1.set_yscale('log')\n",
    "\n",
    "R = storage['polarisation']\n",
    "ax2.plot(np.arange(len(R))[:n], np.abs(R)[:n], c='royalblue')\n",
    "ax2.set_xlabel(f'Epochs')\n",
    "ax2.set_ylabel(r'Polarisation violation')\n",
    "ax2.grid(True, 'both')\n",
    "# ax2.set_yscale('log')"
   ]
  },
  {
   "cell_type": "markdown",
   "metadata": {},
   "source": [
    "## Yukawa coupling computation\n",
    "For the particular class of string models we consider, we can calculate physical observables ('Yukawa couplings') via two ways:\n",
    "\n",
    "* A computation from deformation theory, exact up to integration error.\n",
    "* Using the approximate harmonic forms we have just optimised for.\n",
    "\n",
    "The purpose of this experiment is really a sanity check to ensure that our proposed method can generalise to other string models where there is no equivalent of deformation theory applicable, and the approximate harmonic forms are the only avenue for calculation of certain physical observables.\n",
    "We compare above methods below via an evaluation on the validation set."
   ]
  },
  {
   "cell_type": "code",
   "execution_count": 16,
   "metadata": {},
   "outputs": [
    {
     "name": "stdout",
     "output_type": "stream",
     "text": [
      "Dataset size: (200000, 12), meta: 0.5000000\n"
     ]
    }
   ],
   "source": [
    "val_data_batched, psi = dataloading._batch_aux(\n",
    "    \"data/X33_demo/dataset.npz\", 1024, 'x_val',\n",
    "    metadata_key='psi', aux_keys=('y_val',), precision = np.float32)"
   ]
  },
  {
   "cell_type": "code",
   "execution_count": 17,
   "metadata": {},
   "outputs": [],
   "source": [
    "# clunky but gets the job done\n",
    "def normalised_cubic_yukawas_batched(harmonic_wp, params, data_loader):\n",
    "    from cymyc.utils import math_utils\n",
    "    \n",
    "    wp, kappa = 0., 0.\n",
    "    vol_Omega, int_a, int_aa_p_bb = 0., 0., 0.\n",
    "    dQdz_monomials, dQdz_coeffs = harmonic_wp.dQdz_monomials, harmonic_wp.dQdz_coeffs\n",
    "    metric_fn, deformation_fn, pb_fn = harmonic_wp.metric_fn, harmonic_wp.deformation, harmonic_wp.pb_fn\n",
    "    n = 0\n",
    "    for _data in tqdm(zip(*data_loader), total=len(data_loader[0])):\n",
    "        p, aux = _data\n",
    "        p_c = math_utils.to_complex(p)\n",
    "        weights, dVol_Omega = aux[:,0], aux[:,1]\n",
    "        pullbacks = jax.vmap(pb_fn)(math_utils.to_complex(p))\n",
    "        B = p.shape[0]\n",
    "        _data = (p, weights, dVol_Omega)\n",
    "\n",
    "        _vol_Omega, _int_a, _int_aa_p_bb = harmonic_wp._compute_wp_metric_diagonal_batch_i(\n",
    "                                                p_c, weights, pullbacks, dQdz_monomials,\n",
    "                                                dQdz_coeffs, deformation_fn)\n",
    "\n",
    "        vol_Omega = math_utils.online_update(vol_Omega, _vol_Omega, n, B)\n",
    "        int_a = math_utils.online_update(int_a, _int_a, n, B)\n",
    "        int_aa_p_bb = math_utils.online_update(int_aa_p_bb, _int_aa_p_bb, n, B)\n",
    "\n",
    "        # Trilinear coupling\n",
    "        _kappa = harmonic_wp.yukawas(\n",
    "            p_c, dQdz_monomials, dQdz_coeffs, deformation_fn, deformation_fn,\n",
    "            deformation_fn, weights, pullbacks)\n",
    "        kappa = math_utils.online_update(kappa, _kappa, n, B)\n",
    "\n",
    "        _g_pred = jax.vmap(metric_fn)(p)\n",
    "        _eta, *_ = jax.vmap(harmonic_wp.harmonic_rep_breakdown, in_axes=(0,None))(p, params)\n",
    "        _wp = harmonic_wp.inner_product_Hodge(_data, _eta, _g_pred)\n",
    "        wp = math_utils.online_update(wp, _wp, n, B)\n",
    "        n += B\n",
    "\n",
    "    yuk_normalised = jnp.abs(kappa) / (vol_Omega) * wp**(-3/2)\n",
    "    g_wp_KS = -int_aa_p_bb / vol_Omega + (jnp.conjugate(int_a) * int_a) / vol_Omega**2\n",
    "\n",
    "    return {\n",
    "        \"yuk_normalised\":   yuk_normalised,\n",
    "        \"kappa\":            kappa,\n",
    "        \"wp\":               wp,\n",
    "        \"vol_Omega\":        vol_Omega,\n",
    "        \"wp_KS\":            g_wp_KS}"
   ]
  },
  {
   "cell_type": "code",
   "execution_count": 25,
   "metadata": {},
   "outputs": [
    {
     "name": "stderr",
     "output_type": "stream",
     "text": [
      "100%|███████████████████████████████████████████████████████████████████████████████████████████████| 195/195 [00:04<00:00, 45.26it/s]\n"
     ]
    },
    {
     "data": {
      "text/plain": [
       "{'yuk_normalised': Array([[1.05401036-2.11681805e-09j]], dtype=complex128),\n",
       " 'kappa': Array(-0.34893425+0.00036452j, dtype=complex128),\n",
       " 'wp': Array([[0.60348005+8.07998037e-10j]], dtype=complex128),\n",
       " 'vol_Omega': Array(0.7061624, dtype=float32),\n",
       " 'wp_KS': Array(0.60354024-8.16948023e-21j, dtype=complex128)}"
      ]
     },
     "execution_count": 25,
     "metadata": {},
     "output_type": "execute_result"
    }
   ],
   "source": [
    "yukawa_data = normalised_cubic_yukawas_batched(harmonic_wp, params, val_data_batched)\n",
    "yukawa_data"
   ]
  },
  {
   "cell_type": "code",
   "execution_count": 26,
   "metadata": {},
   "outputs": [],
   "source": [
    "yukawa_data = jax.tree_util.tree_map(lambda x: x.item(), yukawa_data)"
   ]
  },
  {
   "cell_type": "code",
   "execution_count": 27,
   "metadata": {},
   "outputs": [
    {
     "name": "stdout",
     "output_type": "stream",
     "text": [
      "Normalized Yukawa coupling λ @ (ψ=0.5) = 1.0540104-0.0000000j\n",
      "Harmonic calculation: WP @ (ψ=0.5) = 0.6034800+0.0000000j\n",
      "Kodaira-Spencer calculation: WP @ (ψ=0.5) = 0.6035402-0.0000000j\n",
      "Relative error in Weil-Petersson metric = 0.0100%\n"
     ]
    }
   ],
   "source": [
    "print(f\"Normalized Yukawa coupling λ @ (ψ={psi}) = {yukawa_data['yuk_normalised']:.07f}\")\n",
    "print(f\"Harmonic calculation: WP @ (ψ={psi}) = {yukawa_data['wp']:.07f}\")\n",
    "print(f\"Kodaira-Spencer calculation: WP @ (ψ={psi}) = {yukawa_data['wp_KS']:.07f}\")\n",
    "print(f\"Relative error in Weil-Petersson metric = {np.abs((yukawa_data['wp'] - yukawa_data['wp_KS'])/yukawa_data['wp_KS'])*100:.04f}%\")"
   ]
  }
 ],
 "metadata": {
  "kernelspec": {
   "display_name": "Python 3 (ipykernel)",
   "language": "python",
   "name": "python3"
  },
  "language_info": {
   "codemirror_mode": {
    "name": "ipython",
    "version": 3
   },
   "file_extension": ".py",
   "mimetype": "text/x-python",
   "name": "python",
   "nbconvert_exporter": "python",
   "pygments_lexer": "ipython3",
   "version": "3.12.2"
  }
 },
 "nbformat": 4,
 "nbformat_minor": 4
}
